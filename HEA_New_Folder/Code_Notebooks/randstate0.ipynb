{
 "cells": [
  {
   "cell_type": "code",
   "execution_count": 1,
   "id": "b2c3df54",
   "metadata": {},
   "outputs": [
    {
     "name": "stdout",
     "output_type": "stream",
     "text": [
      "3.9.6\n"
     ]
    }
   ],
   "source": [
    "from platform import python_version\n",
    "\n",
    "print(python_version())"
   ]
  },
  {
   "cell_type": "markdown",
   "id": "f6141b22",
   "metadata": {},
   "source": [
    "## High Entropy Alloy(HEA) Classifier\n",
    "\n",
    "\n",
    "---\n",
    "This is the first submodule of our work which classifies if the given input is HEA or non-HEA\n"
   ]
  },
  {
   "cell_type": "code",
   "execution_count": 2,
   "id": "f8214433",
   "metadata": {},
   "outputs": [],
   "source": [
    "from sklearn.svm import SVC,NuSVC\n",
    "from sklearn.linear_model import SGDClassifier, LogisticRegression\n",
    "from sklearn.neighbors import KNeighborsClassifier\n",
    "from sklearn.ensemble import RandomForestClassifier, AdaBoostClassifier, GradientBoostingClassifier, ExtraTreesClassifier\n",
    "from xgboost import XGBClassifier\n",
    "from sklearn.tree import DecisionTreeClassifier\n",
    "from sklearn.naive_bayes import GaussianNB\n",
    "from sklearn.model_selection import KFold\n",
    "import numpy as np\n",
    "import pandas as pd\n",
    "from hypopt import GridSearch\n",
    "from sklearn.metrics import roc_auc_score, accuracy_score, precision_score, recall_score, f1_score\n",
    "from sklearn.model_selection import cross_val_score\n",
    "import pickle\n",
    "from sklearn.metrics import mean_squared_error as mse\n",
    "from sklearn.model_selection import cross_validate\n",
    "from sklearn.model_selection import train_test_split\n",
    "\n",
    "# Ignore Warnings\n",
    "import warnings\n",
    "warnings.filterwarnings('ignore')\n",
    "\n",
    "# from google.colab import drive"
   ]
  },
  {
   "cell_type": "markdown",
   "id": "42c18a1c",
   "metadata": {},
   "source": [
    "Loading Dataset for classifier"
   ]
  },
  {
   "cell_type": "code",
   "execution_count": 68,
   "id": "ea27a5d5",
   "metadata": {},
   "outputs": [
    {
     "data": {
      "text/plain": "Index(['Alloy', 'Length', 'HEA/Non-HEA', 'Al', 'Ca', 'Cu', 'Zr', 'Ni', 'Nb',\n       'Ag', 'Mg', 'Gd', 'Au', 'Si', 'Zn', 'Ce', 'Hf', 'Ti', 'Ga', 'Dy', 'Co',\n       'Er', 'Fe', 'Ho', 'La', 'Lu', 'Nd', 'Pr', 'Tb', 'Ta', 'Pd', 'Sm', 'Tm',\n       'Be', 'Mo', 'Li', 'In', 'Mn', 'Sn', 'Sc', 'Yb', 'Cr', 'Pb', 'Ge', 'Pt',\n       'As', 'B', 'Ba', 'Bi', 'Br', 'C', 'Cd', 'Cl', 'Cs', 'Eu', 'F', 'H',\n       'Hg', 'I', 'Ir', 'K', 'N', 'Na', 'Ne', 'Ns', 'O', 'Os', 'P', 'Rb', 'Re',\n       'Rh', 'Ru', 'S', 'Sb', 'Se', 'Sr', 'Te', 'Tl', 'V', 'W', 'Y', 'Tc'],\n      dtype='object')"
     },
     "execution_count": 68,
     "metadata": {},
     "output_type": "execute_result"
    }
   ],
   "source": [
    "main_hea = pd.read_csv(\"../Datasets/Final_HEA_Classifier.csv\")\n",
    "\n",
    "main_hea.columns"
   ]
  },
  {
   "cell_type": "code",
   "execution_count": 69,
   "outputs": [
    {
     "data": {
      "text/plain": "False"
     },
     "execution_count": 69,
     "metadata": {},
     "output_type": "execute_result"
    }
   ],
   "source": [
    "main_hea.isnull().values.any()"
   ],
   "metadata": {
    "collapsed": false
   }
  },
  {
   "cell_type": "markdown",
   "id": "322e30db",
   "metadata": {},
   "source": [
    "Train-Test Split on compiled dataset is shown below and train and test sets are saved as .csv format which can be directly used for loading into models."
   ]
  },
  {
   "cell_type": "code",
   "execution_count": 70,
   "id": "822ad9f8",
   "metadata": {},
   "outputs": [],
   "source": [
    "features = ['Al', 'Ca', 'Cu', 'Zr', 'Ni', 'Nb', 'Ag', 'Mg','Gd', 'Au', 'Si', 'Zn', 'Ce', 'Hf', 'Ti', 'Ga', 'Dy', 'Co', 'Er', 'Fe','Ho', 'La', 'Lu', 'Nd', 'Pr', 'Tb', 'Ta', 'Pd', 'Sm', 'Tm', 'Be', 'Mo','Li', 'In', 'Mn', 'Sn', 'Sc', 'Yb', 'Cr', 'Pb', 'Ge', 'Pt','As', 'B', 'Ba', 'Bi', 'Br', 'C', 'Cd', 'Cl', 'Cs', 'Eu','F', 'H', 'Hg', 'I', 'Ir', 'K', 'N', 'Na', 'Ne', 'Ns', 'O', 'Os', 'P','Rb', 'Re', 'Rh', 'Ru', 'S', 'Sb', 'Se', 'Sr', 'Te', 'Tl', 'V', 'W','Y', 'Tc']\n",
    "X = main_hea[features]#, errors = 'ignore'.astype('float').values\n",
    "y = main_hea['HEA/Non-HEA'].values\n",
    "X_train, X_test, y_train, y_test = train_test_split(X, y, random_state=0, train_size = .70)\n",
    "\n",
    "\n",
    "X_train.to_csv(\"../Datasets/Classifier_sets/random_state_0/Classifier_X_train.csv\", index=False)\n",
    "X_test.to_csv(\"../Datasets/Classifier_sets/random_state_0/Classifier_X_test.csv\", index=False)\n",
    "pd.DataFrame(y_train).to_csv(\"../Datasets/Classifier_sets/random_state_0/Classifier_y_train.csv\", index=False)\n",
    "pd.DataFrame(y_test).to_csv(\"../Datasets/Classifier_sets/random_state_0/Classifier_y_test.csv\", index=False)\n"
   ]
  },
  {
   "cell_type": "code",
   "execution_count": 71,
   "id": "6a72921f",
   "metadata": {},
   "outputs": [
    {
     "name": "stdout",
     "output_type": "stream",
     "text": [
      "<class 'numpy.ndarray'> (1320,)\n"
     ]
    }
   ],
   "source": [
    "print(type(y_train),y_train.shape)"
   ]
  },
  {
   "cell_type": "markdown",
   "id": "04ae488b",
   "metadata": {},
   "source": [
    "Train and Test set feature and label shapes"
   ]
  },
  {
   "cell_type": "code",
   "execution_count": 72,
   "id": "e5fcef70",
   "metadata": {},
   "outputs": [
    {
     "name": "stdout",
     "output_type": "stream",
     "text": [
      "(1320, 79) (1320,) (567, 79) (567,)\n"
     ]
    }
   ],
   "source": [
    "print(X_train.shape, y_train.shape, X_test.shape, y_test.shape)"
   ]
  },
  {
   "cell_type": "markdown",
   "id": "09d10aa4",
   "metadata": {},
   "source": [
    "Logistic Regression"
   ]
  },
  {
   "cell_type": "code",
   "execution_count": 8,
   "id": "298af6cc",
   "metadata": {},
   "outputs": [],
   "source": [
    "penalty = [\"l2\", \"l1\", \"elasticnet\"]\n",
    "intercept_scaling = [x for x in np.arange(0.6,1.4,0.2)]\n",
    "C =  [x for x in np.arange(0,1.2,0.05)] \n",
    "tol = [x for x in np.arange(0,0.004,0.0005)] \n",
    "random_state=[0]\n",
    "\n",
    "random_grid = {'penalty': penalty,\n",
    "               'tol': tol,\n",
    "               'C':C,\n",
    "               'random_state':random_state\n",
    "               }\n",
    "              \n",
    "lr = GridSearch(model = LogisticRegression(),param_grid=random_grid,cv_folds=5)    \n",
    "lr_model = lr.fit(X_train, np.array(y_train))"
   ]
  },
  {
   "cell_type": "code",
   "execution_count": 9,
   "id": "af2cd39b",
   "metadata": {},
   "outputs": [
    {
     "data": {
      "text/plain": "{'C': 0.35000000000000003,\n 'class_weight': None,\n 'dual': False,\n 'fit_intercept': True,\n 'intercept_scaling': 1,\n 'l1_ratio': None,\n 'max_iter': 100,\n 'multi_class': 'auto',\n 'n_jobs': None,\n 'penalty': 'l2',\n 'random_state': 0,\n 'solver': 'lbfgs',\n 'tol': 0.0,\n 'verbose': 0,\n 'warm_start': False}"
     },
     "execution_count": 9,
     "metadata": {},
     "output_type": "execute_result"
    }
   ],
   "source": [
    "lr_model.get_params()"
   ]
  },
  {
   "cell_type": "markdown",
   "id": "747dc10c",
   "metadata": {},
   "source": [
    "Support Vector Classifier(SVC)"
   ]
  },
  {
   "cell_type": "code",
   "execution_count": 10,
   "id": "3cd785f8",
   "metadata": {},
   "outputs": [],
   "source": [
    "kernel = [\"linear\", \"poly\", \"rbf\", \"sigmoid\"] \n",
    "degree = [2,3,4]\n",
    "coef0 = [x for x in np.arange(0,0.5,0.05)]\n",
    "C =  [x for x in np.arange(0,1.2,0.05)]\n",
    "random_state=[0]\n",
    "probability = [True]\n",
    "\n",
    "random_grid = {'kernel': kernel,\n",
    "               'degree': degree,\n",
    "               'coef0':coef0,\n",
    "               'C':C,\n",
    "               'random_state':random_state,\n",
    "               'probability':probability\n",
    "               }\n",
    "             \n",
    "svc = GridSearch(model = SVC(),param_grid=random_grid,cv_folds=5)    \n",
    "svc_model = svc.fit(X_train, np.array(y_train))"
   ]
  },
  {
   "cell_type": "code",
   "execution_count": 11,
   "id": "bd641296",
   "metadata": {},
   "outputs": [
    {
     "data": {
      "text/plain": "{'C': 0.5,\n 'break_ties': False,\n 'cache_size': 200,\n 'class_weight': None,\n 'coef0': 0.05,\n 'decision_function_shape': 'ovr',\n 'degree': 3,\n 'gamma': 'scale',\n 'kernel': 'poly',\n 'max_iter': -1,\n 'probability': True,\n 'random_state': 0,\n 'shrinking': True,\n 'tol': 0.001,\n 'verbose': False}"
     },
     "execution_count": 11,
     "metadata": {},
     "output_type": "execute_result"
    }
   ],
   "source": [
    "svc_model.get_params()"
   ]
  },
  {
   "cell_type": "markdown",
   "id": "41d7d3da",
   "metadata": {},
   "source": [
    "Nu-Support Vector Classifier(NuSVC)"
   ]
  },
  {
   "cell_type": "code",
   "execution_count": 12,
   "id": "bf69c40e",
   "metadata": {},
   "outputs": [],
   "source": [
    "nu = [x for x in np.arange(0,0.7,0.025)] \n",
    "kernel = [\"linear\", \"poly\", \"rbf\", \"sigmoid\"] \n",
    "degree = [2,3,4]\n",
    "coef0 = [x for x in np.arange(0,0.4,0.05)] \n",
    "probability = [True]\n",
    "random_state=[0]\n",
    "\n",
    "random_grid = {'kernel': kernel,\n",
    "               'degree': degree,\n",
    "               'coef0':coef0,\n",
    "               'nu':nu,\n",
    "               'random_state':random_state,\n",
    "               'probability':probability\n",
    "               }\n",
    "              \n",
    "nusvc = GridSearch(model = NuSVC(),param_grid=random_grid,cv_folds=5)    \n",
    "nusvc_model = nusvc.fit(X_train, np.array(y_train))\n"
   ]
  },
  {
   "cell_type": "code",
   "execution_count": 13,
   "id": "02b9ad0f",
   "metadata": {},
   "outputs": [
    {
     "data": {
      "text/plain": "{'break_ties': False,\n 'cache_size': 200,\n 'class_weight': None,\n 'coef0': 0.05,\n 'decision_function_shape': 'ovr',\n 'degree': 3,\n 'gamma': 'scale',\n 'kernel': 'poly',\n 'max_iter': -1,\n 'nu': 0.625,\n 'probability': True,\n 'random_state': 0,\n 'shrinking': True,\n 'tol': 0.001,\n 'verbose': False}"
     },
     "execution_count": 13,
     "metadata": {},
     "output_type": "execute_result"
    }
   ],
   "source": [
    "nusvc_model.get_params()"
   ]
  },
  {
   "cell_type": "markdown",
   "id": "7d711412",
   "metadata": {},
   "source": [
    "Stochastic Gradient Descent(SGD) Classifier"
   ]
  },
  {
   "cell_type": "code",
   "execution_count": 14,
   "id": "47fa8a0a",
   "metadata": {},
   "outputs": [],
   "source": [
    "penalty = [\"l1\", \"l2\",\"elasticnet\"] \n",
    "alpha = [x for x in np.arange(0.0001,0.0002,0.00005)]\n",
    "random_state=[0]\n",
    "loss = ['modified_huber']\n",
    "\n",
    "random_grid = {'penalty': penalty,\n",
    "               'alpha': alpha,\n",
    "               'random_state':random_state,\n",
    "               'loss':loss\n",
    "               }\n",
    "             \n",
    "sgd = GridSearch(model = SGDClassifier(),param_grid=random_grid,cv_folds=5)    \n",
    "sgd_model = sgd.fit(X_train, np.array(y_train))"
   ]
  },
  {
   "cell_type": "code",
   "execution_count": 15,
   "id": "14802c4f",
   "metadata": {},
   "outputs": [
    {
     "data": {
      "text/plain": "{'alpha': 0.0001,\n 'average': False,\n 'class_weight': None,\n 'early_stopping': False,\n 'epsilon': 0.1,\n 'eta0': 0.0,\n 'fit_intercept': True,\n 'l1_ratio': 0.15,\n 'learning_rate': 'optimal',\n 'loss': 'modified_huber',\n 'max_iter': 1000,\n 'n_iter_no_change': 5,\n 'n_jobs': None,\n 'penalty': 'elasticnet',\n 'power_t': 0.5,\n 'random_state': 0,\n 'shuffle': True,\n 'tol': 0.001,\n 'validation_fraction': 0.1,\n 'verbose': 0,\n 'warm_start': False}"
     },
     "execution_count": 15,
     "metadata": {},
     "output_type": "execute_result"
    }
   ],
   "source": [
    "sgd_model.get_params()"
   ]
  },
  {
   "cell_type": "markdown",
   "id": "18e0f700",
   "metadata": {},
   "source": [
    "KNeighbors Classifier"
   ]
  },
  {
   "cell_type": "code",
   "execution_count": 16,
   "id": "6700ee9a",
   "metadata": {},
   "outputs": [],
   "source": [
    "leaf_size = list(range(25,40,2))\n",
    "n_neighbors = list(range(3,12))\n",
    "algorithm = [\"auto\", \"ball_tree\", \"kd_tree\",\"brute\"]\n",
    "p = [1,2]\n",
    "\n",
    "random_grid = {'leaf_size': leaf_size,\n",
    "               'n_neighbors': n_neighbors,\n",
    "               'algorithm':algorithm,\n",
    "               'p':p\n",
    "               }\n",
    "              \n",
    "knc = GridSearch(model = KNeighborsClassifier(),param_grid=random_grid,cv_folds=5)    \n",
    "kneighbors_model = knc.fit(X_train, np.array(y_train))"
   ]
  },
  {
   "cell_type": "code",
   "execution_count": 17,
   "id": "1da5b321",
   "metadata": {},
   "outputs": [
    {
     "data": {
      "text/plain": "{'algorithm': 'auto',\n 'leaf_size': 25,\n 'metric': 'minkowski',\n 'metric_params': None,\n 'n_jobs': None,\n 'n_neighbors': 11,\n 'p': 1,\n 'weights': 'uniform'}"
     },
     "execution_count": 17,
     "metadata": {},
     "output_type": "execute_result"
    }
   ],
   "source": [
    "kneighbors_model.get_params()"
   ]
  },
  {
   "cell_type": "markdown",
   "id": "d106712c",
   "metadata": {},
   "source": [
    "Gradient Boosting Classifier"
   ]
  },
  {
   "cell_type": "code",
   "execution_count": 18,
   "id": "cec5ae9b",
   "metadata": {},
   "outputs": [],
   "source": [
    "n_estimators = list(range(80,105,5))\n",
    "min_samples_split = list(range(2,4)) \n",
    "max_depth = list(range(1,12)) \n",
    "min_samples_leaf = list(range(1,3)) \n",
    "\n",
    "learning_rate = list(np.arange(0,0.35,0.05)) \n",
    "random_state = [0]\n",
    "\n",
    "random_grid = {'n_estimators': n_estimators,\n",
    "               'min_samples_split': min_samples_split,\n",
    "               'max_depth':max_depth,\n",
    "               'min_samples_leaf':min_samples_leaf,\n",
    "               'learning_rate':learning_rate,\n",
    "               'random_state':random_state\n",
    "               }\n",
    "              \n",
    "gbc = GridSearch(model = GradientBoostingClassifier(),param_grid=random_grid,cv_folds=5)    \n",
    "gradientBoosting_model = gbc.fit(X_train, np.array(y_train))"
   ]
  },
  {
   "cell_type": "code",
   "execution_count": 19,
   "id": "a33dc3af",
   "metadata": {},
   "outputs": [
    {
     "data": {
      "text/plain": "{'ccp_alpha': 0.0,\n 'criterion': 'friedman_mse',\n 'init': None,\n 'learning_rate': 0.1,\n 'loss': 'log_loss',\n 'max_depth': 8,\n 'max_features': None,\n 'max_leaf_nodes': None,\n 'min_impurity_decrease': 0.0,\n 'min_samples_leaf': 1,\n 'min_samples_split': 2,\n 'min_weight_fraction_leaf': 0.0,\n 'n_estimators': 100,\n 'n_iter_no_change': None,\n 'random_state': 0,\n 'subsample': 1.0,\n 'tol': 0.0001,\n 'validation_fraction': 0.1,\n 'verbose': 0,\n 'warm_start': False}"
     },
     "execution_count": 19,
     "metadata": {},
     "output_type": "execute_result"
    }
   ],
   "source": [
    "gradientBoosting_model.get_params()"
   ]
  },
  {
   "cell_type": "markdown",
   "id": "2b649b8d",
   "metadata": {},
   "source": [
    "AdaBoost Classifier"
   ]
  },
  {
   "cell_type": "code",
   "execution_count": 20,
   "id": "ace249b5",
   "metadata": {},
   "outputs": [],
   "source": [
    "n_estimators = list(range(40,150,5))\n",
    "learning_rate = list(np.arange(1,3,0.25)) \n",
    "algorithm = ['SAMME','SAMME.R']\n",
    "random_state = [0]\n",
    "\n",
    "random_grid = {'n_estimators': n_estimators,\n",
    "               'learning_rate': learning_rate,\n",
    "               'algorithm':algorithm,\n",
    "               'random_state':random_state\n",
    "               }\n",
    "              \n",
    "abc = GridSearch(model = AdaBoostClassifier(),param_grid=random_grid,cv_folds=5)    \n",
    "AdaBoost_model = abc.fit(X_train, np.array(y_train))"
   ]
  },
  {
   "cell_type": "code",
   "execution_count": 21,
   "id": "04433298",
   "metadata": {},
   "outputs": [
    {
     "data": {
      "text/plain": "{'algorithm': 'SAMME',\n 'base_estimator': 'deprecated',\n 'estimator': None,\n 'learning_rate': 1.75,\n 'n_estimators': 115,\n 'random_state': 0}"
     },
     "execution_count": 21,
     "metadata": {},
     "output_type": "execute_result"
    }
   ],
   "source": [
    "AdaBoost_model.get_params()"
   ]
  },
  {
   "cell_type": "markdown",
   "id": "1e33a2f4",
   "metadata": {},
   "source": [
    "Random Forest Classifier"
   ]
  },
  {
   "cell_type": "code",
   "execution_count": 22,
   "id": "e38483b9",
   "metadata": {},
   "outputs": [],
   "source": [
    "n_estimators = list(range(70,130,5))\n",
    "min_samples_split = list(range(2,4)) \n",
    "max_depth = list(range(1,15))\n",
    "max_features = [\"auto\", \"sqrt\", \"log2\"]\n",
    "random_state = [0]\n",
    "\n",
    "random_grid = {'n_estimators': n_estimators,\n",
    "               'min_samples_split': min_samples_split,\n",
    "               'max_depth':max_depth,\n",
    "               'max_features':max_features,\n",
    "               'random_state':random_state\n",
    "               }\n",
    "              \n",
    "rfc = GridSearch(model = RandomForestClassifier(),param_grid=random_grid,cv_folds=5)    \n",
    "RFC_model = rfc.fit(X_train, np.array(y_train))"
   ]
  },
  {
   "cell_type": "code",
   "execution_count": 23,
   "id": "fa6ed7e7",
   "metadata": {},
   "outputs": [
    {
     "data": {
      "text/plain": "{'bootstrap': True,\n 'ccp_alpha': 0.0,\n 'class_weight': None,\n 'criterion': 'gini',\n 'max_depth': 14,\n 'max_features': 'auto',\n 'max_leaf_nodes': None,\n 'max_samples': None,\n 'min_impurity_decrease': 0.0,\n 'min_samples_leaf': 1,\n 'min_samples_split': 3,\n 'min_weight_fraction_leaf': 0.0,\n 'n_estimators': 70,\n 'n_jobs': None,\n 'oob_score': False,\n 'random_state': 0,\n 'verbose': 0,\n 'warm_start': False}"
     },
     "execution_count": 23,
     "metadata": {},
     "output_type": "execute_result"
    }
   ],
   "source": [
    "RFC_model.get_params()"
   ]
  },
  {
   "cell_type": "markdown",
   "id": "f570db8c",
   "metadata": {},
   "source": [
    "Extreme Gradient Boosting (XGB) Classifier"
   ]
  },
  {
   "cell_type": "code",
   "execution_count": 24,
   "id": "ff1a706e",
   "metadata": {},
   "outputs": [],
   "source": [
    "booster = ['gbtree', 'gblinear', 'dart']\n",
    "eta = list(np.arange(0,1, 0.05)) \n",
    "max_depth = list(range(3,10)) \n",
    "\n",
    "random_grid = {'booster': booster,\n",
    "               'eta': eta,\n",
    "               'max_depth':max_depth\n",
    "               }\n",
    "              \n",
    "xgbc = GridSearch(model = XGBClassifier(),param_grid=random_grid,cv_folds=5)    \n",
    "XGB_Classifier_model = xgbc.fit(X_train, np.array(y_train))"
   ]
  },
  {
   "cell_type": "code",
   "execution_count": 25,
   "id": "7a23ce7f",
   "metadata": {},
   "outputs": [
    {
     "data": {
      "text/plain": "{'objective': 'binary:logistic',\n 'use_label_encoder': None,\n 'base_score': None,\n 'booster': 'gbtree',\n 'callbacks': None,\n 'colsample_bylevel': None,\n 'colsample_bynode': None,\n 'colsample_bytree': None,\n 'early_stopping_rounds': None,\n 'enable_categorical': False,\n 'eval_metric': None,\n 'feature_types': None,\n 'gamma': None,\n 'gpu_id': None,\n 'grow_policy': None,\n 'importance_type': None,\n 'interaction_constraints': None,\n 'learning_rate': None,\n 'max_bin': None,\n 'max_cat_threshold': None,\n 'max_cat_to_onehot': None,\n 'max_delta_step': None,\n 'max_depth': 7,\n 'max_leaves': None,\n 'min_child_weight': None,\n 'missing': nan,\n 'monotone_constraints': None,\n 'n_estimators': 100,\n 'n_jobs': None,\n 'num_parallel_tree': None,\n 'predictor': None,\n 'random_state': None,\n 'reg_alpha': None,\n 'reg_lambda': None,\n 'sampling_method': None,\n 'scale_pos_weight': None,\n 'subsample': None,\n 'tree_method': None,\n 'validate_parameters': None,\n 'verbosity': None,\n 'eta': 0.75}"
     },
     "execution_count": 25,
     "metadata": {},
     "output_type": "execute_result"
    }
   ],
   "source": [
    "XGB_Classifier_model.get_params()"
   ]
  },
  {
   "cell_type": "markdown",
   "id": "74c88bb2",
   "metadata": {},
   "source": [
    "Decision Tree Classifier"
   ]
  },
  {
   "cell_type": "code",
   "execution_count": 26,
   "id": "4a35b108",
   "metadata": {},
   "outputs": [],
   "source": [
    "min_samples_split = list(range(2,5)) \n",
    "max_depth = list(range(1,15)) \n",
    "min_samples_leaf = list(range(1,3)) \n",
    "max_features = [\"auto\", \"sqrt\", \"log2\"]\n",
    "random_state = [0]\n",
    "\n",
    "random_grid = {\n",
    "               'min_samples_split': min_samples_split,\n",
    "               'max_depth':max_depth,\n",
    "               'min_samples_leaf':min_samples_leaf,\n",
    "               'max_features':max_features,\n",
    "               'random_state':random_state\n",
    "               }\n",
    "         \n",
    "dtc = GridSearch(model = DecisionTreeClassifier(),param_grid=random_grid,cv_folds=5)    \n",
    "DTC_model = dtc.fit(X_train, np.array(y_train))"
   ]
  },
  {
   "cell_type": "code",
   "execution_count": 27,
   "id": "c8a745b1",
   "metadata": {},
   "outputs": [
    {
     "data": {
      "text/plain": "{'ccp_alpha': 0.0,\n 'class_weight': None,\n 'criterion': 'gini',\n 'max_depth': 11,\n 'max_features': 'auto',\n 'max_leaf_nodes': None,\n 'min_impurity_decrease': 0.0,\n 'min_samples_leaf': 1,\n 'min_samples_split': 3,\n 'min_weight_fraction_leaf': 0.0,\n 'random_state': 0,\n 'splitter': 'best'}"
     },
     "execution_count": 27,
     "metadata": {},
     "output_type": "execute_result"
    }
   ],
   "source": [
    "DTC_model.get_params()"
   ]
  },
  {
   "cell_type": "markdown",
   "id": "b5821cbd",
   "metadata": {},
   "source": [
    "Extra Trees Classifier"
   ]
  },
  {
   "cell_type": "code",
   "execution_count": 28,
   "id": "3395fdab",
   "metadata": {},
   "outputs": [],
   "source": [
    "n_estimators = list(range(70,130,5))\n",
    "min_samples_split = list(range(2,5)) \n",
    "max_depth = list(range(1,12)) \n",
    "min_samples_leaf = list(range(1,3)) \n",
    "max_features = [\"auto\", \"sqrt\", \"log2\"]\n",
    "random_state = [0]\n",
    "\n",
    "random_grid = {\n",
    "               'n_estimators':n_estimators,\n",
    "               'min_samples_split': min_samples_split,\n",
    "               'max_depth':max_depth,\n",
    "               'min_samples_leaf':min_samples_leaf,\n",
    "               'max_features':max_features,\n",
    "               'random_state':random_state\n",
    "               }\n",
    "              \n",
    "etc = GridSearch(model = ExtraTreesClassifier(),param_grid=random_grid,cv_folds=5)    \n",
    "ExtraTreesClassifier_model = etc.fit(X_train, np.array(y_train))"
   ]
  },
  {
   "cell_type": "code",
   "execution_count": 29,
   "id": "b246787a",
   "metadata": {},
   "outputs": [
    {
     "data": {
      "text/plain": "{'bootstrap': False,\n 'ccp_alpha': 0.0,\n 'class_weight': None,\n 'criterion': 'gini',\n 'max_depth': 10,\n 'max_features': 'log2',\n 'max_leaf_nodes': None,\n 'max_samples': None,\n 'min_impurity_decrease': 0.0,\n 'min_samples_leaf': 1,\n 'min_samples_split': 3,\n 'min_weight_fraction_leaf': 0.0,\n 'n_estimators': 110,\n 'n_jobs': None,\n 'oob_score': False,\n 'random_state': 0,\n 'verbose': 0,\n 'warm_start': False}"
     },
     "execution_count": 29,
     "metadata": {},
     "output_type": "execute_result"
    }
   ],
   "source": [
    "ExtraTreesClassifier_model.get_params()"
   ]
  },
  {
   "cell_type": "markdown",
   "id": "04132761",
   "metadata": {},
   "source": [
    "Gaussian Naive Bayes(GaussianNB) Classifier"
   ]
  },
  {
   "cell_type": "code",
   "execution_count": 30,
   "id": "3c235c41",
   "metadata": {},
   "outputs": [],
   "source": [
    "var_smoothing = [x for x in np.arange(0.0000000005,0.000000003,0.0000000005)]\n",
    "\n",
    "random_grid = {\n",
    "               'var_smoothing':var_smoothing\n",
    "               }\n",
    "\n",
    "gnb = GridSearch(model = GaussianNB(),param_grid=random_grid,cv_folds=5)    \n",
    "GaussianNB_model = gnb.fit(X_train, np.array(y_train))"
   ]
  },
  {
   "cell_type": "code",
   "execution_count": 31,
   "id": "516dc2d2",
   "metadata": {},
   "outputs": [
    {
     "data": {
      "text/plain": "{'priors': None, 'var_smoothing': 5e-10}"
     },
     "execution_count": 31,
     "metadata": {},
     "output_type": "execute_result"
    }
   ],
   "source": [
    "GaussianNB_model.get_params()"
   ]
  },
  {
   "cell_type": "markdown",
   "id": "e0108fa2",
   "metadata": {},
   "source": [
    "Saving Models"
   ]
  },
  {
   "cell_type": "code",
   "execution_count": 32,
   "id": "b6a0c981",
   "metadata": {},
   "outputs": [],
   "source": [
    "filename = '../Saved Models/Classifier Models/random_state_0/classifier_logistic_regression.sav'\n",
    "pickle.dump(lr_model, open(filename, 'wb'))\n",
    "filename = '../Saved Models/Classifier Models/random_state_0/classifier_SVC.sav'\n",
    "pickle.dump(svc_model, open(filename, 'wb'))\n",
    "filename = '../Saved Models/Classifier Models/random_state_0/classifier_NuSVC.sav'\n",
    "pickle.dump(nusvc_model, open(filename, 'wb'))\n",
    "filename = '../Saved Models/Classifier Models/random_state_0/classifier_SGD.sav'\n",
    "pickle.dump(sgd_model, open(filename, 'wb'))\n",
    "filename = '../Saved Models/Classifier Models/random_state_0/classifier_kneighbors.sav'\n",
    "pickle.dump(kneighbors_model, open(filename, 'wb'))\n",
    "filename = '../Saved Models/Classifier Models/random_state_0/classifier_gradientBoosting.sav'\n",
    "pickle.dump(gradientBoosting_model, open(filename, 'wb'))\n",
    "filename = '../Saved Models/Classifier Models/random_state_0/classifier_adaBoosting.sav'\n",
    "pickle.dump(AdaBoost_model, open(filename, 'wb'))\n",
    "filename = '../Saved Models/Classifier Models/random_state_0/classifier_randomForestClassifier.sav'\n",
    "pickle.dump(RFC_model, open(filename, 'wb'))\n",
    "filename = '../Saved Models/Classifier Models/random_state_0/classifier_XGB_Classifier.sav'\n",
    "pickle.dump(XGB_Classifier_model, open(filename, 'wb'))\n",
    "filename = '../Saved Models/Classifier Models/random_state_0/classifier_DecisionTree_Classifier.sav'\n",
    "pickle.dump(DTC_model, open(filename, 'wb'))\n",
    "filename = '../Saved Models/Classifier Models/random_state_0/classifier_ExtraTreesClassifier.sav'\n",
    "pickle.dump(ExtraTreesClassifier_model, open(filename, 'wb'))\n",
    "filename = '../Saved Models/Classifier Models/random_state_0/classifier_GaussianNB.sav'\n",
    "pickle.dump(GaussianNB_model, open(filename, 'wb'))"
   ]
  },
  {
   "cell_type": "markdown",
   "id": "02980425",
   "metadata": {},
   "source": [
    "Computing Metrics"
   ]
  },
  {
   "cell_type": "code",
   "execution_count": 33,
   "id": "66f59769",
   "metadata": {},
   "outputs": [],
   "source": [
    "# Logistic Regression Metrics\n",
    "train_pred = lr_model.predict(X_train)\n",
    "test_pred = lr_model.predict(X_test)\n",
    "\n",
    "lr_Accuracy_Train = accuracy_score(np.array(y_train), train_pred)\n",
    "lr_Accuracy_Test = accuracy_score(np.array(y_test), test_pred)\n",
    "\n",
    "lr_Precision_Train = precision_score(np.array(y_train), train_pred)\n",
    "lr_Precision_Test = precision_score(np.array(y_test), test_pred)\n",
    "\n",
    "lr_Recall_Train = recall_score(np.array(y_train), train_pred)\n",
    "lr_Recall_Test = recall_score(np.array(y_test), test_pred)\n",
    "\n",
    "lr_f1_score_Train = f1_score(np.array(y_train), train_pred)\n",
    "lr_f1_score_Test = f1_score(np.array(y_test), test_pred)\n",
    "\n",
    "lr_ROC_AUC_Score_Train = roc_auc_score(np.array(y_train), train_pred)\n",
    "lr_ROC_AUC_Score_Test = roc_auc_score(np.array(y_test), test_pred)\n",
    "\n",
    "lr_cross_val_score_Train = list(cross_val_score(lr_model, X_train, np.array(y_train), cv=KFold(n_splits=5,shuffle=True)) )\n",
    "\n",
    "# Support Vector Classifier Metrics\n",
    "train_pred = svc_model.predict(X_train)\n",
    "test_pred = svc_model.predict(X_test)\n",
    "\n",
    "svc_Accuracy_Train = accuracy_score(np.array(y_train), train_pred)\n",
    "svc_Accuracy_Test = accuracy_score(np.array(y_test), test_pred)\n",
    "\n",
    "svc_Precision_Train = precision_score(np.array(y_train), train_pred)\n",
    "svc_Precision_Test = precision_score(np.array(y_test), test_pred)\n",
    "\n",
    "svc_Recall_Train = recall_score(np.array(y_train), train_pred)\n",
    "svc_Recall_Test = recall_score(np.array(y_test), test_pred)\n",
    "\n",
    "svc_f1_score_Train = f1_score(np.array(y_train), train_pred)\n",
    "svc_f1_score_Test = f1_score(np.array(y_test), test_pred)\n",
    "\n",
    "svc_ROC_AUC_Score_Train = roc_auc_score(np.array(y_train), train_pred)\n",
    "svc_ROC_AUC_Score_Test = roc_auc_score(np.array(y_test), test_pred)\n",
    "\n",
    "svc_cross_val_score_Train = list(cross_val_score(svc_model, X_train, np.array(y_train), cv=KFold(n_splits=5,shuffle=True)) )\n",
    "\n",
    "\n",
    "# NuSVC Metrics\n",
    "train_pred = nusvc_model.predict(X_train)\n",
    "test_pred = nusvc_model.predict(X_test)\n",
    "\n",
    "nusvc_Accuracy_Train = accuracy_score(np.array(y_train), train_pred)\n",
    "nusvc_Accuracy_Test = accuracy_score(np.array(y_test), test_pred)\n",
    "\n",
    "nusvc_Precision_Train = precision_score(np.array(y_train), train_pred)\n",
    "nusvc_Precision_Test = precision_score(np.array(y_test), test_pred)\n",
    "\n",
    "nusvc_Recall_Train = recall_score(np.array(y_train), train_pred)\n",
    "nusvc_Recall_Test = recall_score(np.array(y_test), test_pred)\n",
    "\n",
    "nusvc_f1_score_Train = f1_score(np.array(y_train), train_pred)\n",
    "nusvc_f1_score_Test = f1_score(np.array(y_test), test_pred)\n",
    "\n",
    "nusvc_ROC_AUC_Score_Train = roc_auc_score(np.array(y_train), train_pred)\n",
    "nusvc_ROC_AUC_Score_Test = roc_auc_score(np.array(y_test), test_pred)\n",
    "\n",
    "nusvc_cross_val_score_Train = list(cross_val_score(nusvc_model, X_train, np.array(y_train), cv=KFold(n_splits=5,shuffle=True)) )\n",
    "\n",
    "\n",
    "# Stochastic Gradient Descent Metrics\n",
    "train_pred = sgd_model.predict(X_train)\n",
    "test_pred = sgd_model.predict(X_test)\n",
    "\n",
    "sgd_Accuracy_Train = accuracy_score(np.array(y_train), train_pred)\n",
    "sgd_Accuracy_Test = accuracy_score(np.array(y_test), test_pred)\n",
    "\n",
    "sgd_Precision_Train = precision_score(np.array(y_train), train_pred)\n",
    "sgd_Precision_Test = precision_score(np.array(y_test), test_pred)\n",
    "\n",
    "sgd_Recall_Train = recall_score(np.array(y_train), train_pred)\n",
    "sgd_Recall_Test = recall_score(np.array(y_test), test_pred)\n",
    "\n",
    "sgd_f1_score_Train = f1_score(np.array(y_train), train_pred)\n",
    "sgd_f1_score_Test = f1_score(np.array(y_test), test_pred)\n",
    "\n",
    "sgd_ROC_AUC_Score_Train = roc_auc_score(np.array(y_train), train_pred)\n",
    "sgd_ROC_AUC_Score_Test = roc_auc_score(np.array(y_test), test_pred)\n",
    "\n",
    "sgd_cross_val_score_Train = list(cross_val_score(sgd_model, X_train, np.array(y_train), cv=KFold(n_splits=5,shuffle=True)) )\n",
    "\n",
    "\n",
    "# KNeighbors Metrics\n",
    "train_pred = kneighbors_model.predict(X_train)\n",
    "test_pred = kneighbors_model.predict(X_test)\n",
    "\n",
    "knc_Accuracy_Train = accuracy_score(np.array(y_train), train_pred)\n",
    "knc_Accuracy_Test = accuracy_score(np.array(y_test), test_pred)\n",
    "\n",
    "knc_Precision_Train = precision_score(np.array(y_train), train_pred)\n",
    "knc_Precision_Test = precision_score(np.array(y_test), test_pred)\n",
    "\n",
    "knc_Recall_Train = recall_score(np.array(y_train), train_pred)\n",
    "knc_Recall_Test = recall_score(np.array(y_test), test_pred)\n",
    "\n",
    "knc_f1_score_Train = f1_score(np.array(y_train), train_pred)\n",
    "knc_f1_score_Test = f1_score(np.array(y_test), test_pred)\n",
    "\n",
    "knc_ROC_AUC_Score_Train = roc_auc_score(np.array(y_train), train_pred)\n",
    "knc_ROC_AUC_Score_Test = roc_auc_score(np.array(y_test), test_pred)\n",
    "\n",
    "knc_cross_val_score_Train = list(cross_val_score(kneighbors_model, X_train, np.array(y_train), cv=KFold(n_splits=5,shuffle=True)) )\n",
    "\n",
    "\n",
    "#Gradient Boosting Metrics\n",
    "train_pred = gradientBoosting_model.predict(X_train)\n",
    "test_pred = gradientBoosting_model.predict(X_test)\n",
    "\n",
    "gbc_Accuracy_Train = accuracy_score(np.array(y_train), train_pred)\n",
    "gbc_Accuracy_Test = accuracy_score(np.array(y_test), test_pred)\n",
    "\n",
    "gbc_Precision_Train = precision_score(np.array(y_train), train_pred)\n",
    "gbc_Precision_Test = precision_score(np.array(y_test), test_pred)\n",
    "\n",
    "gbc_Recall_Train = recall_score(np.array(y_train), train_pred)\n",
    "gbc_Recall_Test = recall_score(np.array(y_test), test_pred)\n",
    "\n",
    "gbc_f1_score_Train = f1_score(np.array(y_train), train_pred)\n",
    "gbc_f1_score_Test = f1_score(np.array(y_test), test_pred)\n",
    "\n",
    "gbc_ROC_AUC_Score_Train = roc_auc_score(np.array(y_train), train_pred)\n",
    "gbc_ROC_AUC_Score_Test = roc_auc_score(np.array(y_test), test_pred)\n",
    "\n",
    "gbc_cross_val_score_Train = list(cross_val_score(gradientBoosting_model, X_train, np.array(y_train), cv=KFold(n_splits=5,shuffle=True)) )\n",
    "\n",
    "\n",
    "# AdaBoost Metrics\n",
    "train_pred = AdaBoost_model.predict(X_train)\n",
    "test_pred = AdaBoost_model.predict(X_test)\n",
    "\n",
    "abc_Accuracy_Train = accuracy_score(np.array(y_train), train_pred)\n",
    "abc_Accuracy_Test = accuracy_score(np.array(y_test), test_pred)\n",
    "\n",
    "abc_Precision_Train = precision_score(np.array(y_train), train_pred)\n",
    "abc_Precision_Test = precision_score(np.array(y_test), test_pred)\n",
    "\n",
    "abc_Recall_Train = recall_score(np.array(y_train), train_pred)\n",
    "abc_Recall_Test = recall_score(np.array(y_test), test_pred)\n",
    "\n",
    "abc_f1_score_Train = f1_score(np.array(y_train), train_pred)\n",
    "abc_f1_score_Test = f1_score(np.array(y_test), test_pred)\n",
    "\n",
    "abc_ROC_AUC_Score_Train = roc_auc_score(np.array(y_train), train_pred)\n",
    "abc_ROC_AUC_Score_Test = roc_auc_score(np.array(y_test), test_pred)\n",
    "\n",
    "abc_cross_val_score_Train = list(cross_val_score(AdaBoost_model, X_train, np.array(y_train), cv=KFold(n_splits=5,shuffle=True)) )\n",
    "\n",
    "\n",
    "# Random Forest Metrics\n",
    "train_pred = RFC_model.predict(X_train)\n",
    "test_pred = RFC_model.predict(X_test)\n",
    "\n",
    "rfc_Accuracy_Train = accuracy_score(np.array(y_train), train_pred)\n",
    "rfc_Accuracy_Test = accuracy_score(np.array(y_test), test_pred)\n",
    "\n",
    "rfc_Precision_Train = precision_score(np.array(y_train), train_pred)\n",
    "rfc_Precision_Test = precision_score(np.array(y_test), test_pred)\n",
    "\n",
    "rfc_Recall_Train = recall_score(np.array(y_train), train_pred)\n",
    "rfc_Recall_Test = recall_score(np.array(y_test), test_pred)\n",
    "\n",
    "rfc_f1_score_Train = f1_score(np.array(y_train), train_pred)\n",
    "rfc_f1_score_Test = f1_score(np.array(y_test), test_pred)\n",
    "\n",
    "rfc_ROC_AUC_Score_Train = roc_auc_score(np.array(y_train), train_pred)\n",
    "rfc_ROC_AUC_Score_Test = roc_auc_score(np.array(y_test), test_pred)\n",
    "\n",
    "rfc_cross_val_score_Train = list(cross_val_score(RFC_model, X_train, np.array(y_train), cv=KFold(n_splits=5,shuffle=True)) )\n",
    "\n",
    "\n",
    "# Extreme Gradient Boosting Metrics\n",
    "train_pred = XGB_Classifier_model.predict(X_train)\n",
    "test_pred = XGB_Classifier_model.predict(X_test)\n",
    "\n",
    "xgbc_Accuracy_Train = accuracy_score(np.array(y_train), train_pred)\n",
    "xgbc_Accuracy_Test = accuracy_score(np.array(y_test), test_pred)\n",
    "\n",
    "xgbc_Precision_Train = precision_score(np.array(y_train), train_pred)\n",
    "xgbc_Precision_Test = precision_score(np.array(y_test), test_pred)\n",
    "\n",
    "xgbc_Recall_Train = recall_score(np.array(y_train), train_pred)\n",
    "xgbc_Recall_Test = recall_score(np.array(y_test), test_pred)\n",
    "\n",
    "xgbc_f1_score_Train = f1_score(np.array(y_train), train_pred)\n",
    "xgbc_f1_score_Test = f1_score(np.array(y_test), test_pred)\n",
    "\n",
    "xgbc_ROC_AUC_Score_Train = roc_auc_score(np.array(y_train), train_pred)\n",
    "xgbc_ROC_AUC_Score_Test = roc_auc_score(np.array(y_test), test_pred)\n",
    "\n",
    "xgbc_cross_val_score_Train = list(cross_val_score(XGB_Classifier_model, X_train, np.array(y_train), cv=KFold(n_splits=5,shuffle=True)) )\n",
    "\n",
    "\n",
    "# Decision Tree Metrics\n",
    "train_pred = DTC_model.predict(X_train)\n",
    "test_pred = DTC_model.predict(X_test)\n",
    "\n",
    "dtc_Accuracy_Train = accuracy_score(np.array(y_train), train_pred)\n",
    "dtc_Accuracy_Test = accuracy_score(np.array(y_test), test_pred)\n",
    "\n",
    "dtc_Precision_Train = precision_score(np.array(y_train), train_pred)\n",
    "dtc_Precision_Test = precision_score(np.array(y_test), test_pred)\n",
    "\n",
    "dtc_Recall_Train = recall_score(np.array(y_train), train_pred)\n",
    "dtc_Recall_Test = recall_score(np.array(y_test), test_pred)\n",
    "\n",
    "dtc_f1_score_Train = f1_score(np.array(y_train), train_pred)\n",
    "dtc_f1_score_Test = f1_score(np.array(y_test), test_pred)\n",
    "\n",
    "dtc_ROC_AUC_Score_Train = roc_auc_score(np.array(y_train), train_pred)\n",
    "dtc_ROC_AUC_Score_Test = roc_auc_score(np.array(y_test), test_pred)\n",
    "\n",
    "dtc_cross_val_score_Train = list(cross_val_score(DTC_model, X_train, np.array(y_train), cv=KFold(n_splits=5,shuffle=True)) )\n",
    "\n",
    "\n",
    "#Extra Trees Classifier Metrics\n",
    "train_pred = ExtraTreesClassifier_model.predict(X_train)\n",
    "test_pred = ExtraTreesClassifier_model.predict(X_test)\n",
    "\n",
    "etc_Accuracy_Train = accuracy_score(np.array(y_train), train_pred)\n",
    "etc_Accuracy_Test = accuracy_score(np.array(y_test), test_pred)\n",
    "\n",
    "etc_Precision_Train = precision_score(np.array(y_train), train_pred)\n",
    "etc_Precision_Test = precision_score(np.array(y_test), test_pred)\n",
    "\n",
    "etc_Recall_Train = recall_score(np.array(y_train), train_pred)\n",
    "etc_Recall_Test = recall_score(np.array(y_test), test_pred)\n",
    "\n",
    "etc_f1_score_Train = f1_score(np.array(y_train), train_pred)\n",
    "etc_f1_score_Test = f1_score(np.array(y_test), test_pred)\n",
    "\n",
    "etc_ROC_AUC_Score_Train = roc_auc_score(np.array(y_train), train_pred)\n",
    "etc_ROC_AUC_Score_Test = roc_auc_score(np.array(y_test), test_pred)\n",
    "\n",
    "etc_cross_val_score_Train = list(cross_val_score(ExtraTreesClassifier_model, X_train, np.array(y_train), cv=KFold(n_splits=5,shuffle=True)) )\n",
    "\n",
    "\n",
    "#GaussianNB Metrics\n",
    "\n",
    "train_pred = GaussianNB_model.predict(X_train)\n",
    "test_pred = GaussianNB_model.predict(X_test)\n",
    "\n",
    "gnb_Accuracy_Train = accuracy_score(np.array(y_train), train_pred)\n",
    "gnb_Accuracy_Test = accuracy_score(np.array(y_test), test_pred)\n",
    "\n",
    "gnb_Precision_Train = precision_score(np.array(y_train), train_pred)\n",
    "gnb_Precision_Test = precision_score(np.array(y_test), test_pred)\n",
    "\n",
    "gnb_Recall_Train = recall_score(np.array(y_train), train_pred)\n",
    "gnb_Recall_Test = recall_score(np.array(y_test), test_pred)\n",
    "\n",
    "gnb_f1_score_Train = f1_score(np.array(y_train), train_pred)\n",
    "gnb_f1_score_Test = f1_score(np.array(y_test), test_pred)\n",
    "\n",
    "gnb_ROC_AUC_Score_Train = roc_auc_score(np.array(y_train), train_pred)\n",
    "gnb_ROC_AUC_Score_Test = roc_auc_score(np.array(y_test), test_pred)\n",
    "\n",
    "gnb_cross_val_score_Train = list(cross_val_score(GaussianNB_model, X_train, np.array(y_train), cv=KFold(n_splits=5,shuffle=True)) )"
   ]
  },
  {
   "cell_type": "code",
   "execution_count": 34,
   "id": "94630a81",
   "metadata": {
    "scrolled": true
   },
   "outputs": [
    {
     "data": {
      "text/plain": "                           Model  Train Accuracy  Test Accuracy  \\\n1      Support Vector Classifier        0.870455       0.783069   \n2                          NuSVC        0.868182       0.781305   \n8                 XGB Classifier        0.991667       0.774250   \n5   Gradient Boosting Classifier        0.987121       0.770723   \n4          KNeighbors Classifier        0.801515       0.761905   \n7       Random Forest Classifier        0.933333       0.761905   \n10        Extra Trees Classifier        0.871970       0.738977   \n6            Adaboost Classifier        0.756818       0.723104   \n0            Logistic Regression        0.710606       0.691358   \n3                 SGD Classifier        0.701515       0.657848   \n9       Decision Tree Classifier        0.690152       0.650794   \n11          Gaussian Naive Bayes        0.483333       0.455026   \n\n    Train Precision  Test Precision  Train Recall  Test Recall  \\\n1          0.870567        0.759091      0.833616     0.704641   \n2          0.872531        0.760369      0.825127     0.696203   \n8          0.989831        0.746606      0.991511     0.696203   \n5          0.986395        0.731602      0.984720     0.713080   \n4          0.805607        0.738318      0.731749     0.666667   \n7          0.957952        0.747573      0.889643     0.649789   \n10         0.960526        0.743169      0.743633     0.573840   \n6          0.753788        0.673913      0.675722     0.654008   \n0          0.728477        0.659794      0.560272     0.540084   \n3          0.659054        0.581749      0.685908     0.645570   \n9          0.617188        0.558559      0.804754     0.784810   \n11         0.463299        0.433333      0.996604     0.987342   \n\n    Train F1_score  Test F1_score  Train AUC_ROC  Test AUC_ROC  \\\n1         0.851691       0.730853       0.866877      0.772018   \n2         0.848168       0.726872       0.864000      0.769313   \n8         0.990670       0.720524       0.991652      0.763253   \n5         0.985556       0.722222       0.986888      0.762601   \n4         0.766904       0.700665       0.794739      0.748485   \n7         0.922535       0.695260       0.929090      0.746107   \n10        0.838278       0.647619       0.859505      0.715708   \n6         0.712623       0.663812       0.748941      0.713368   \n0         0.633397       0.593968       0.696004      0.670042   \n3         0.672213       0.612000       0.699999      0.656118   \n9         0.698600       0.652632       0.701283      0.669678   \n11        0.632543       0.602317       0.533186      0.530035   \n\n                 Cross_Validation_Scores_for_trainset  \n1   [0.75, 0.7992424242424242, 0.7916666666666666,...  \n2   [0.7651515151515151, 0.7689393939393939, 0.814...  \n8   [0.7803030303030303, 0.7575757575757576, 0.806...  \n5   [0.7765151515151515, 0.75, 0.7613636363636364,...  \n4   [0.7727272727272727, 0.7575757575757576, 0.753...  \n7   [0.7916666666666666, 0.7613636363636364, 0.746...  \n10  [0.7765151515151515, 0.7992424242424242, 0.746...  \n6   [0.7234848484848485, 0.7310606060606061, 0.681...  \n0   [0.6590909090909091, 0.7386363636363636, 0.696...  \n3   [0.6856060606060606, 0.6818181818181818, 0.617...  \n9   [0.7045454545454546, 0.6401515151515151, 0.632...  \n11  [0.4734848484848485, 0.44696969696969696, 0.51...  ",
      "text/html": "<div>\n<style scoped>\n    .dataframe tbody tr th:only-of-type {\n        vertical-align: middle;\n    }\n\n    .dataframe tbody tr th {\n        vertical-align: top;\n    }\n\n    .dataframe thead th {\n        text-align: right;\n    }\n</style>\n<table border=\"1\" class=\"dataframe\">\n  <thead>\n    <tr style=\"text-align: right;\">\n      <th></th>\n      <th>Model</th>\n      <th>Train Accuracy</th>\n      <th>Test Accuracy</th>\n      <th>Train Precision</th>\n      <th>Test Precision</th>\n      <th>Train Recall</th>\n      <th>Test Recall</th>\n      <th>Train F1_score</th>\n      <th>Test F1_score</th>\n      <th>Train AUC_ROC</th>\n      <th>Test AUC_ROC</th>\n      <th>Cross_Validation_Scores_for_trainset</th>\n    </tr>\n  </thead>\n  <tbody>\n    <tr>\n      <th>1</th>\n      <td>Support Vector Classifier</td>\n      <td>0.870455</td>\n      <td>0.783069</td>\n      <td>0.870567</td>\n      <td>0.759091</td>\n      <td>0.833616</td>\n      <td>0.704641</td>\n      <td>0.851691</td>\n      <td>0.730853</td>\n      <td>0.866877</td>\n      <td>0.772018</td>\n      <td>[0.75, 0.7992424242424242, 0.7916666666666666,...</td>\n    </tr>\n    <tr>\n      <th>2</th>\n      <td>NuSVC</td>\n      <td>0.868182</td>\n      <td>0.781305</td>\n      <td>0.872531</td>\n      <td>0.760369</td>\n      <td>0.825127</td>\n      <td>0.696203</td>\n      <td>0.848168</td>\n      <td>0.726872</td>\n      <td>0.864000</td>\n      <td>0.769313</td>\n      <td>[0.7651515151515151, 0.7689393939393939, 0.814...</td>\n    </tr>\n    <tr>\n      <th>8</th>\n      <td>XGB Classifier</td>\n      <td>0.991667</td>\n      <td>0.774250</td>\n      <td>0.989831</td>\n      <td>0.746606</td>\n      <td>0.991511</td>\n      <td>0.696203</td>\n      <td>0.990670</td>\n      <td>0.720524</td>\n      <td>0.991652</td>\n      <td>0.763253</td>\n      <td>[0.7803030303030303, 0.7575757575757576, 0.806...</td>\n    </tr>\n    <tr>\n      <th>5</th>\n      <td>Gradient Boosting Classifier</td>\n      <td>0.987121</td>\n      <td>0.770723</td>\n      <td>0.986395</td>\n      <td>0.731602</td>\n      <td>0.984720</td>\n      <td>0.713080</td>\n      <td>0.985556</td>\n      <td>0.722222</td>\n      <td>0.986888</td>\n      <td>0.762601</td>\n      <td>[0.7765151515151515, 0.75, 0.7613636363636364,...</td>\n    </tr>\n    <tr>\n      <th>4</th>\n      <td>KNeighbors Classifier</td>\n      <td>0.801515</td>\n      <td>0.761905</td>\n      <td>0.805607</td>\n      <td>0.738318</td>\n      <td>0.731749</td>\n      <td>0.666667</td>\n      <td>0.766904</td>\n      <td>0.700665</td>\n      <td>0.794739</td>\n      <td>0.748485</td>\n      <td>[0.7727272727272727, 0.7575757575757576, 0.753...</td>\n    </tr>\n    <tr>\n      <th>7</th>\n      <td>Random Forest Classifier</td>\n      <td>0.933333</td>\n      <td>0.761905</td>\n      <td>0.957952</td>\n      <td>0.747573</td>\n      <td>0.889643</td>\n      <td>0.649789</td>\n      <td>0.922535</td>\n      <td>0.695260</td>\n      <td>0.929090</td>\n      <td>0.746107</td>\n      <td>[0.7916666666666666, 0.7613636363636364, 0.746...</td>\n    </tr>\n    <tr>\n      <th>10</th>\n      <td>Extra Trees Classifier</td>\n      <td>0.871970</td>\n      <td>0.738977</td>\n      <td>0.960526</td>\n      <td>0.743169</td>\n      <td>0.743633</td>\n      <td>0.573840</td>\n      <td>0.838278</td>\n      <td>0.647619</td>\n      <td>0.859505</td>\n      <td>0.715708</td>\n      <td>[0.7765151515151515, 0.7992424242424242, 0.746...</td>\n    </tr>\n    <tr>\n      <th>6</th>\n      <td>Adaboost Classifier</td>\n      <td>0.756818</td>\n      <td>0.723104</td>\n      <td>0.753788</td>\n      <td>0.673913</td>\n      <td>0.675722</td>\n      <td>0.654008</td>\n      <td>0.712623</td>\n      <td>0.663812</td>\n      <td>0.748941</td>\n      <td>0.713368</td>\n      <td>[0.7234848484848485, 0.7310606060606061, 0.681...</td>\n    </tr>\n    <tr>\n      <th>0</th>\n      <td>Logistic Regression</td>\n      <td>0.710606</td>\n      <td>0.691358</td>\n      <td>0.728477</td>\n      <td>0.659794</td>\n      <td>0.560272</td>\n      <td>0.540084</td>\n      <td>0.633397</td>\n      <td>0.593968</td>\n      <td>0.696004</td>\n      <td>0.670042</td>\n      <td>[0.6590909090909091, 0.7386363636363636, 0.696...</td>\n    </tr>\n    <tr>\n      <th>3</th>\n      <td>SGD Classifier</td>\n      <td>0.701515</td>\n      <td>0.657848</td>\n      <td>0.659054</td>\n      <td>0.581749</td>\n      <td>0.685908</td>\n      <td>0.645570</td>\n      <td>0.672213</td>\n      <td>0.612000</td>\n      <td>0.699999</td>\n      <td>0.656118</td>\n      <td>[0.6856060606060606, 0.6818181818181818, 0.617...</td>\n    </tr>\n    <tr>\n      <th>9</th>\n      <td>Decision Tree Classifier</td>\n      <td>0.690152</td>\n      <td>0.650794</td>\n      <td>0.617188</td>\n      <td>0.558559</td>\n      <td>0.804754</td>\n      <td>0.784810</td>\n      <td>0.698600</td>\n      <td>0.652632</td>\n      <td>0.701283</td>\n      <td>0.669678</td>\n      <td>[0.7045454545454546, 0.6401515151515151, 0.632...</td>\n    </tr>\n    <tr>\n      <th>11</th>\n      <td>Gaussian Naive Bayes</td>\n      <td>0.483333</td>\n      <td>0.455026</td>\n      <td>0.463299</td>\n      <td>0.433333</td>\n      <td>0.996604</td>\n      <td>0.987342</td>\n      <td>0.632543</td>\n      <td>0.602317</td>\n      <td>0.533186</td>\n      <td>0.530035</td>\n      <td>[0.4734848484848485, 0.44696969696969696, 0.51...</td>\n    </tr>\n  </tbody>\n</table>\n</div>"
     },
     "execution_count": 34,
     "metadata": {},
     "output_type": "execute_result"
    }
   ],
   "source": [
    "models_classifier_comparison = pd.DataFrame({\n",
    "    'Model'          : ['Logistic Regression', 'Support Vector Classifier', 'NuSVC', 'SGD Classifier', 'KNeighbors Classifier', 'Gradient Boosting Classifier', 'Adaboost Classifier', 'Random Forest Classifier', 'XGB Classifier', 'Decision Tree Classifier', 'Extra Trees Classifier', 'Gaussian Naive Bayes'],\n",
    "    'Train Accuracy' : [lr_Accuracy_Train, svc_Accuracy_Train, nusvc_Accuracy_Train, sgd_Accuracy_Train, knc_Accuracy_Train, gbc_Accuracy_Train,abc_Accuracy_Train, rfc_Accuracy_Train, xgbc_Accuracy_Train, dtc_Accuracy_Train,etc_Accuracy_Train,gnb_Accuracy_Train],\n",
    "    'Test Accuracy'  : [lr_Accuracy_Test, svc_Accuracy_Test, nusvc_Accuracy_Test, sgd_Accuracy_Test, knc_Accuracy_Test, gbc_Accuracy_Test,abc_Accuracy_Test, rfc_Accuracy_Test, xgbc_Accuracy_Test, dtc_Accuracy_Test,etc_Accuracy_Test,gnb_Accuracy_Test],\n",
    "    'Train Precision': [lr_Precision_Train, svc_Precision_Train, nusvc_Precision_Train, sgd_Precision_Train, knc_Precision_Train, gbc_Precision_Train,abc_Precision_Train, rfc_Precision_Train, xgbc_Precision_Train, dtc_Precision_Train,etc_Precision_Train,gnb_Precision_Train],\n",
    "    'Test Precision' : [lr_Precision_Test, svc_Precision_Test, nusvc_Precision_Test, sgd_Precision_Test, knc_Precision_Test, gbc_Precision_Test,abc_Precision_Test, rfc_Precision_Test, xgbc_Precision_Test, dtc_Precision_Test,etc_Precision_Test,gnb_Precision_Test],\n",
    "    'Train Recall'   : [lr_Recall_Train, svc_Recall_Train, nusvc_Recall_Train, sgd_Recall_Train, knc_Recall_Train, gbc_Recall_Train,abc_Recall_Train, rfc_Recall_Train, xgbc_Recall_Train, dtc_Recall_Train,etc_Recall_Train,gnb_Recall_Train],\n",
    "    'Test Recall'    : [lr_Recall_Test, svc_Recall_Test, nusvc_Recall_Test, sgd_Recall_Test, knc_Recall_Test, gbc_Recall_Test,abc_Recall_Test, rfc_Recall_Test, xgbc_Recall_Test, dtc_Recall_Test,etc_Recall_Test,gnb_Recall_Test],\n",
    "    'Train F1_score' : [lr_f1_score_Train, svc_f1_score_Train, nusvc_f1_score_Train, sgd_f1_score_Train, knc_f1_score_Train, gbc_f1_score_Train,abc_f1_score_Train, rfc_f1_score_Train, xgbc_f1_score_Train, dtc_f1_score_Train,etc_f1_score_Train,gnb_f1_score_Train],\n",
    "    'Test F1_score'  : [lr_f1_score_Test, svc_f1_score_Test, nusvc_f1_score_Test, sgd_f1_score_Test, knc_f1_score_Test, gbc_f1_score_Test,abc_f1_score_Test, rfc_f1_score_Test, xgbc_f1_score_Test, dtc_f1_score_Test,etc_f1_score_Test,gnb_f1_score_Test],\n",
    "    'Train AUC_ROC'  : [lr_ROC_AUC_Score_Train, svc_ROC_AUC_Score_Train, nusvc_ROC_AUC_Score_Train, sgd_ROC_AUC_Score_Train, knc_ROC_AUC_Score_Train, gbc_ROC_AUC_Score_Train,abc_ROC_AUC_Score_Train, rfc_ROC_AUC_Score_Train, xgbc_ROC_AUC_Score_Train, dtc_ROC_AUC_Score_Train,etc_ROC_AUC_Score_Train,gnb_ROC_AUC_Score_Train],\n",
    "    'Test AUC_ROC'   : [lr_ROC_AUC_Score_Test, svc_ROC_AUC_Score_Test, nusvc_ROC_AUC_Score_Test, sgd_ROC_AUC_Score_Test, knc_ROC_AUC_Score_Test, gbc_ROC_AUC_Score_Test,abc_ROC_AUC_Score_Test, rfc_ROC_AUC_Score_Test, xgbc_ROC_AUC_Score_Test, dtc_ROC_AUC_Score_Test,etc_ROC_AUC_Score_Test,gnb_ROC_AUC_Score_Test],\n",
    "    'Cross_Validation_Scores_for_trainset':[lr_cross_val_score_Train, svc_cross_val_score_Train, nusvc_cross_val_score_Train, sgd_cross_val_score_Train, knc_cross_val_score_Train, gbc_cross_val_score_Train,abc_cross_val_score_Train, rfc_cross_val_score_Train, xgbc_cross_val_score_Train, dtc_cross_val_score_Train,etc_cross_val_score_Train,gnb_cross_val_score_Train],\n",
    "    \n",
    "    }, columns = ['Model', 'Train Accuracy', 'Test Accuracy', 'Train Precision', 'Test Precision', 'Train Recall', 'Test Recall', 'Train F1_score', 'Test F1_score', 'Train AUC_ROC', 'Test AUC_ROC', 'Cross_Validation_Scores_for_trainset'])\n",
    "\n",
    "models_classifier_comparison.sort_values(by='Test Accuracy', ascending=False)"
   ]
  },
  {
   "cell_type": "code",
   "execution_count": 35,
   "id": "8536080c",
   "metadata": {},
   "outputs": [
    {
     "data": {
      "text/plain": "<Figure size 800x550 with 1 Axes>",
      "image/png": "[encoded data removed]"
     },
     "metadata": {},
     "output_type": "display_data"
    }
   ],
   "source": [
    "pred_prob1 = lr_model.fit(X_train, y_train).predict_proba(X_test)\n",
    "pred_prob2 = svc_model.fit(X_train, y_train).predict_proba(X_test)\n",
    "pred_prob3 = nusvc_model.fit(X_train, y_train).predict_proba(X_test)\n",
    "pred_prob4 = sgd_model.fit(X_train, y_train).predict_proba(X_test)\n",
    "pred_prob5 = kneighbors_model.fit(X_train, y_train).predict_proba(X_test)\n",
    "pred_prob6 = gradientBoosting_model.fit(X_train, y_train).predict_proba(X_test)\n",
    "pred_prob7 = AdaBoost_model.fit(X_train, y_train).predict_proba(X_test)\n",
    "pred_prob8 = RFC_model.fit(X_train, y_train).predict_proba(X_test)\n",
    "pred_prob9 = XGB_Classifier_model.fit(X_train, y_train).predict_proba(X_test)\n",
    "pred_prob10 = DTC_model.fit(X_train, y_train).predict_proba(X_test)\n",
    "pred_prob11 = ExtraTreesClassifier_model.fit(X_train, y_train).predict_proba(X_test)\n",
    "pred_prob12 = GaussianNB_model.fit(X_train, y_train).predict_proba(X_test)\n",
    "\n",
    "from sklearn.metrics import roc_curve\n",
    "\n",
    "# roc curve for models\n",
    "fpr1, tpr1, thresh1 = roc_curve(y_test, pred_prob1[:,1], pos_label=1)\n",
    "fpr2, tpr2, thresh2 = roc_curve(y_test, pred_prob2[:,1], pos_label=1)\n",
    "fpr3, tpr3, thresh3 = roc_curve(y_test, pred_prob3[:,1], pos_label=1)\n",
    "fpr4, tpr4, thresh4 = roc_curve(y_test, pred_prob4[:,1], pos_label=1)\n",
    "fpr5, tpr5, thresh5 = roc_curve(y_test, pred_prob5[:,1], pos_label=1)\n",
    "fpr6, tpr6, thresh6 = roc_curve(y_test, pred_prob6[:,1], pos_label=1)\n",
    "fpr7, tpr7, thresh7 = roc_curve(y_test, pred_prob7[:,1], pos_label=1)\n",
    "fpr8, tpr8, thresh8 = roc_curve(y_test, pred_prob8[:,1], pos_label=1)\n",
    "fpr9, tpr9, thresh9 = roc_curve(y_test, pred_prob9[:,1], pos_label=1)\n",
    "fpr10, tpr10, thresh10 = roc_curve(y_test, pred_prob10[:,1], pos_label=1)\n",
    "fpr11, tpr11, thresh11 = roc_curve(y_test, pred_prob11[:,1], pos_label=1)\n",
    "fpr12, tpr12, thresh12 = roc_curve(y_test, pred_prob12[:,1], pos_label=1)\n",
    "\n",
    "# roc curve for tpr = fpr \n",
    "random_probs = [0 for i in range(len(y_test))]\n",
    "p_fpr, p_tpr, _ = roc_curve(y_test, random_probs, pos_label=1)\n",
    "\n",
    "import matplotlib.pyplot as plt\n",
    "plt.style.use('seaborn-v0_8')\n",
    "\n",
    "# plot roc curves\n",
    "plt.plot(fpr1, tpr1, linestyle='--',color='orange', label='LOGISTIC REGRESSION')\n",
    "plt.plot(fpr2, tpr2, linestyle='--',color='green', label='Support Vector Classifier')\n",
    "plt.plot(fpr3, tpr3, linestyle='--',color='red', label='NuSVC')\n",
    "plt.plot(fpr4, tpr4, linestyle='--',color='purple', label='SGD Classifier')\n",
    "plt.plot(fpr5, tpr5, linestyle='--',color='yellow', label='KNeighbors Classifier')\n",
    "plt.plot(fpr5, tpr5, linestyle='--',color='grey', label='Gradient Boosting Classifier')\n",
    "plt.plot(fpr7, tpr7, linestyle='--',color='violet', label='Adaboost Classifier')\n",
    "plt.plot(fpr8, tpr8, linestyle='--',color='#440154', label='Random Forest Classifier')\n",
    "plt.plot(fpr9, tpr9, linestyle='--',color='#404387', label='XGB Classifier')\n",
    "plt.plot(fpr10, tpr10, linestyle='--',color='#29788E', label='Decision Tree Classifier')\n",
    "plt.plot(fpr11, tpr11, linestyle='--',color='#22A784', label='Extra Trees Classifier')\n",
    "plt.plot(fpr12, tpr12, linestyle='--',color='#79D151', label='Gaussian Naive Bayes Classifier')\n",
    "plt.plot(p_fpr, p_tpr, linestyle='--', color='blue')\n",
    "# title\n",
    "plt.title('ROC curve')\n",
    "# x label\n",
    "plt.xlabel('False Positive Rate')\n",
    "# y label\n",
    "plt.ylabel('True Positive rate')\n",
    "\n",
    "plt.legend(loc='best')\n",
    "plt.savefig('ROC.svg')\n",
    "plt.show();"
   ]
  },
  {
   "cell_type": "code",
   "execution_count": 36,
   "id": "470e1eb4",
   "metadata": {},
   "outputs": [],
   "source": [
    "models_classifier_comparison.to_csv(\"../Saved Models/Classifier Models/random_state_0/HEA_Classifier_results_dataframe.csv\")"
   ]
  },
  {
   "cell_type": "code",
   "execution_count": 77,
   "id": "6c537564",
   "metadata": {},
   "outputs": [
    {
     "data": {
      "text/plain": "<Figure size 800x550 with 2 Axes>",
      "image/png": "[encoded data removed]"
     },
     "metadata": {},
     "output_type": "display_data"
    }
   ],
   "source": [
    "from sklearn.metrics import confusion_matrix, ConfusionMatrixDisplay\n",
    "import matplotlib.pyplot as plt\n",
    "\n",
    "\n",
    "filename1 = '../Saved Models/Classifier Models/random_state_0/classifier_gradientBoosting.sav'\n",
    "gradientBoosting_model = pickle.load(open(filename1, 'rb'))\n",
    "\n",
    "# train_pred = gradientBoosting_model.predict(X_train)\n",
    "test_pred = gradientBoosting_model.predict(X_test)\n",
    "\n",
    "ax = plt.subplot(1,1,1)\n",
    "ax.grid(False)\n",
    "\n",
    "cfm = confusion_matrix(y_test, test_pred)\n",
    "cfm_display = ConfusionMatrixDisplay(confusion_matrix=cfm)\n",
    "cfm_display.plot(ax=ax)\n",
    "plt.savefig(\"Confusion_Matrix.svg\")"
   ]
  },
  {
   "cell_type": "markdown",
   "id": "8ea9d1a2",
   "metadata": {},
   "source": [
    "## Regression\n",
    "---\n",
    "This submodule is used to predict the bulk modulus values for the inputs "
   ]
  },
  {
   "cell_type": "code",
   "execution_count": 38,
   "id": "b7d98441",
   "metadata": {},
   "outputs": [],
   "source": [
    "import numpy as np\n",
    "import pandas as pd\n",
    "import matplotlib.pyplot as plt\n",
    "import seaborn as sns\n",
    "\n",
    "from sklearn.ensemble import RandomForestRegressor\n",
    "from sklearn.metrics import r2_score\n",
    "from sklearn.linear_model import LinearRegression, Ridge, Lasso, ElasticNet\n",
    "from xgboost import XGBRegressor\n",
    "from sklearn.metrics import mean_squared_error as mse\n",
    "from sklearn.model_selection import cross_val_score\n",
    "from sklearn.model_selection import GridSearchCV,RandomizedSearchCV\n",
    "from sklearn.model_selection import KFold\n",
    "from hypopt import GridSearch\n",
    "from sklearn.metrics import mean_squared_error\n",
    "from sklearn.metrics import mean_absolute_error as mae \n",
    "from sklearn.neighbors import KNeighborsRegressor\n",
    "import pickle"
   ]
  },
  {
   "cell_type": "markdown",
   "id": "7e0d2fde",
   "metadata": {},
   "source": [
    "Data Loading and Scaling"
   ]
  },
  {
   "cell_type": "code",
   "execution_count": 39,
   "id": "a3ca1bed",
   "metadata": {},
   "outputs": [
    {
     "data": {
      "text/plain": "Index(['Alloy', 'S_Phase', 'BulkModulus (GPa)', 'AM', 'IM', 'SS', 'Ag', 'Al',\n       'As', 'Au', 'B', 'Ba', 'Be', 'Bi', 'Br', 'C', 'Ca', 'Cd', 'Ce', 'Cl',\n       'Co', 'Cr', 'Cs', 'Cu', 'Dy', 'Er', 'Eu', 'F', 'Fe', 'Ga', 'Gd', 'Ge',\n       'H', 'Hf', 'Hg', 'Ho', 'I', 'In', 'Ir', 'K', 'La', 'Li', 'Lu', 'Mg',\n       'Mn', 'Mo', 'N', 'Na', 'Nb', 'Nd', 'Ne', 'Ni', 'Ns', 'O', 'Os', 'P',\n       'Pb', 'Pd', 'Pr', 'Pt', 'Rb', 'Re', 'Rh', 'Ru', 'S', 'Sb', 'Sc', 'Se',\n       'Si', 'Sm', 'Sn', 'Sr', 'Ta', 'Tb', 'Te', 'Ti', 'Tl', 'Tm', 'V', 'W',\n       'Y', 'Yb', 'Zn', 'Zr'],\n      dtype='object')"
     },
     "execution_count": 39,
     "metadata": {},
     "output_type": "execute_result"
    }
   ],
   "source": [
    "bulk_hea = pd.read_csv(\"../Datasets/HEA_BulkModulus.csv\")\n",
    "bulk_hea.columns"
   ]
  },
  {
   "cell_type": "code",
   "execution_count": 40,
   "id": "f94ac0a7",
   "metadata": {},
   "outputs": [],
   "source": [
    "features = ['AM', 'IM', 'SS', 'Ag', 'Al', 'As','Au', 'B', 'Ba', 'Be', 'Bi', 'Br', 'C', 'Ca', 'Cd', 'Ce', 'Cl', 'Co','Cr', 'Cs', 'Cu', 'Dy', 'Er', 'Eu', 'F', 'Fe', 'Ga', 'Gd', 'Ge', 'H','Hf', 'Hg', 'Ho', 'I', 'In', 'Ir', 'K', 'La', 'Li', 'Lu', 'Mg', 'Mn','Mo', 'N', 'Na', 'Nb', 'Nd', 'Ne', 'Ni', 'Ns', 'O', 'Os', 'P', 'Pb','Pd', 'Pr', 'Pt', 'Rb', 'Re', 'Rh', 'Ru', 'S', 'Sb', 'Sc', 'Se', 'Si','Sm', 'Sn', 'Sr', 'Ta', 'Tb', 'Te', 'Ti', 'Tl', 'Tm', 'V', 'W', 'Y','Yb', 'Zn', 'Zr']"
   ]
  },
  {
   "cell_type": "code",
   "execution_count": 41,
   "outputs": [],
   "source": [
    "X = bulk_hea[features]#, errors = 'ignore'.astype('float').values\n",
    "y = bulk_hea['BulkModulus (GPa)'].values\n",
    "X_train, X_test, y_train, y_test = train_test_split(X, y, random_state=0, train_size = .70)\n",
    "\n",
    "X_train.to_csv(\"../Datasets/Regressor_sets/random_state_0/Regressor_X_train.csv\", index=False)\n",
    "X_test.to_csv(\"../Datasets/Regressor_sets/random_state_0/Regressor_X_test.csv\", index=False)\n",
    "pd.DataFrame(y_train).to_csv(\"../Datasets/Regressor_sets/random_state_0/Regressor_y_train.csv\", index=False)\n",
    "pd.DataFrame(y_test).to_csv(\"../Datasets/Regressor_sets/random_state_0/Regressor_y_test.csv\", index=False)"
   ],
   "metadata": {
    "collapsed": false
   }
  },
  {
   "cell_type": "code",
   "execution_count": 42,
   "id": "f2c7c703",
   "metadata": {},
   "outputs": [],
   "source": [
    "def RMSE(y_true,y_pred):\n",
    "  RMSE = np.sqrt(mean_squared_error(y_true,y_pred))\n",
    "  return RMSE\n",
    "\n",
    "def MSE(y_true,y_pred):\n",
    "    mse = mean_squared_error(y_true, y_pred)\n",
    "    #print 'MSE: %2.3f' % mse\n",
    "    return mse\n",
    "\n",
    "def adjusted_r_squared(X, y, r2_sc):\n",
    "  Adj_r2 = 1 - (1-r2_sc) * (len(y)-1)/(len(y)-X.shape[1]-1)\n",
    "  return Adj_r2\n",
    "\n",
    "def percentage_error(actual, predicted):\n",
    "    res = np.empty(actual.shape)\n",
    "    for j in range(actual.shape[0]):\n",
    "        if actual[j] != 0:\n",
    "            res[j] = (actual[j] - predicted[j]) / actual[j]\n",
    "        else:\n",
    "            res[j] = predicted[j] / np.mean(actual)\n",
    "    return res\n",
    "\n",
    "def MAPE(y_true, y_pred): \n",
    "    return np.mean(np.abs(percentage_error(np.asarray(y_true), np.asarray(y_pred)))) * 100"
   ]
  },
  {
   "cell_type": "code",
   "execution_count": 43,
   "outputs": [
    {
     "data": {
      "text/plain": "     AM  IM  SS   Ag        Al  As   Au     B  Ba   Be  ...  Te   Ti  Tl   Tm  \\\n190   1   0   0  0.0  0.000000   0  0.0  0.01   0  0.0  ...   0  0.5   0  0.0   \n969   0   1   1  0.0  0.183673   0  0.0  0.00   0  0.0  ...   0  0.0   0  0.0   \n145   1   0   0  0.0  0.110000   0  0.0  0.00   0  0.0  ...   0  0.0   0  0.0   \n457   0   1   0  0.0  0.208333   0  0.0  0.00   0  0.0  ...   0  0.0   0  0.0   \n318   0   1   0  0.0  0.000000   0  0.0  0.00   0  0.0  ...   0  0.0   0  0.0   \n\n       V    W    Y   Yb   Zn   Zr  \n190  0.0  0.0  0.0  0.0  0.0  0.0  \n969  0.0  0.0  0.0  0.0  0.0  0.0  \n145  0.0  0.0  0.0  0.0  0.0  0.0  \n457  0.0  0.0  0.0  0.0  0.0  0.0  \n318  0.0  0.0  0.0  0.0  0.0  0.0  \n\n[5 rows x 81 columns]",
      "text/html": "<div>\n<style scoped>\n    .dataframe tbody tr th:only-of-type {\n        vertical-align: middle;\n    }\n\n    .dataframe tbody tr th {\n        vertical-align: top;\n    }\n\n    .dataframe thead th {\n        text-align: right;\n    }\n</style>\n<table border=\"1\" class=\"dataframe\">\n  <thead>\n    <tr style=\"text-align: right;\">\n      <th></th>\n      <th>AM</th>\n      <th>IM</th>\n      <th>SS</th>\n      <th>Ag</th>\n      <th>Al</th>\n      <th>As</th>\n      <th>Au</th>\n      <th>B</th>\n      <th>Ba</th>\n      <th>Be</th>\n      <th>...</th>\n      <th>Te</th>\n      <th>Ti</th>\n      <th>Tl</th>\n      <th>Tm</th>\n      <th>V</th>\n      <th>W</th>\n      <th>Y</th>\n      <th>Yb</th>\n      <th>Zn</th>\n      <th>Zr</th>\n    </tr>\n  </thead>\n  <tbody>\n    <tr>\n      <th>190</th>\n      <td>1</td>\n      <td>0</td>\n      <td>0</td>\n      <td>0.0</td>\n      <td>0.000000</td>\n      <td>0</td>\n      <td>0.0</td>\n      <td>0.01</td>\n      <td>0</td>\n      <td>0.0</td>\n      <td>...</td>\n      <td>0</td>\n      <td>0.5</td>\n      <td>0</td>\n      <td>0.0</td>\n      <td>0.0</td>\n      <td>0.0</td>\n      <td>0.0</td>\n      <td>0.0</td>\n      <td>0.0</td>\n      <td>0.0</td>\n    </tr>\n    <tr>\n      <th>969</th>\n      <td>0</td>\n      <td>1</td>\n      <td>1</td>\n      <td>0.0</td>\n      <td>0.183673</td>\n      <td>0</td>\n      <td>0.0</td>\n      <td>0.00</td>\n      <td>0</td>\n      <td>0.0</td>\n      <td>...</td>\n      <td>0</td>\n      <td>0.0</td>\n      <td>0</td>\n      <td>0.0</td>\n      <td>0.0</td>\n      <td>0.0</td>\n      <td>0.0</td>\n      <td>0.0</td>\n      <td>0.0</td>\n      <td>0.0</td>\n    </tr>\n    <tr>\n      <th>145</th>\n      <td>1</td>\n      <td>0</td>\n      <td>0</td>\n      <td>0.0</td>\n      <td>0.110000</td>\n      <td>0</td>\n      <td>0.0</td>\n      <td>0.00</td>\n      <td>0</td>\n      <td>0.0</td>\n      <td>...</td>\n      <td>0</td>\n      <td>0.0</td>\n      <td>0</td>\n      <td>0.0</td>\n      <td>0.0</td>\n      <td>0.0</td>\n      <td>0.0</td>\n      <td>0.0</td>\n      <td>0.0</td>\n      <td>0.0</td>\n    </tr>\n    <tr>\n      <th>457</th>\n      <td>0</td>\n      <td>1</td>\n      <td>0</td>\n      <td>0.0</td>\n      <td>0.208333</td>\n      <td>0</td>\n      <td>0.0</td>\n      <td>0.00</td>\n      <td>0</td>\n      <td>0.0</td>\n      <td>...</td>\n      <td>0</td>\n      <td>0.0</td>\n      <td>0</td>\n      <td>0.0</td>\n      <td>0.0</td>\n      <td>0.0</td>\n      <td>0.0</td>\n      <td>0.0</td>\n      <td>0.0</td>\n      <td>0.0</td>\n    </tr>\n    <tr>\n      <th>318</th>\n      <td>0</td>\n      <td>1</td>\n      <td>0</td>\n      <td>0.0</td>\n      <td>0.000000</td>\n      <td>0</td>\n      <td>0.0</td>\n      <td>0.00</td>\n      <td>0</td>\n      <td>0.0</td>\n      <td>...</td>\n      <td>0</td>\n      <td>0.0</td>\n      <td>0</td>\n      <td>0.0</td>\n      <td>0.0</td>\n      <td>0.0</td>\n      <td>0.0</td>\n      <td>0.0</td>\n      <td>0.0</td>\n      <td>0.0</td>\n    </tr>\n  </tbody>\n</table>\n<p>5 rows × 81 columns</p>\n</div>"
     },
     "execution_count": 43,
     "metadata": {},
     "output_type": "execute_result"
    }
   ],
   "source": [
    "X_train.head()"
   ],
   "metadata": {
    "collapsed": false
   }
  },
  {
   "cell_type": "markdown",
   "id": "6800bff9",
   "metadata": {},
   "source": [
    "Random Forest Regressor"
   ]
  },
  {
   "cell_type": "code",
   "execution_count": 44,
   "outputs": [],
   "source": [
    "n_estimators = [100, 200, 350, 500, 1000, 2000, 5000, 10000]\n",
    "max_depth = [int(x) for x in range(5,90,10)]\n",
    "n_jobs = [-1]\n",
    "random_state = [42]\n",
    "\n",
    "\n",
    "random_grid = {'n_estimators': n_estimators,\n",
    "               'max_depth': max_depth,\n",
    "               'n_jobs':n_jobs,\n",
    "               'random_state':random_state\n",
    "               }\n",
    "\n",
    "rf_gsc = GridSearch(model=RandomForestRegressor(),param_grid=random_grid,cv_folds=5)\n",
    "rf_model = rf_gsc.fit(X_train,y_train) #.values.ravel()"
   ],
   "metadata": {
    "collapsed": false
   }
  },
  {
   "cell_type": "code",
   "execution_count": 45,
   "id": "caaabe72",
   "metadata": {},
   "outputs": [
    {
     "data": {
      "text/plain": "{'bootstrap': True,\n 'ccp_alpha': 0.0,\n 'criterion': 'squared_error',\n 'max_depth': 25,\n 'max_features': 1.0,\n 'max_leaf_nodes': None,\n 'max_samples': None,\n 'min_impurity_decrease': 0.0,\n 'min_samples_leaf': 1,\n 'min_samples_split': 2,\n 'min_weight_fraction_leaf': 0.0,\n 'n_estimators': 100,\n 'n_jobs': -1,\n 'oob_score': False,\n 'random_state': 42,\n 'verbose': 0,\n 'warm_start': False}"
     },
     "execution_count": 45,
     "metadata": {},
     "output_type": "execute_result"
    }
   ],
   "source": [
    "rf_model.get_params()"
   ]
  },
  {
   "attachments": {},
   "cell_type": "markdown",
   "id": "3196bb20",
   "metadata": {},
   "source": [
    "Extreme Gradient Boosting(XGB) Regressor "
   ]
  },
  {
   "cell_type": "code",
   "execution_count": 46,
   "id": "3aa8a346",
   "metadata": {},
   "outputs": [],
   "source": [
    "n_estimators = [100, 200, 500, 1000, 2000, 5000, 10000] # tradeoff b/w n_estimators and learning_rate\n",
    "learning_rate = [x for x in np.arange(0.3,0.6,0.1)]\n",
    "criterion = ['mae']\n",
    "max_depth = [int(x) for x in range(2,10)] \n",
    "n_jobs = [-1]\n",
    "\n",
    "random_grid = {'n_estimators': n_estimators,\n",
    "               'learning_rate':learning_rate,\n",
    "               'max_depth': max_depth,\n",
    "               'n_jobs':n_jobs\n",
    "               },\n",
    "\n",
    "xgb_gsc = GridSearch(model=XGBRegressor(),param_grid=random_grid,cv_folds=5)    \n",
    "xgb_model = xgb_gsc.fit(X_train,y_train)"
   ]
  },
  {
   "cell_type": "code",
   "execution_count": 47,
   "id": "c1339435",
   "metadata": {},
   "outputs": [
    {
     "data": {
      "text/plain": "{'objective': 'reg:squarederror',\n 'base_score': None,\n 'booster': None,\n 'callbacks': None,\n 'colsample_bylevel': None,\n 'colsample_bynode': None,\n 'colsample_bytree': None,\n 'early_stopping_rounds': None,\n 'enable_categorical': False,\n 'eval_metric': None,\n 'feature_types': None,\n 'gamma': None,\n 'gpu_id': None,\n 'grow_policy': None,\n 'importance_type': None,\n 'interaction_constraints': None,\n 'learning_rate': 0.3,\n 'max_bin': None,\n 'max_cat_threshold': None,\n 'max_cat_to_onehot': None,\n 'max_delta_step': None,\n 'max_depth': 2,\n 'max_leaves': None,\n 'min_child_weight': None,\n 'missing': nan,\n 'monotone_constraints': None,\n 'n_estimators': 10000,\n 'n_jobs': -1,\n 'num_parallel_tree': None,\n 'predictor': None,\n 'random_state': None,\n 'reg_alpha': None,\n 'reg_lambda': None,\n 'sampling_method': None,\n 'scale_pos_weight': None,\n 'subsample': None,\n 'tree_method': None,\n 'validate_parameters': None,\n 'verbosity': None}"
     },
     "execution_count": 47,
     "metadata": {},
     "output_type": "execute_result"
    }
   ],
   "source": [
    "xgb_model.get_params()"
   ]
  },
  {
   "attachments": {},
   "cell_type": "markdown",
   "id": "9137b575",
   "metadata": {},
   "source": [
    "Linear Regression"
   ]
  },
  {
   "cell_type": "code",
   "execution_count": 48,
   "id": "4a965aac",
   "metadata": {},
   "outputs": [],
   "source": [
    "normalize = [True]\n",
    "n_jobs = [-1]\n",
    "\n",
    "random_grid = {'n_jobs':n_jobs}\n",
    "\n",
    "lr_gsc = GridSearch(model=LinearRegression(),param_grid=random_grid,cv_folds=5)    \n",
    "lr_model = lr_gsc.fit(X_train,y_train)\n"
   ]
  },
  {
   "cell_type": "code",
   "execution_count": 49,
   "outputs": [
    {
     "data": {
      "text/plain": "{'copy_X': True, 'fit_intercept': True, 'n_jobs': -1, 'positive': False}"
     },
     "execution_count": 49,
     "metadata": {},
     "output_type": "execute_result"
    }
   ],
   "source": [
    "lr_model.get_params()"
   ],
   "metadata": {
    "collapsed": false
   }
  },
  {
   "attachments": {},
   "cell_type": "markdown",
   "id": "853a0645",
   "metadata": {},
   "source": [
    "Lasso Regression"
   ]
  },
  {
   "cell_type": "code",
   "execution_count": 50,
   "id": "826edd3a",
   "metadata": {},
   "outputs": [],
   "source": [
    "alpha=[x for x in np.arange(0.001,0.01,0.0001)]\n",
    "random_state = [42] \n",
    "\n",
    "random_grid = {'alpha':alpha, 'random_state':random_state}\n",
    "\n",
    "lasso_r_gsc = GridSearch(model=Lasso(),param_grid=random_grid,cv_folds=5)\n",
    "lasso_r_model = lasso_r_gsc.fit(X_train,y_train)"
   ]
  },
  {
   "cell_type": "code",
   "execution_count": 52,
   "id": "2424019a",
   "metadata": {},
   "outputs": [
    {
     "data": {
      "text/plain": "{'alpha': 0.001,\n 'copy_X': True,\n 'fit_intercept': True,\n 'max_iter': 1000,\n 'positive': False,\n 'precompute': False,\n 'random_state': 42,\n 'selection': 'cyclic',\n 'tol': 0.0001,\n 'warm_start': False}"
     },
     "execution_count": 52,
     "metadata": {},
     "output_type": "execute_result"
    }
   ],
   "source": [
    "lasso_r_model.get_params()"
   ]
  },
  {
   "attachments": {},
   "cell_type": "markdown",
   "id": "0b692512",
   "metadata": {},
   "source": [
    "Ridge Regression"
   ]
  },
  {
   "cell_type": "code",
   "execution_count": 53,
   "id": "af35d017",
   "metadata": {},
   "outputs": [],
   "source": [
    "alpha=[x for x in np.arange(0.001,1,0.001)]\n",
    "random_state = [42]\n",
    "solver = ['auto', 'svd', 'cholesky', 'lsqr', 'sparse_cg', 'sag', 'saga']\n",
    "\n",
    "random_grid = {'alpha':alpha, 'random_state':random_state, 'solver':solver}\n",
    "\n",
    "ridge_r_gsc = GridSearch(model=Ridge(),param_grid=random_grid,cv_folds=5)    \n",
    "ridge_r_model = ridge_r_gsc.fit(X_train,y_train)"
   ]
  },
  {
   "cell_type": "code",
   "execution_count": 54,
   "id": "80428b62",
   "metadata": {},
   "outputs": [
    {
     "data": {
      "text/plain": "{'alpha': 0.001,\n 'copy_X': True,\n 'fit_intercept': True,\n 'max_iter': None,\n 'positive': False,\n 'random_state': 42,\n 'solver': 'sparse_cg',\n 'tol': 0.0001}"
     },
     "execution_count": 54,
     "metadata": {},
     "output_type": "execute_result"
    }
   ],
   "source": [
    "ridge_r_model.get_params()"
   ]
  },
  {
   "cell_type": "code",
   "execution_count": 55,
   "outputs": [],
   "source": [
    "alpha=[x for x in np.arange(0.001,0.1,0.001)]\n",
    "random_state = [42]\n",
    "ratio = [x for x in np.arange(0.1, 1, 0.1)]\n",
    "\n",
    "random_grid = {'alpha':alpha,\n",
    "               \"l1_ratio\": ratio,\n",
    "               'random_state':random_state}\n",
    "\n",
    "elasticnet_r_gsc = GridSearch(model=ElasticNet(),param_grid=random_grid,cv_folds=5)\n",
    "elasticnet_r_model = elasticnet_r_gsc.fit(X_train,y_train)"
   ],
   "metadata": {
    "collapsed": false
   }
  },
  {
   "cell_type": "code",
   "execution_count": 56,
   "outputs": [
    {
     "data": {
      "text/plain": "{'alpha': 0.001,\n 'copy_X': True,\n 'fit_intercept': True,\n 'l1_ratio': 0.9,\n 'max_iter': 1000,\n 'positive': False,\n 'precompute': False,\n 'random_state': 42,\n 'selection': 'cyclic',\n 'tol': 0.0001,\n 'warm_start': False}"
     },
     "execution_count": 56,
     "metadata": {},
     "output_type": "execute_result"
    }
   ],
   "source": [
    "elasticnet_r_model.get_params()"
   ],
   "metadata": {
    "collapsed": false
   }
  },
  {
   "attachments": {},
   "cell_type": "markdown",
   "id": "53e77761",
   "metadata": {},
   "source": [
    "KNeighborsRegressor"
   ]
  },
  {
   "cell_type": "code",
   "execution_count": 57,
   "id": "17768051",
   "metadata": {},
   "outputs": [],
   "source": [
    "leaf_size = list(range(27,33)) \n",
    "n_neighbors = list(range(1,15)) \n",
    "algorithm = [\"auto\", \"ball_tree\", \"kd_tree\", \"brute\"]\n",
    "p = [1,2] #For p = 1 ->manhattan_distance; for p = 2 ->euclidean_distance\n",
    "random_grid = dict(leaf_size=leaf_size, n_neighbors=n_neighbors,algorithm = algorithm,p = p)\n",
    "\n",
    "knnr_gsc = GridSearch(model=KNeighborsRegressor(),param_grid=random_grid,cv_folds=5)   \n",
    "\n",
    "knnr_model = knnr_gsc.fit(X_train, y_train)\n"
   ]
  },
  {
   "cell_type": "code",
   "execution_count": 58,
   "id": "c5f29134",
   "metadata": {},
   "outputs": [
    {
     "data": {
      "text/plain": "{'algorithm': 'kd_tree',\n 'leaf_size': 27,\n 'metric': 'minkowski',\n 'metric_params': None,\n 'n_jobs': None,\n 'n_neighbors': 2,\n 'p': 1,\n 'weights': 'uniform'}"
     },
     "execution_count": 58,
     "metadata": {},
     "output_type": "execute_result"
    }
   ],
   "source": [
    "knnr_model.get_params()"
   ]
  },
  {
   "cell_type": "code",
   "execution_count": 59,
   "id": "1cf03b0d",
   "metadata": {},
   "outputs": [],
   "source": [
    "filename1 = '../Saved Models/Regressor Models/random_state_0/random_forest_regressor.sav'\n",
    "pickle.dump(rf_model, open(filename1, 'wb'))\n",
    "\n",
    "filename2 = '../Saved Models/Regressor Models/random_state_0/XGBoost_regressor.sav'\n",
    "pickle.dump(xgb_model, open(filename2, 'wb'))\n",
    "\n",
    "filename3 = '../Saved Models/Regressor Models/random_state_0/Linear_regressor.sav'\n",
    "pickle.dump(lr_model, open(filename3, 'wb'))\n",
    "\n",
    "filename4 = '../Saved Models/Regressor Models/random_state_0/Lasso_regressor.sav'\n",
    "pickle.dump(lasso_r_model, open(filename4, 'wb'))\n",
    "\n",
    "filename5 = '../Saved Models/Regressor Models/random_state_0/Ridge_regressor.sav'\n",
    "pickle.dump(ridge_r_model, open(filename5, 'wb'))\n",
    "\n",
    "filename6 = '../Saved Models/Regressor Models/random_state_0/KNN_regressor.sav'\n",
    "pickle.dump(knnr_model, open(filename6, 'wb'))\n",
    "\n",
    "filename7 = '../Saved Models/Regressor Models/random_state_0/Elasticnet_regressor.sav'\n",
    "pickle.dump(elasticnet_r_model, open(filename7, 'wb'))"
   ]
  },
  {
   "cell_type": "code",
   "execution_count": 60,
   "id": "a3132aa6",
   "metadata": {},
   "outputs": [],
   "source": [
    "filename1 = '../Saved Models/Regressor Models/random_state_0/random_forest_regressor.sav'\n",
    "random_forest_model = pickle.load(open(filename1, 'rb'))\n",
    "\n",
    "train_pred = random_forest_model.predict(X_train)\n",
    "test_pred = random_forest_model.predict(X_test)\n",
    "  \n",
    "rf_r2_Train = random_forest_model.score(X_train,y_train)\n",
    "rf_r2_Test = random_forest_model.score(X_test,y_test)\n",
    "rf_mse_Train = mse(y_train, train_pred)\n",
    "rf_mse_Test = mse(y_test, test_pred)\n",
    "rf_mae_Train = mae(y_train, train_pred)\n",
    "rf_mae_Test = mae(y_test, test_pred)\n",
    "rf_mape_Train = MAPE(y_train, train_pred)\n",
    "rf_mape_Test = MAPE(y_test, test_pred)\n",
    "rf_adj_r2_Train = adjusted_r_squared(X_train, y_train, rf_r2_Train)\n",
    "rf_adj_r2_Test = adjusted_r_squared(X_test, y_test, rf_r2_Test)\n",
    "rf_cross_val_score_Train = list(cross_val_score(random_forest_model, X_train, y_train, scoring = 'r2',  cv=KFold(n_splits=5,shuffle=True)) )\n",
    "\n",
    "\n",
    "filename1 = '../Saved Models/Regressor Models/random_state_0/XGBoost_regressor.sav'\n",
    "XGBoost_regressor_model = pickle.load(open(filename1, 'rb'))\n",
    "\n",
    "\n",
    "train_pred = XGBoost_regressor_model.predict(X_train)\n",
    "test_pred = XGBoost_regressor_model.predict(X_test)\n",
    "\n",
    "xgb_r2_Train = XGBoost_regressor_model.score(X_train,y_train)\n",
    "xgb_r2_Test = XGBoost_regressor_model.score(X_test,y_test)\n",
    "xgb_mse_Train = mse(y_train, train_pred)\n",
    "xgb_mse_Test = mse(y_test, test_pred)\n",
    "xgb_mae_Train = mae(y_train, train_pred)\n",
    "xgb_mae_Test = mae(y_test, test_pred)\n",
    "xgb_mape_Train = MAPE(y_train, train_pred)\n",
    "xgb_mape_Test = MAPE(y_test, test_pred)\n",
    "xgb_adj_r2_Train = adjusted_r_squared(X_train, y_train, xgb_r2_Train)\n",
    "xgb_adj_r2_Test = adjusted_r_squared(X_test, y_test, xgb_r2_Test)\n",
    "xgb_cross_val_score_Train = list(cross_val_score(XGBoost_regressor_model, X_train, y_train, scoring = 'r2', cv=KFold(n_splits=5,shuffle=True)) )\n",
    "\n",
    "\n",
    "\n",
    "filename1 = '../Saved Models/Regressor Models/random_state_0/Linear_regressor.sav'\n",
    "Linear_regressor_model = pickle.load(open(filename1, 'rb'))\n",
    "\n",
    "\n",
    "train_pred = Linear_regressor_model.predict(X_train)\n",
    "test_pred = Linear_regressor_model.predict(X_test)\n",
    "\n",
    "  \n",
    "lr_r2_Train = Linear_regressor_model.score(X_train,y_train)\n",
    "lr_r2_Test = Linear_regressor_model.score(X_test,y_test)\n",
    "lr_mse_Train = mse(y_train, train_pred)\n",
    "lr_mse_Test = mse(y_test, test_pred)\n",
    "lr_mae_Train = mae(y_train, train_pred)\n",
    "lr_mae_Test = mae(y_test, test_pred)\n",
    "lr_mape_Train = MAPE(y_train, train_pred)\n",
    "lr_mape_Test = MAPE(y_test, test_pred)\n",
    "lr_adj_r2_Train = adjusted_r_squared(X_train, y_train, lr_r2_Train)\n",
    "lr_adj_r2_Test = adjusted_r_squared(X_test, y_test, lr_r2_Test)\n",
    "lr_cross_val_score_Train = list(cross_val_score(Linear_regressor_model, X_train, y_train, scoring = 'r2',  cv=KFold(n_splits=5,shuffle=True)) )\n",
    "\n",
    "\n",
    "filename1 = '../Saved Models/Regressor Models/random_state_0/Lasso_regressor.sav'\n",
    "Lasso_regressor_model = pickle.load(open(filename1, 'rb'))\n",
    "\n",
    "\n",
    "train_pred = Lasso_regressor_model.predict(X_train)\n",
    "test_pred = Lasso_regressor_model.predict(X_test)\n",
    "\n",
    "  \n",
    "lasso_r_r2_Train = Lasso_regressor_model.score(X_train,y_train)\n",
    "lasso_r_r2_Test = Lasso_regressor_model.score(X_test,y_test)\n",
    "lasso_r_mse_Train = mse(y_train, train_pred)\n",
    "lasso_r_mse_Test = mse(y_test, test_pred)\n",
    "lasso_r_mae_Train = mae(y_train, train_pred)\n",
    "lasso_r_mae_Test = mae(y_test, test_pred)\n",
    "lasso_r_mape_Train = MAPE(y_train, train_pred)\n",
    "lasso_r_mape_Test = MAPE(y_test, test_pred)\n",
    "lasso_r_adj_r2_Train = adjusted_r_squared(X_train, y_train, lasso_r_r2_Train)\n",
    "lasso_r_adj_r2_Test = adjusted_r_squared(X_test, y_test, lasso_r_r2_Test)\n",
    "lasso_r_cross_val_score_Train = list(cross_val_score(Lasso_regressor_model, X_train, y_train, scoring = 'r2',  cv=KFold(n_splits=5,shuffle=True)) )\n",
    "\n",
    "\n",
    "filename1 = '../Saved Models/Regressor Models/random_state_0/Ridge_regressor.sav'\n",
    "ridge_model = pickle.load(open(filename1, 'rb'))\n",
    "\n",
    "\n",
    "train_pred = ridge_model.predict(X_train)\n",
    "test_pred = ridge_model.predict(X_test)\n",
    "\n",
    "  \n",
    "ridge_r_r2_Train = ridge_model.score(X_train,y_train)\n",
    "ridge_r_r2_Test = ridge_model.score(X_test,y_test)\n",
    "ridge_r_mse_Train = mse(y_train, train_pred)\n",
    "ridge_r_mse_Test = mse(y_test, test_pred)\n",
    "ridge_r_mae_Train = mae(y_train, train_pred)\n",
    "ridge_r_mae_Test = mae(y_test, test_pred)\n",
    "ridge_r_mape_Train = MAPE(y_train, train_pred)\n",
    "ridge_r_mape_Test = MAPE(y_test, test_pred)\n",
    "ridge_r_adj_r2_Train = adjusted_r_squared(X_train, y_train, ridge_r_r2_Train)\n",
    "ridge_r_adj_r2_Test = adjusted_r_squared(X_test, y_test, ridge_r_r2_Test)\n",
    "ridge_r_cross_val_score_Train = list(cross_val_score(ridge_model, X_train, y_train, scoring = 'r2',  cv=KFold(n_splits=5,shuffle=True)) )\n",
    "\n",
    "filename1 = '../Saved Models/Regressor Models/random_state_0/Elasticnet_regressor.sav'\n",
    "elasticnet_model = pickle.load(open(filename1, 'rb'))\n",
    "\n",
    "\n",
    "train_pred = elasticnet_model.predict(X_train)\n",
    "test_pred = elasticnet_model.predict(X_test)\n",
    "\n",
    "\n",
    "elasticnet_r_r2_Train = elasticnet_model.score(X_train,y_train)\n",
    "elasticnet_r_r2_Test = elasticnet_model.score(X_test,y_test)\n",
    "elasticnet_r_mse_Train = mse(y_train, train_pred)\n",
    "elasticnet_r_mse_Test = mse(y_test, test_pred)\n",
    "elasticnet_r_mae_Train = mae(y_train, train_pred)\n",
    "elasticnet_r_mae_Test = mae(y_test, test_pred)\n",
    "elasticnet_r_mape_Train = MAPE(y_train, train_pred)\n",
    "elasticnet_r_mape_Test = MAPE(y_test, test_pred)\n",
    "elasticnet_r_adj_r2_Train = adjusted_r_squared(X_train, y_train, elasticnet_r_r2_Train)\n",
    "elasticnet_r_adj_r2_Test = adjusted_r_squared(X_test, y_test, elasticnet_r_r2_Test)\n",
    "elasticnet_r_cross_val_score_Train = list(cross_val_score(ridge_model, X_train, y_train, scoring = 'r2',  cv=KFold(n_splits=5,shuffle=True)) )\n",
    "\n",
    "filename1 = '../Saved Models/Regressor Models/random_state_0/KNN_regressor.sav'\n",
    "KNN_regressor_model = pickle.load(open(filename1, 'rb'))\n",
    "\n",
    "\n",
    "train_pred = KNN_regressor_model.predict(X_train)\n",
    "test_pred = KNN_regressor_model.predict(X_test)\n",
    "\n",
    "  \n",
    "knnr_r2_Train = KNN_regressor_model.score(X_train,y_train)\n",
    "knnr_r2_Test = KNN_regressor_model.score(X_test,y_test)\n",
    "knnr_mse_Train = mse(y_train, train_pred)\n",
    "knnr_mse_Test = mse(y_test, test_pred)\n",
    "knnr_mae_Train = mae(y_train, train_pred)\n",
    "knnr_mae_Test = mae(y_test, test_pred)\n",
    "knnr_mape_Train = MAPE(y_train, train_pred)\n",
    "knnr_mape_Test = MAPE(y_test, test_pred)\n",
    "knnr_adj_r2_Train = adjusted_r_squared(X_train, y_train, knnr_r2_Train)\n",
    "knnr_adj_r2_Test = adjusted_r_squared(X_test, y_test, knnr_r2_Test)\n",
    "knnr_cross_val_score_Train = list(cross_val_score(KNN_regressor_model, X_train, y_train, scoring = 'r2', cv=KFold(n_splits=5,shuffle=True)) )\n"
   ]
  },
  {
   "cell_type": "code",
   "execution_count": 61,
   "id": "3134311f",
   "metadata": {},
   "outputs": [
    {
     "data": {
      "text/plain": "                   Model  Train R-square  Test R-square  Train MSE  \\\n3       Lasso Regression        0.998974   9.804086e-01   1.677832   \n4       Ridge Regression        0.999044   9.781160e-01   1.563932   \n5  ElasticNet Regression        0.995368   9.639619e-01   7.576716   \n1     XG Boost Regressor        0.999959   9.074716e-01   0.066719   \n0          Random Forest        0.981837   8.689934e-01  29.706425   \n6          KNN Regressor        0.969972   8.607896e-01  49.112540   \n2      Linear Regression        0.999056  -4.451951e+10   1.544206   \n\n       Test MSE  Train MAE       Test MAE  Train MAPE      Test MAPE  \\\n3  2.697876e+01   0.369990       0.836176    0.355730       1.262085   \n4  3.013589e+01   0.290321       0.788200    0.253705       0.970524   \n5  4.962709e+01   1.115207       1.927420    1.190548       3.219569   \n1  1.274181e+02   0.047120       5.464281    0.033811       5.882555   \n0  1.804054e+02   2.427832       6.553675    2.359458       6.953123   \n6  1.917026e+02   3.599760       7.654176    3.372635       8.308220   \n2  6.130653e+13   0.288802  421545.521849    0.243739  593725.651828   \n\n   Train Adj. R-square  Test Adj. R-square  \\\n3             0.998859        9.743747e-01   \n4             0.998937        9.713760e-01   \n5             0.994848        9.528627e-01   \n1             0.999955        8.789743e-01   \n0             0.979799        8.286454e-01   \n6             0.966603        8.179149e-01   \n2             0.998950       -5.823084e+10   \n\n                Cross_Validation_Scores_for_trainset  \n3  [0.9997243502019562, 0.8511847794345002, 0.997...  \n4  [0.9996997271154792, 0.9769963734702286, 0.993...  \n5  [0.9999061207078912, 0.9950067981682404, 0.981...  \n1  [0.96118845265017, 0.9496411506557066, 0.97402...  \n0  [0.919701881126636, 0.6861273300340971, 0.9426...  \n6  [0.8440953614882337, 0.9175158005556205, 0.818...  \n2  [-37651833238635.88, -4.6507595071427014e+17, ...  ",
      "text/html": "<div>\n<style scoped>\n    .dataframe tbody tr th:only-of-type {\n        vertical-align: middle;\n    }\n\n    .dataframe tbody tr th {\n        vertical-align: top;\n    }\n\n    .dataframe thead th {\n        text-align: right;\n    }\n</style>\n<table border=\"1\" class=\"dataframe\">\n  <thead>\n    <tr style=\"text-align: right;\">\n      <th></th>\n      <th>Model</th>\n      <th>Train R-square</th>\n      <th>Test R-square</th>\n      <th>Train MSE</th>\n      <th>Test MSE</th>\n      <th>Train MAE</th>\n      <th>Test MAE</th>\n      <th>Train MAPE</th>\n      <th>Test MAPE</th>\n      <th>Train Adj. R-square</th>\n      <th>Test Adj. R-square</th>\n      <th>Cross_Validation_Scores_for_trainset</th>\n    </tr>\n  </thead>\n  <tbody>\n    <tr>\n      <th>3</th>\n      <td>Lasso Regression</td>\n      <td>0.998974</td>\n      <td>9.804086e-01</td>\n      <td>1.677832</td>\n      <td>2.697876e+01</td>\n      <td>0.369990</td>\n      <td>0.836176</td>\n      <td>0.355730</td>\n      <td>1.262085</td>\n      <td>0.998859</td>\n      <td>9.743747e-01</td>\n      <td>[0.9997243502019562, 0.8511847794345002, 0.997...</td>\n    </tr>\n    <tr>\n      <th>4</th>\n      <td>Ridge Regression</td>\n      <td>0.999044</td>\n      <td>9.781160e-01</td>\n      <td>1.563932</td>\n      <td>3.013589e+01</td>\n      <td>0.290321</td>\n      <td>0.788200</td>\n      <td>0.253705</td>\n      <td>0.970524</td>\n      <td>0.998937</td>\n      <td>9.713760e-01</td>\n      <td>[0.9996997271154792, 0.9769963734702286, 0.993...</td>\n    </tr>\n    <tr>\n      <th>5</th>\n      <td>ElasticNet Regression</td>\n      <td>0.995368</td>\n      <td>9.639619e-01</td>\n      <td>7.576716</td>\n      <td>4.962709e+01</td>\n      <td>1.115207</td>\n      <td>1.927420</td>\n      <td>1.190548</td>\n      <td>3.219569</td>\n      <td>0.994848</td>\n      <td>9.528627e-01</td>\n      <td>[0.9999061207078912, 0.9950067981682404, 0.981...</td>\n    </tr>\n    <tr>\n      <th>1</th>\n      <td>XG Boost Regressor</td>\n      <td>0.999959</td>\n      <td>9.074716e-01</td>\n      <td>0.066719</td>\n      <td>1.274181e+02</td>\n      <td>0.047120</td>\n      <td>5.464281</td>\n      <td>0.033811</td>\n      <td>5.882555</td>\n      <td>0.999955</td>\n      <td>8.789743e-01</td>\n      <td>[0.96118845265017, 0.9496411506557066, 0.97402...</td>\n    </tr>\n    <tr>\n      <th>0</th>\n      <td>Random Forest</td>\n      <td>0.981837</td>\n      <td>8.689934e-01</td>\n      <td>29.706425</td>\n      <td>1.804054e+02</td>\n      <td>2.427832</td>\n      <td>6.553675</td>\n      <td>2.359458</td>\n      <td>6.953123</td>\n      <td>0.979799</td>\n      <td>8.286454e-01</td>\n      <td>[0.919701881126636, 0.6861273300340971, 0.9426...</td>\n    </tr>\n    <tr>\n      <th>6</th>\n      <td>KNN Regressor</td>\n      <td>0.969972</td>\n      <td>8.607896e-01</td>\n      <td>49.112540</td>\n      <td>1.917026e+02</td>\n      <td>3.599760</td>\n      <td>7.654176</td>\n      <td>3.372635</td>\n      <td>8.308220</td>\n      <td>0.966603</td>\n      <td>8.179149e-01</td>\n      <td>[0.8440953614882337, 0.9175158005556205, 0.818...</td>\n    </tr>\n    <tr>\n      <th>2</th>\n      <td>Linear Regression</td>\n      <td>0.999056</td>\n      <td>-4.451951e+10</td>\n      <td>1.544206</td>\n      <td>6.130653e+13</td>\n      <td>0.288802</td>\n      <td>421545.521849</td>\n      <td>0.243739</td>\n      <td>593725.651828</td>\n      <td>0.998950</td>\n      <td>-5.823084e+10</td>\n      <td>[-37651833238635.88, -4.6507595071427014e+17, ...</td>\n    </tr>\n  </tbody>\n</table>\n</div>"
     },
     "execution_count": 61,
     "metadata": {},
     "output_type": "execute_result"
    }
   ],
   "source": [
    "models_regressor_comparison = pd.DataFrame({\n",
    "    'Model'       : ['Random Forest', 'XG Boost Regressor', 'Linear Regression', 'Lasso Regression', 'Ridge Regression', \"ElasticNet Regression\", 'KNN Regressor' ],\n",
    "    'Train R-square': [rf_r2_Train, xgb_r2_Train, lr_r2_Train, lasso_r_r2_Train,   ridge_r_r2_Train, elasticnet_r_r2_Train, knnr_r2_Train],\n",
    "    'Test R-square': [rf_r2_Test, xgb_r2_Test, lr_r2_Test, lasso_r_r2_Test,  ridge_r_r2_Test, elasticnet_r_r2_Test, knnr_r2_Test],\n",
    "    'Train MSE'    : [rf_mse_Train, xgb_mse_Train, lr_mse_Train, lasso_r_mse_Train,  ridge_r_mse_Train, elasticnet_r_mse_Train, knnr_mse_Train],\n",
    "    'Test MSE'   : [rf_mse_Test, xgb_mse_Test, lr_mse_Test, lasso_r_mse_Test, ridge_r_mse_Test, elasticnet_r_mse_Test, knnr_mse_Test],\n",
    "    'Train MAE':[rf_mae_Train, xgb_mae_Train, lr_mae_Train, lasso_r_mae_Train, ridge_r_mae_Train, elasticnet_r_mae_Train, knnr_mae_Train],\n",
    "    'Test MAE':[rf_mae_Test, xgb_mae_Test, lr_mae_Test, lasso_r_mae_Test, ridge_r_mae_Test, elasticnet_r_mae_Test, knnr_mae_Test],\n",
    "    'Train MAPE':[rf_mape_Train, xgb_mape_Train, lr_mape_Train, lasso_r_mape_Train, ridge_r_mape_Train, elasticnet_r_mape_Train, knnr_mape_Train],\n",
    "    'Test MAPE':[rf_mape_Test, xgb_mape_Test, lr_mape_Test, lasso_r_mape_Test, ridge_r_mape_Test, elasticnet_r_mape_Test, knnr_mape_Test],\n",
    "    'Train Adj. R-square': [rf_adj_r2_Train, xgb_adj_r2_Train, lr_adj_r2_Train, lasso_r_adj_r2_Train,    ridge_r_adj_r2_Train,elasticnet_r_adj_r2_Train, knnr_adj_r2_Train],\n",
    "    'Test Adj. R-square': [rf_adj_r2_Test, xgb_adj_r2_Test, lr_adj_r2_Test, lasso_r_adj_r2_Test,  ridge_r_adj_r2_Test,elasticnet_r_adj_r2_Test, knnr_adj_r2_Test],\n",
    "    'Cross_Validation_Scores_for_trainset': [rf_cross_val_score_Train, xgb_cross_val_score_Train, lr_cross_val_score_Train, lasso_r_cross_val_score_Train, ridge_r_cross_val_score_Train, elasticnet_r_cross_val_score_Train, knnr_cross_val_score_Train],\n",
    "    \n",
    "     }, columns = ['Model', 'Train R-square', 'Test R-square', 'Train MSE', 'Test MSE', 'Train MAE', 'Test MAE', 'Train MAPE', 'Test MAPE', 'Train Adj. R-square', 'Test Adj. R-square', 'Cross_Validation_Scores_for_trainset' ])\n",
    "\n",
    "# models_regressor_comparison.set_index('Model', inplace=True)\n",
    "models_regressor_comparison.sort_values(by='Test R-square', ascending=False)"
   ]
  },
  {
   "cell_type": "code",
   "execution_count": 62,
   "id": "6c89671f",
   "metadata": {},
   "outputs": [],
   "source": [
    "models_regressor_comparison.to_csv(\"../Saved Models/Regressor Models/random_state_0/Regression_results_dataframe.csv\")"
   ]
  },
  {
   "cell_type": "code",
   "execution_count": 63,
   "id": "b43af154",
   "metadata": {},
   "outputs": [
    {
     "name": "stdout",
     "output_type": "stream",
     "text": [
      "(345,)\n",
      "(345, 1)\n"
     ]
    },
    {
     "data": {
      "text/plain": "<matplotlib.legend.Legend at 0x134a1ff5460>"
     },
     "execution_count": 63,
     "metadata": {},
     "output_type": "execute_result"
    },
    {
     "data": {
      "text/plain": "<Figure size 1000x600 with 1 Axes>",
      "image/png": "[encoded data removed]"
     },
     "metadata": {},
     "output_type": "display_data"
    }
   ],
   "source": [
    "test_pred = lasso_r_model.predict(X_test).reshape(-1,1)[:,0]\n",
    "print(test_pred.shape)\n",
    "print(np.array(y_test).reshape(-1,1).shape)\n",
    "\n",
    "d = {'Actual': list(test_pred), 'Predicted': list(np.array(y_test).reshape(-1,1)[:,0])} #['Mean_BulkModulus']\n",
    "df = pd.DataFrame(d)\n",
    "\n",
    "import matplotlib.pyplot as plt\n",
    "import seaborn as sns\n",
    "from scipy import stats\n",
    "df\n",
    "sns.set_theme(color_codes=True)\n",
    "fig = plt.figure(figsize=(10,6))\n",
    "ax=fig.add_subplot(111)\n",
    "ax.set_xlim(0, 300)\n",
    "slope, intercept, r_value, p_value, std_err = stats.linregress(df['Actual'],df['Predicted'])\n",
    "sns.regplot(x = 'Actual',y = 'Predicted',data = df,line_kws={'label':\"Best Linear Fit : \" + \"y={0:.1f}x+{1:.1f}\".format(slope,intercept)},label='Data points')\n",
    "plt.xlabel('Actual Bulk Modulus of HEAs')\n",
    "plt.ylabel('Predicted Bulk Modulus of HEAs')\n",
    "fig.legend()\n",
    "# plt.savefig(\"Residual_plot.svg\")"
   ]
  },
  {
   "cell_type": "code",
   "execution_count": null,
   "outputs": [],
   "source": [],
   "metadata": {
    "collapsed": false
   }
  }
 ],
 "metadata": {
  "kernelspec": {
   "display_name": "pyenv_3.6",
   "language": "python",
   "name": "python3"
  },
  "language_info": {
   "codemirror_mode": {
    "name": "ipython",
    "version": 3
   },
   "file_extension": ".py",
   "mimetype": "text/x-python",
   "name": "python",
   "nbconvert_exporter": "python",
   "pygments_lexer": "ipython3",
   "version": "3.6.10"
  },
  "vscode": {
   "interpreter": {
    "hash": "43cbfdd7f681cea137b4df66511d8c579c662e3c988171d38e4cbd552d131a4f"
   }
  }
 },
 "nbformat": 4,
 "nbformat_minor": 5
}
