{
 "cells": [
  {
   "cell_type": "code",
   "execution_count": 1,
   "outputs": [
    {
     "name": "stdout",
     "output_type": "stream",
     "text": [
      "3.9.6\n"
     ]
    }
   ],
   "source": [
    "from platform import python_version\n",
    "\n",
    "print(python_version())"
   ],
   "metadata": {
    "collapsed": false
   }
  },
  {
   "cell_type": "markdown",
   "source": [
    "## High Entropy Alloy(HEA) Classifier\n",
    "\n",
    "\n",
    "---\n",
    "This is the first submodule of our work which classifies if the given input is HEA or non-HEA\n"
   ],
   "metadata": {
    "collapsed": false
   }
  },
  {
   "cell_type": "code",
   "execution_count": 2,
   "outputs": [],
   "source": [
    "from sklearn.svm import SVC,NuSVC\n",
    "from sklearn.linear_model import SGDClassifier, LogisticRegression\n",
    "from sklearn.neighbors import KNeighborsClassifier\n",
    "from sklearn.ensemble import RandomForestClassifier, AdaBoostClassifier, GradientBoostingClassifier, ExtraTreesClassifier\n",
    "from xgboost import XGBClassifier\n",
    "from sklearn.tree import DecisionTreeClassifier\n",
    "from sklearn.naive_bayes import GaussianNB\n",
    "from sklearn.model_selection import KFold\n",
    "import numpy as np\n",
    "import pandas as pd\n",
    "from hypopt import GridSearch\n",
    "from sklearn.metrics import roc_auc_score, accuracy_score, precision_score, recall_score, f1_score\n",
    "from sklearn.model_selection import cross_val_score\n",
    "import pickle\n",
    "from sklearn.metrics import mean_squared_error as mse\n",
    "from sklearn.model_selection import cross_validate\n",
    "from sklearn.model_selection import train_test_split\n",
    "\n",
    "# Ignore Warnings\n",
    "import warnings\n",
    "warnings.filterwarnings('ignore')\n",
    "\n",
    "# from google.colab import drive"
   ],
   "metadata": {
    "collapsed": false
   }
  },
  {
   "cell_type": "markdown",
   "source": [
    "Loading Dataset for classifier"
   ],
   "metadata": {
    "collapsed": false
   }
  },
  {
   "cell_type": "code",
   "execution_count": 3,
   "outputs": [
    {
     "data": {
      "text/plain": "Index(['Alloy', 'Length', 'HEA/Non-HEA', 'Al', 'Ca', 'Cu', 'Zr', 'Ni', 'Nb',\n       'Ag', 'Mg', 'Gd', 'Au', 'Si', 'Zn', 'Ce', 'Hf', 'Ti', 'Ga', 'Dy', 'Co',\n       'Er', 'Fe', 'Ho', 'La', 'Lu', 'Nd', 'Pr', 'Tb', 'Ta', 'Pd', 'Sm', 'Tm',\n       'Be', 'Mo', 'Li', 'In', 'Mn', 'Sn', 'Sc', 'Yb', 'Cr', 'Pb', 'Ge', 'Pt',\n       'As', 'B', 'Ba', 'Bi', 'Br', 'C', 'Cd', 'Cl', 'Cs', 'Eu', 'F', 'H',\n       'Hg', 'I', 'Ir', 'K', 'N', 'Na', 'Ne', 'Ns', 'O', 'Os', 'P', 'Rb', 'Re',\n       'Rh', 'Ru', 'S', 'Sb', 'Se', 'Sr', 'Te', 'Tl', 'V', 'W', 'Y', 'Tc'],\n      dtype='object')"
     },
     "execution_count": 3,
     "metadata": {},
     "output_type": "execute_result"
    }
   ],
   "source": [
    "main_hea = pd.read_csv(\"../Datasets/Final_HEA_Classifier.csv\")\n",
    "\n",
    "main_hea.columns"
   ],
   "metadata": {
    "collapsed": false
   }
  },
  {
   "cell_type": "code",
   "execution_count": 4,
   "outputs": [
    {
     "data": {
      "text/plain": "False"
     },
     "execution_count": 4,
     "metadata": {},
     "output_type": "execute_result"
    }
   ],
   "source": [
    "main_hea.isnull().values.any()"
   ],
   "metadata": {
    "collapsed": false
   }
  },
  {
   "cell_type": "markdown",
   "source": [
    "Train-Test Split on compiled dataset is shown below and train and test sets are saved as .csv format which can be directly used for loading into models."
   ],
   "metadata": {
    "collapsed": false
   }
  },
  {
   "cell_type": "code",
   "execution_count": 5,
   "outputs": [],
   "source": [
    "features = ['Al', 'Ca', 'Cu', 'Zr', 'Ni', 'Nb', 'Ag', 'Mg','Gd', 'Au', 'Si', 'Zn', 'Ce', 'Hf', 'Ti', 'Ga', 'Dy', 'Co', 'Er', 'Fe','Ho', 'La', 'Lu', 'Nd', 'Pr', 'Tb', 'Ta', 'Pd', 'Sm', 'Tm', 'Be', 'Mo','Li', 'In', 'Mn', 'Sn', 'Sc', 'Yb', 'Cr', 'Pb', 'Ge', 'Pt','As', 'B', 'Ba', 'Bi', 'Br', 'C', 'Cd', 'Cl', 'Cs', 'Eu','F', 'H', 'Hg', 'I', 'Ir', 'K', 'N', 'Na', 'Ne', 'Ns', 'O', 'Os', 'P','Rb', 'Re', 'Rh', 'Ru', 'S', 'Sb', 'Se', 'Sr', 'Te', 'Tl', 'V', 'W','Y', 'Tc']\n",
    "X = main_hea[features]#, errors = 'ignore'.astype('float').values\n",
    "y = main_hea['HEA/Non-HEA'].values\n",
    "X_train, X_test, y_train, y_test = train_test_split(X, y, random_state=1, train_size = .70)\n",
    "\n",
    "\n",
    "X_train.to_csv(\"../Datasets/Classifier_sets/random_state_1/Classifier_X_train.csv\", index=False)\n",
    "X_test.to_csv(\"../Datasets/Classifier_sets/random_state_1/Classifier_X_test.csv\", index=False)\n",
    "pd.DataFrame(y_train).to_csv(\"../Datasets/Classifier_sets/random_state_1/Classifier_y_train.csv\", index=False)\n",
    "pd.DataFrame(y_test).to_csv(\"../Datasets/Classifier_sets/random_state_1/Classifier_y_test.csv\", index=False)\n"
   ],
   "metadata": {
    "collapsed": false
   }
  },
  {
   "cell_type": "code",
   "execution_count": 6,
   "outputs": [
    {
     "name": "stdout",
     "output_type": "stream",
     "text": [
      "<class 'numpy.ndarray'> (1320,)\n"
     ]
    }
   ],
   "source": [
    "print(type(y_train),y_train.shape)"
   ],
   "metadata": {
    "collapsed": false
   }
  },
  {
   "cell_type": "markdown",
   "source": [
    "Train and Test set feature and label shapes"
   ],
   "metadata": {
    "collapsed": false
   }
  },
  {
   "cell_type": "code",
   "execution_count": 7,
   "outputs": [
    {
     "name": "stdout",
     "output_type": "stream",
     "text": [
      "(1320, 79) (1320,) (567, 79) (567,)\n"
     ]
    }
   ],
   "source": [
    "print(X_train.shape, y_train.shape, X_test.shape, y_test.shape)"
   ],
   "metadata": {
    "collapsed": false
   }
  },
  {
   "cell_type": "markdown",
   "source": [
    "Logistic Regression"
   ],
   "metadata": {
    "collapsed": false
   }
  },
  {
   "cell_type": "code",
   "execution_count": 8,
   "outputs": [],
   "source": [
    "penalty = [\"l2\", \"l1\", \"elasticnet\"]\n",
    "intercept_scaling = [x for x in np.arange(0.6,1.4,0.2)]\n",
    "C =  [x for x in np.arange(0,1.2,0.05)]\n",
    "tol = [x for x in np.arange(0,0.004,0.0005)]\n",
    "random_state=[0]\n",
    "\n",
    "random_grid = {'penalty': penalty,\n",
    "               'tol': tol,\n",
    "               'C':C,\n",
    "               'random_state':random_state\n",
    "               }\n",
    "\n",
    "lr = GridSearch(model = LogisticRegression(),param_grid=random_grid,cv_folds=5)\n",
    "lr_model = lr.fit(X_train, np.array(y_train))"
   ],
   "metadata": {
    "collapsed": false
   }
  },
  {
   "cell_type": "code",
   "execution_count": 9,
   "outputs": [
    {
     "data": {
      "text/plain": "{'C': 1.05,\n 'class_weight': None,\n 'dual': False,\n 'fit_intercept': True,\n 'intercept_scaling': 1,\n 'l1_ratio': None,\n 'max_iter': 100,\n 'multi_class': 'auto',\n 'n_jobs': None,\n 'penalty': 'l2',\n 'random_state': 0,\n 'solver': 'lbfgs',\n 'tol': 0.0,\n 'verbose': 0,\n 'warm_start': False}"
     },
     "execution_count": 9,
     "metadata": {},
     "output_type": "execute_result"
    }
   ],
   "source": [
    "lr_model.get_params()"
   ],
   "metadata": {
    "collapsed": false
   }
  },
  {
   "cell_type": "markdown",
   "source": [
    "Support Vector Classifier(SVC)"
   ],
   "metadata": {
    "collapsed": false
   }
  },
  {
   "cell_type": "code",
   "execution_count": 10,
   "outputs": [],
   "source": [
    "kernel = [\"linear\", \"poly\", \"rbf\", \"sigmoid\"]\n",
    "degree = [2,3,4]\n",
    "coef0 = [x for x in np.arange(0,0.5,0.05)]\n",
    "C =  [x for x in np.arange(0,1.2,0.05)]\n",
    "random_state=[0]\n",
    "probability = [True]\n",
    "\n",
    "random_grid = {'kernel': kernel,\n",
    "               'degree': degree,\n",
    "               'coef0':coef0,\n",
    "               'C':C,\n",
    "               'random_state':random_state,\n",
    "               'probability':probability\n",
    "               }\n",
    "\n",
    "svc = GridSearch(model = SVC(),param_grid=random_grid,cv_folds=5)\n",
    "svc_model = svc.fit(X_train, np.array(y_train))"
   ],
   "metadata": {
    "collapsed": false
   }
  },
  {
   "cell_type": "code",
   "execution_count": 11,
   "outputs": [
    {
     "data": {
      "text/plain": "{'C': 0.30000000000000004,\n 'break_ties': False,\n 'cache_size': 200,\n 'class_weight': None,\n 'coef0': 0.35000000000000003,\n 'decision_function_shape': 'ovr',\n 'degree': 4,\n 'gamma': 'scale',\n 'kernel': 'poly',\n 'max_iter': -1,\n 'probability': True,\n 'random_state': 0,\n 'shrinking': True,\n 'tol': 0.001,\n 'verbose': False}"
     },
     "execution_count": 11,
     "metadata": {},
     "output_type": "execute_result"
    }
   ],
   "source": [
    "svc_model.get_params()"
   ],
   "metadata": {
    "collapsed": false
   }
  },
  {
   "cell_type": "markdown",
   "source": [
    "Nu-Support Vector Classifier(NuSVC)"
   ],
   "metadata": {
    "collapsed": false
   }
  },
  {
   "cell_type": "code",
   "execution_count": 12,
   "outputs": [],
   "source": [
    "nu = [x for x in np.arange(0,0.7,0.025)]\n",
    "kernel = [\"linear\", \"poly\", \"rbf\", \"sigmoid\"]\n",
    "degree = [2,3,4]\n",
    "coef0 = [x for x in np.arange(0,0.4,0.05)]\n",
    "probability = [True]\n",
    "random_state=[0]\n",
    "\n",
    "random_grid = {'kernel': kernel,\n",
    "               'degree': degree,\n",
    "               'coef0':coef0,\n",
    "               'nu':nu,\n",
    "               'random_state':random_state,\n",
    "               'probability':probability\n",
    "               }\n",
    "\n",
    "nusvc = GridSearch(model = NuSVC(),param_grid=random_grid,cv_folds=5)\n",
    "nusvc_model = nusvc.fit(X_train, np.array(y_train))\n"
   ],
   "metadata": {
    "collapsed": false
   }
  },
  {
   "cell_type": "code",
   "execution_count": 13,
   "outputs": [
    {
     "data": {
      "text/plain": "{'break_ties': False,\n 'cache_size': 200,\n 'class_weight': None,\n 'coef0': 0.05,\n 'decision_function_shape': 'ovr',\n 'degree': 2,\n 'gamma': 'scale',\n 'kernel': 'poly',\n 'max_iter': -1,\n 'nu': 0.45,\n 'probability': True,\n 'random_state': 0,\n 'shrinking': True,\n 'tol': 0.001,\n 'verbose': False}"
     },
     "execution_count": 13,
     "metadata": {},
     "output_type": "execute_result"
    }
   ],
   "source": [
    "nusvc_model.get_params()"
   ],
   "metadata": {
    "collapsed": false
   }
  },
  {
   "cell_type": "markdown",
   "source": [
    "Stochastic Gradient Descent(SGD) Classifier"
   ],
   "metadata": {
    "collapsed": false
   }
  },
  {
   "cell_type": "code",
   "execution_count": 14,
   "outputs": [],
   "source": [
    "penalty = [\"l1\", \"l2\",\"elasticnet\"]\n",
    "alpha = [x for x in np.arange(0.0001,0.0002,0.00005)]\n",
    "random_state=[0]\n",
    "loss = ['modified_huber']\n",
    "\n",
    "random_grid = {'penalty': penalty,\n",
    "               'alpha': alpha,\n",
    "               'random_state':random_state,\n",
    "               'loss':loss\n",
    "               }\n",
    "\n",
    "sgd = GridSearch(model = SGDClassifier(),param_grid=random_grid,cv_folds=5)\n",
    "sgd_model = sgd.fit(X_train, np.array(y_train))"
   ],
   "metadata": {
    "collapsed": false
   }
  },
  {
   "cell_type": "code",
   "execution_count": 15,
   "outputs": [
    {
     "data": {
      "text/plain": "{'alpha': 0.00015000000000000001,\n 'average': False,\n 'class_weight': None,\n 'early_stopping': False,\n 'epsilon': 0.1,\n 'eta0': 0.0,\n 'fit_intercept': True,\n 'l1_ratio': 0.15,\n 'learning_rate': 'optimal',\n 'loss': 'modified_huber',\n 'max_iter': 1000,\n 'n_iter_no_change': 5,\n 'n_jobs': None,\n 'penalty': 'l2',\n 'power_t': 0.5,\n 'random_state': 0,\n 'shuffle': True,\n 'tol': 0.001,\n 'validation_fraction': 0.1,\n 'verbose': 0,\n 'warm_start': False}"
     },
     "execution_count": 15,
     "metadata": {},
     "output_type": "execute_result"
    }
   ],
   "source": [
    "sgd_model.get_params()"
   ],
   "metadata": {
    "collapsed": false
   }
  },
  {
   "cell_type": "markdown",
   "source": [
    "KNeighbors Classifier"
   ],
   "metadata": {
    "collapsed": false
   }
  },
  {
   "cell_type": "code",
   "execution_count": 16,
   "outputs": [],
   "source": [
    "leaf_size = list(range(25,40,2))\n",
    "n_neighbors = list(range(3,12))\n",
    "algorithm = [\"auto\", \"ball_tree\", \"kd_tree\",\"brute\"]\n",
    "p = [1,2]\n",
    "\n",
    "random_grid = {'leaf_size': leaf_size,\n",
    "               'n_neighbors': n_neighbors,\n",
    "               'algorithm':algorithm,\n",
    "               'p':p\n",
    "               }\n",
    "\n",
    "knc = GridSearch(model = KNeighborsClassifier(),param_grid=random_grid,cv_folds=5)\n",
    "kneighbors_model = knc.fit(X_train, np.array(y_train))"
   ],
   "metadata": {
    "collapsed": false
   }
  },
  {
   "cell_type": "code",
   "execution_count": 17,
   "outputs": [
    {
     "data": {
      "text/plain": "{'algorithm': 'ball_tree',\n 'leaf_size': 25,\n 'metric': 'minkowski',\n 'metric_params': None,\n 'n_jobs': None,\n 'n_neighbors': 10,\n 'p': 1,\n 'weights': 'uniform'}"
     },
     "execution_count": 17,
     "metadata": {},
     "output_type": "execute_result"
    }
   ],
   "source": [
    "kneighbors_model.get_params()"
   ],
   "metadata": {
    "collapsed": false
   }
  },
  {
   "cell_type": "markdown",
   "source": [
    "Gradient Boosting Classifier"
   ],
   "metadata": {
    "collapsed": false
   }
  },
  {
   "cell_type": "code",
   "execution_count": 18,
   "outputs": [],
   "source": [
    "n_estimators = list(range(80,105,5))\n",
    "min_samples_split = list(range(2,4))\n",
    "max_depth = list(range(1,12))\n",
    "min_samples_leaf = list(range(1,3))\n",
    "\n",
    "learning_rate = list(np.arange(0,0.35,0.05))\n",
    "random_state = [0]\n",
    "\n",
    "random_grid = {'n_estimators': n_estimators,\n",
    "               'min_samples_split': min_samples_split,\n",
    "               'max_depth':max_depth,\n",
    "               'min_samples_leaf':min_samples_leaf,\n",
    "               'learning_rate':learning_rate,\n",
    "               'random_state':random_state\n",
    "               }\n",
    "\n",
    "gbc = GridSearch(model = GradientBoostingClassifier(),param_grid=random_grid,cv_folds=5)\n",
    "gradientBoosting_model = gbc.fit(X_train, np.array(y_train))"
   ],
   "metadata": {
    "collapsed": false
   }
  },
  {
   "cell_type": "code",
   "execution_count": 19,
   "outputs": [
    {
     "data": {
      "text/plain": "{'ccp_alpha': 0.0,\n 'criterion': 'friedman_mse',\n 'init': None,\n 'learning_rate': 0.2,\n 'loss': 'log_loss',\n 'max_depth': 5,\n 'max_features': None,\n 'max_leaf_nodes': None,\n 'min_impurity_decrease': 0.0,\n 'min_samples_leaf': 2,\n 'min_samples_split': 2,\n 'min_weight_fraction_leaf': 0.0,\n 'n_estimators': 95,\n 'n_iter_no_change': None,\n 'random_state': 0,\n 'subsample': 1.0,\n 'tol': 0.0001,\n 'validation_fraction': 0.1,\n 'verbose': 0,\n 'warm_start': False}"
     },
     "execution_count": 19,
     "metadata": {},
     "output_type": "execute_result"
    }
   ],
   "source": [
    "gradientBoosting_model.get_params()"
   ],
   "metadata": {
    "collapsed": false
   }
  },
  {
   "cell_type": "markdown",
   "source": [
    "AdaBoost Classifier"
   ],
   "metadata": {
    "collapsed": false
   }
  },
  {
   "cell_type": "code",
   "execution_count": 20,
   "outputs": [],
   "source": [
    "n_estimators = list(range(40,150,5))\n",
    "learning_rate = list(np.arange(1,3,0.25))\n",
    "algorithm = ['SAMME','SAMME.R']\n",
    "random_state = [0]\n",
    "\n",
    "random_grid = {'n_estimators': n_estimators,\n",
    "               'learning_rate': learning_rate,\n",
    "               'algorithm':algorithm,\n",
    "               'random_state':random_state\n",
    "               }\n",
    "\n",
    "abc = GridSearch(model = AdaBoostClassifier(),param_grid=random_grid,cv_folds=5)\n",
    "AdaBoost_model = abc.fit(X_train, np.array(y_train))"
   ],
   "metadata": {
    "collapsed": false
   }
  },
  {
   "cell_type": "code",
   "execution_count": 21,
   "outputs": [
    {
     "data": {
      "text/plain": "{'algorithm': 'SAMME',\n 'base_estimator': 'deprecated',\n 'estimator': None,\n 'learning_rate': 1.5,\n 'n_estimators': 85,\n 'random_state': 0}"
     },
     "execution_count": 21,
     "metadata": {},
     "output_type": "execute_result"
    }
   ],
   "source": [
    "AdaBoost_model.get_params()"
   ],
   "metadata": {
    "collapsed": false
   }
  },
  {
   "cell_type": "markdown",
   "source": [
    "Random Forest Classifier"
   ],
   "metadata": {
    "collapsed": false
   }
  },
  {
   "cell_type": "code",
   "execution_count": 22,
   "outputs": [],
   "source": [
    "n_estimators = list(range(70,130,5))\n",
    "min_samples_split = list(range(2,4))\n",
    "max_depth = list(range(1,15))\n",
    "max_features = [\"auto\", \"sqrt\", \"log2\"]\n",
    "random_state = [0]\n",
    "\n",
    "random_grid = {'n_estimators': n_estimators,\n",
    "               'min_samples_split': min_samples_split,\n",
    "               'max_depth':max_depth,\n",
    "               'max_features':max_features,\n",
    "               'random_state':random_state\n",
    "               }\n",
    "\n",
    "rfc = GridSearch(model = RandomForestClassifier(),param_grid=random_grid,cv_folds=5)\n",
    "RFC_model = rfc.fit(X_train, np.array(y_train))"
   ],
   "metadata": {
    "collapsed": false
   }
  },
  {
   "cell_type": "code",
   "execution_count": 23,
   "outputs": [
    {
     "data": {
      "text/plain": "{'bootstrap': True,\n 'ccp_alpha': 0.0,\n 'class_weight': None,\n 'criterion': 'gini',\n 'max_depth': 14,\n 'max_features': 'auto',\n 'max_leaf_nodes': None,\n 'max_samples': None,\n 'min_impurity_decrease': 0.0,\n 'min_samples_leaf': 1,\n 'min_samples_split': 3,\n 'min_weight_fraction_leaf': 0.0,\n 'n_estimators': 90,\n 'n_jobs': None,\n 'oob_score': False,\n 'random_state': 0,\n 'verbose': 0,\n 'warm_start': False}"
     },
     "execution_count": 23,
     "metadata": {},
     "output_type": "execute_result"
    }
   ],
   "source": [
    "RFC_model.get_params()"
   ],
   "metadata": {
    "collapsed": false
   }
  },
  {
   "cell_type": "markdown",
   "source": [
    "Extreme Gradient Boosting (XGB) Classifier"
   ],
   "metadata": {
    "collapsed": false
   }
  },
  {
   "cell_type": "code",
   "execution_count": 25,
   "outputs": [],
   "source": [
    "booster = ['gbtree', 'gblinear', 'dart']\n",
    "eta = list(np.arange(0,1, 0.05))\n",
    "max_depth = list(range(3,10))\n",
    "\n",
    "random_grid = {'booster': booster,\n",
    "               'eta': eta,\n",
    "               'max_depth':max_depth\n",
    "               }\n",
    "\n",
    "xgbc = GridSearch(model = XGBClassifier(),param_grid=random_grid,cv_folds=5)\n",
    "XGB_Classifier_model = xgbc.fit(X_train, np.array(y_train))"
   ],
   "metadata": {
    "collapsed": false
   }
  },
  {
   "cell_type": "code",
   "execution_count": 26,
   "outputs": [
    {
     "data": {
      "text/plain": "{'objective': 'binary:logistic',\n 'use_label_encoder': None,\n 'base_score': None,\n 'booster': 'gbtree',\n 'callbacks': None,\n 'colsample_bylevel': None,\n 'colsample_bynode': None,\n 'colsample_bytree': None,\n 'early_stopping_rounds': None,\n 'enable_categorical': False,\n 'eval_metric': None,\n 'feature_types': None,\n 'gamma': None,\n 'gpu_id': None,\n 'grow_policy': None,\n 'importance_type': None,\n 'interaction_constraints': None,\n 'learning_rate': None,\n 'max_bin': None,\n 'max_cat_threshold': None,\n 'max_cat_to_onehot': None,\n 'max_delta_step': None,\n 'max_depth': 4,\n 'max_leaves': None,\n 'min_child_weight': None,\n 'missing': nan,\n 'monotone_constraints': None,\n 'n_estimators': 100,\n 'n_jobs': None,\n 'num_parallel_tree': None,\n 'predictor': None,\n 'random_state': None,\n 'reg_alpha': None,\n 'reg_lambda': None,\n 'sampling_method': None,\n 'scale_pos_weight': None,\n 'subsample': None,\n 'tree_method': None,\n 'validate_parameters': None,\n 'verbosity': None,\n 'eta': 0.35000000000000003}"
     },
     "execution_count": 26,
     "metadata": {},
     "output_type": "execute_result"
    }
   ],
   "source": [
    "XGB_Classifier_model.get_params()"
   ],
   "metadata": {
    "collapsed": false
   }
  },
  {
   "cell_type": "markdown",
   "source": [
    "Decision Tree Classifier"
   ],
   "metadata": {
    "collapsed": false
   }
  },
  {
   "cell_type": "code",
   "execution_count": 27,
   "outputs": [],
   "source": [
    "min_samples_split = list(range(2,5))\n",
    "max_depth = list(range(1,15))\n",
    "min_samples_leaf = list(range(1,3))\n",
    "max_features = [\"auto\", \"sqrt\", \"log2\"]\n",
    "random_state = [0]\n",
    "\n",
    "random_grid = {\n",
    "               'min_samples_split': min_samples_split,\n",
    "               'max_depth':max_depth,\n",
    "               'min_samples_leaf':min_samples_leaf,\n",
    "               'max_features':max_features,\n",
    "               'random_state':random_state\n",
    "               }\n",
    "\n",
    "dtc = GridSearch(model = DecisionTreeClassifier(),param_grid=random_grid,cv_folds=5)\n",
    "DTC_model = dtc.fit(X_train, np.array(y_train))"
   ],
   "metadata": {
    "collapsed": false
   }
  },
  {
   "cell_type": "code",
   "execution_count": 28,
   "outputs": [
    {
     "data": {
      "text/plain": "{'ccp_alpha': 0.0,\n 'class_weight': None,\n 'criterion': 'gini',\n 'max_depth': 14,\n 'max_features': 'auto',\n 'max_leaf_nodes': None,\n 'min_impurity_decrease': 0.0,\n 'min_samples_leaf': 1,\n 'min_samples_split': 2,\n 'min_weight_fraction_leaf': 0.0,\n 'random_state': 0,\n 'splitter': 'best'}"
     },
     "execution_count": 28,
     "metadata": {},
     "output_type": "execute_result"
    }
   ],
   "source": [
    "DTC_model.get_params()"
   ],
   "metadata": {
    "collapsed": false
   }
  },
  {
   "cell_type": "markdown",
   "source": [
    "Extra Trees Classifier"
   ],
   "metadata": {
    "collapsed": false
   }
  },
  {
   "cell_type": "code",
   "execution_count": 29,
   "outputs": [],
   "source": [
    "n_estimators = list(range(70,130,5))\n",
    "min_samples_split = list(range(2,5))\n",
    "max_depth = list(range(1,12))\n",
    "min_samples_leaf = list(range(1,3))\n",
    "max_features = [\"auto\", \"sqrt\", \"log2\"]\n",
    "random_state = [0]\n",
    "\n",
    "random_grid = {\n",
    "               'n_estimators':n_estimators,\n",
    "               'min_samples_split': min_samples_split,\n",
    "               'max_depth':max_depth,\n",
    "               'min_samples_leaf':min_samples_leaf,\n",
    "               'max_features':max_features,\n",
    "               'random_state':random_state\n",
    "               }\n",
    "\n",
    "etc = GridSearch(model = ExtraTreesClassifier(),param_grid=random_grid,cv_folds=5)\n",
    "ExtraTreesClassifier_model = etc.fit(X_train, np.array(y_train))"
   ],
   "metadata": {
    "collapsed": false
   }
  },
  {
   "cell_type": "code",
   "execution_count": 30,
   "outputs": [
    {
     "data": {
      "text/plain": "{'bootstrap': False,\n 'ccp_alpha': 0.0,\n 'class_weight': None,\n 'criterion': 'gini',\n 'max_depth': 11,\n 'max_features': 'auto',\n 'max_leaf_nodes': None,\n 'max_samples': None,\n 'min_impurity_decrease': 0.0,\n 'min_samples_leaf': 1,\n 'min_samples_split': 2,\n 'min_weight_fraction_leaf': 0.0,\n 'n_estimators': 115,\n 'n_jobs': None,\n 'oob_score': False,\n 'random_state': 0,\n 'verbose': 0,\n 'warm_start': False}"
     },
     "execution_count": 30,
     "metadata": {},
     "output_type": "execute_result"
    }
   ],
   "source": [
    "ExtraTreesClassifier_model.get_params()"
   ],
   "metadata": {
    "collapsed": false
   }
  },
  {
   "cell_type": "markdown",
   "source": [
    "Gaussian Naive Bayes(GaussianNB) Classifier"
   ],
   "metadata": {
    "collapsed": false
   }
  },
  {
   "cell_type": "code",
   "execution_count": 31,
   "outputs": [],
   "source": [
    "var_smoothing = [x for x in np.arange(0.0000000005,0.000000003,0.0000000005)]\n",
    "\n",
    "random_grid = {\n",
    "               'var_smoothing':var_smoothing\n",
    "               }\n",
    "\n",
    "gnb = GridSearch(model = GaussianNB(),param_grid=random_grid,cv_folds=5)\n",
    "GaussianNB_model = gnb.fit(X_train, np.array(y_train))"
   ],
   "metadata": {
    "collapsed": false
   }
  },
  {
   "cell_type": "code",
   "execution_count": 32,
   "outputs": [
    {
     "data": {
      "text/plain": "{'priors': None, 'var_smoothing': 5e-10}"
     },
     "execution_count": 32,
     "metadata": {},
     "output_type": "execute_result"
    }
   ],
   "source": [
    "GaussianNB_model.get_params()"
   ],
   "metadata": {
    "collapsed": false
   }
  },
  {
   "cell_type": "markdown",
   "source": [
    "Saving Models"
   ],
   "metadata": {
    "collapsed": false
   }
  },
  {
   "cell_type": "code",
   "execution_count": 33,
   "outputs": [],
   "source": [
    "filename = '../Saved Models/Classifier Models/random_state_1/classifier_logistic_regression.sav'\n",
    "pickle.dump(lr_model, open(filename, 'wb'))\n",
    "filename = '../Saved Models/Classifier Models/random_state_1/classifier_SVC.sav'\n",
    "pickle.dump(svc_model, open(filename, 'wb'))\n",
    "filename = '../Saved Models/Classifier Models/random_state_1/classifier_NuSVC.sav'\n",
    "pickle.dump(nusvc_model, open(filename, 'wb'))\n",
    "filename = '../Saved Models/Classifier Models/random_state_1/classifier_SGD.sav'\n",
    "pickle.dump(sgd_model, open(filename, 'wb'))\n",
    "filename = '../Saved Models/Classifier Models/random_state_1/classifier_kneighbors.sav'\n",
    "pickle.dump(kneighbors_model, open(filename, 'wb'))\n",
    "filename = '../Saved Models/Classifier Models/random_state_1/classifier_gradientBoosting.sav'\n",
    "pickle.dump(gradientBoosting_model, open(filename, 'wb'))\n",
    "filename = '../Saved Models/Classifier Models/random_state_1/classifier_adaBoosting.sav'\n",
    "pickle.dump(AdaBoost_model, open(filename, 'wb'))\n",
    "filename = '../Saved Models/Classifier Models/random_state_1/classifier_randomForestClassifier.sav'\n",
    "pickle.dump(RFC_model, open(filename, 'wb'))\n",
    "filename = '../Saved Models/Classifier Models/random_state_1/classifier_XGB_Classifier.sav'\n",
    "pickle.dump(XGB_Classifier_model, open(filename, 'wb'))\n",
    "filename = '../Saved Models/Classifier Models/random_state_1/classifier_DecisionTree_Classifier.sav'\n",
    "pickle.dump(DTC_model, open(filename, 'wb'))\n",
    "filename = '../Saved Models/Classifier Models/random_state_1/classifier_ExtraTreesClassifier.sav'\n",
    "pickle.dump(ExtraTreesClassifier_model, open(filename, 'wb'))\n",
    "filename = '../Saved Models/Classifier Models/random_state_1/classifier_GaussianNB.sav'\n",
    "pickle.dump(GaussianNB_model, open(filename, 'wb'))"
   ],
   "metadata": {
    "collapsed": false
   }
  },
  {
   "cell_type": "markdown",
   "source": [
    "Computing Metrics"
   ],
   "metadata": {
    "collapsed": false
   }
  },
  {
   "cell_type": "code",
   "execution_count": 34,
   "outputs": [],
   "source": [
    "# Logistic Regression Metrics\n",
    "train_pred = lr_model.predict(X_train)\n",
    "test_pred = lr_model.predict(X_test)\n",
    "\n",
    "lr_Accuracy_Train = accuracy_score(np.array(y_train), train_pred)\n",
    "lr_Accuracy_Test = accuracy_score(np.array(y_test), test_pred)\n",
    "\n",
    "lr_Precision_Train = precision_score(np.array(y_train), train_pred)\n",
    "lr_Precision_Test = precision_score(np.array(y_test), test_pred)\n",
    "\n",
    "lr_Recall_Train = recall_score(np.array(y_train), train_pred)\n",
    "lr_Recall_Test = recall_score(np.array(y_test), test_pred)\n",
    "\n",
    "lr_f1_score_Train = f1_score(np.array(y_train), train_pred)\n",
    "lr_f1_score_Test = f1_score(np.array(y_test), test_pred)\n",
    "\n",
    "lr_ROC_AUC_Score_Train = roc_auc_score(np.array(y_train), train_pred)\n",
    "lr_ROC_AUC_Score_Test = roc_auc_score(np.array(y_test), test_pred)\n",
    "\n",
    "lr_cross_val_score_Train = list(cross_val_score(lr_model, X_train, np.array(y_train), cv=KFold(n_splits=5,shuffle=True)) )\n",
    "\n",
    "# Support Vector Classifier Metrics\n",
    "train_pred = svc_model.predict(X_train)\n",
    "test_pred = svc_model.predict(X_test)\n",
    "\n",
    "svc_Accuracy_Train = accuracy_score(np.array(y_train), train_pred)\n",
    "svc_Accuracy_Test = accuracy_score(np.array(y_test), test_pred)\n",
    "\n",
    "svc_Precision_Train = precision_score(np.array(y_train), train_pred)\n",
    "svc_Precision_Test = precision_score(np.array(y_test), test_pred)\n",
    "\n",
    "svc_Recall_Train = recall_score(np.array(y_train), train_pred)\n",
    "svc_Recall_Test = recall_score(np.array(y_test), test_pred)\n",
    "\n",
    "svc_f1_score_Train = f1_score(np.array(y_train), train_pred)\n",
    "svc_f1_score_Test = f1_score(np.array(y_test), test_pred)\n",
    "\n",
    "svc_ROC_AUC_Score_Train = roc_auc_score(np.array(y_train), train_pred)\n",
    "svc_ROC_AUC_Score_Test = roc_auc_score(np.array(y_test), test_pred)\n",
    "\n",
    "svc_cross_val_score_Train = list(cross_val_score(svc_model, X_train, np.array(y_train), cv=KFold(n_splits=5,shuffle=True)) )\n",
    "\n",
    "\n",
    "# NuSVC Metrics\n",
    "train_pred = nusvc_model.predict(X_train)\n",
    "test_pred = nusvc_model.predict(X_test)\n",
    "\n",
    "nusvc_Accuracy_Train = accuracy_score(np.array(y_train), train_pred)\n",
    "nusvc_Accuracy_Test = accuracy_score(np.array(y_test), test_pred)\n",
    "\n",
    "nusvc_Precision_Train = precision_score(np.array(y_train), train_pred)\n",
    "nusvc_Precision_Test = precision_score(np.array(y_test), test_pred)\n",
    "\n",
    "nusvc_Recall_Train = recall_score(np.array(y_train), train_pred)\n",
    "nusvc_Recall_Test = recall_score(np.array(y_test), test_pred)\n",
    "\n",
    "nusvc_f1_score_Train = f1_score(np.array(y_train), train_pred)\n",
    "nusvc_f1_score_Test = f1_score(np.array(y_test), test_pred)\n",
    "\n",
    "nusvc_ROC_AUC_Score_Train = roc_auc_score(np.array(y_train), train_pred)\n",
    "nusvc_ROC_AUC_Score_Test = roc_auc_score(np.array(y_test), test_pred)\n",
    "\n",
    "nusvc_cross_val_score_Train = list(cross_val_score(nusvc_model, X_train, np.array(y_train), cv=KFold(n_splits=5,shuffle=True)) )\n",
    "\n",
    "\n",
    "# Stochastic Gradient Descent Metrics\n",
    "train_pred = sgd_model.predict(X_train)\n",
    "test_pred = sgd_model.predict(X_test)\n",
    "\n",
    "sgd_Accuracy_Train = accuracy_score(np.array(y_train), train_pred)\n",
    "sgd_Accuracy_Test = accuracy_score(np.array(y_test), test_pred)\n",
    "\n",
    "sgd_Precision_Train = precision_score(np.array(y_train), train_pred)\n",
    "sgd_Precision_Test = precision_score(np.array(y_test), test_pred)\n",
    "\n",
    "sgd_Recall_Train = recall_score(np.array(y_train), train_pred)\n",
    "sgd_Recall_Test = recall_score(np.array(y_test), test_pred)\n",
    "\n",
    "sgd_f1_score_Train = f1_score(np.array(y_train), train_pred)\n",
    "sgd_f1_score_Test = f1_score(np.array(y_test), test_pred)\n",
    "\n",
    "sgd_ROC_AUC_Score_Train = roc_auc_score(np.array(y_train), train_pred)\n",
    "sgd_ROC_AUC_Score_Test = roc_auc_score(np.array(y_test), test_pred)\n",
    "\n",
    "sgd_cross_val_score_Train = list(cross_val_score(sgd_model, X_train, np.array(y_train), cv=KFold(n_splits=5,shuffle=True)) )\n",
    "\n",
    "\n",
    "# KNeighbors Metrics\n",
    "train_pred = kneighbors_model.predict(X_train)\n",
    "test_pred = kneighbors_model.predict(X_test)\n",
    "\n",
    "knc_Accuracy_Train = accuracy_score(np.array(y_train), train_pred)\n",
    "knc_Accuracy_Test = accuracy_score(np.array(y_test), test_pred)\n",
    "\n",
    "knc_Precision_Train = precision_score(np.array(y_train), train_pred)\n",
    "knc_Precision_Test = precision_score(np.array(y_test), test_pred)\n",
    "\n",
    "knc_Recall_Train = recall_score(np.array(y_train), train_pred)\n",
    "knc_Recall_Test = recall_score(np.array(y_test), test_pred)\n",
    "\n",
    "knc_f1_score_Train = f1_score(np.array(y_train), train_pred)\n",
    "knc_f1_score_Test = f1_score(np.array(y_test), test_pred)\n",
    "\n",
    "knc_ROC_AUC_Score_Train = roc_auc_score(np.array(y_train), train_pred)\n",
    "knc_ROC_AUC_Score_Test = roc_auc_score(np.array(y_test), test_pred)\n",
    "\n",
    "knc_cross_val_score_Train = list(cross_val_score(kneighbors_model, X_train, np.array(y_train), cv=KFold(n_splits=5,shuffle=True)) )\n",
    "\n",
    "\n",
    "#Gradient Boosting Metrics\n",
    "train_pred = gradientBoosting_model.predict(X_train)\n",
    "test_pred = gradientBoosting_model.predict(X_test)\n",
    "\n",
    "gbc_Accuracy_Train = accuracy_score(np.array(y_train), train_pred)\n",
    "gbc_Accuracy_Test = accuracy_score(np.array(y_test), test_pred)\n",
    "\n",
    "gbc_Precision_Train = precision_score(np.array(y_train), train_pred)\n",
    "gbc_Precision_Test = precision_score(np.array(y_test), test_pred)\n",
    "\n",
    "gbc_Recall_Train = recall_score(np.array(y_train), train_pred)\n",
    "gbc_Recall_Test = recall_score(np.array(y_test), test_pred)\n",
    "\n",
    "gbc_f1_score_Train = f1_score(np.array(y_train), train_pred)\n",
    "gbc_f1_score_Test = f1_score(np.array(y_test), test_pred)\n",
    "\n",
    "gbc_ROC_AUC_Score_Train = roc_auc_score(np.array(y_train), train_pred)\n",
    "gbc_ROC_AUC_Score_Test = roc_auc_score(np.array(y_test), test_pred)\n",
    "\n",
    "gbc_cross_val_score_Train = list(cross_val_score(gradientBoosting_model, X_train, np.array(y_train), cv=KFold(n_splits=5,shuffle=True)) )\n",
    "\n",
    "\n",
    "# AdaBoost Metrics\n",
    "train_pred = AdaBoost_model.predict(X_train)\n",
    "test_pred = AdaBoost_model.predict(X_test)\n",
    "\n",
    "abc_Accuracy_Train = accuracy_score(np.array(y_train), train_pred)\n",
    "abc_Accuracy_Test = accuracy_score(np.array(y_test), test_pred)\n",
    "\n",
    "abc_Precision_Train = precision_score(np.array(y_train), train_pred)\n",
    "abc_Precision_Test = precision_score(np.array(y_test), test_pred)\n",
    "\n",
    "abc_Recall_Train = recall_score(np.array(y_train), train_pred)\n",
    "abc_Recall_Test = recall_score(np.array(y_test), test_pred)\n",
    "\n",
    "abc_f1_score_Train = f1_score(np.array(y_train), train_pred)\n",
    "abc_f1_score_Test = f1_score(np.array(y_test), test_pred)\n",
    "\n",
    "abc_ROC_AUC_Score_Train = roc_auc_score(np.array(y_train), train_pred)\n",
    "abc_ROC_AUC_Score_Test = roc_auc_score(np.array(y_test), test_pred)\n",
    "\n",
    "abc_cross_val_score_Train = list(cross_val_score(AdaBoost_model, X_train, np.array(y_train), cv=KFold(n_splits=5,shuffle=True)) )\n",
    "\n",
    "\n",
    "# Random Forest Metrics\n",
    "train_pred = RFC_model.predict(X_train)\n",
    "test_pred = RFC_model.predict(X_test)\n",
    "\n",
    "rfc_Accuracy_Train = accuracy_score(np.array(y_train), train_pred)\n",
    "rfc_Accuracy_Test = accuracy_score(np.array(y_test), test_pred)\n",
    "\n",
    "rfc_Precision_Train = precision_score(np.array(y_train), train_pred)\n",
    "rfc_Precision_Test = precision_score(np.array(y_test), test_pred)\n",
    "\n",
    "rfc_Recall_Train = recall_score(np.array(y_train), train_pred)\n",
    "rfc_Recall_Test = recall_score(np.array(y_test), test_pred)\n",
    "\n",
    "rfc_f1_score_Train = f1_score(np.array(y_train), train_pred)\n",
    "rfc_f1_score_Test = f1_score(np.array(y_test), test_pred)\n",
    "\n",
    "rfc_ROC_AUC_Score_Train = roc_auc_score(np.array(y_train), train_pred)\n",
    "rfc_ROC_AUC_Score_Test = roc_auc_score(np.array(y_test), test_pred)\n",
    "\n",
    "rfc_cross_val_score_Train = list(cross_val_score(RFC_model, X_train, np.array(y_train), cv=KFold(n_splits=5,shuffle=True)) )\n",
    "\n",
    "\n",
    "# Extreme Gradient Boosting Metrics\n",
    "train_pred = XGB_Classifier_model.predict(X_train)\n",
    "test_pred = XGB_Classifier_model.predict(X_test)\n",
    "\n",
    "xgbc_Accuracy_Train = accuracy_score(np.array(y_train), train_pred)\n",
    "xgbc_Accuracy_Test = accuracy_score(np.array(y_test), test_pred)\n",
    "\n",
    "xgbc_Precision_Train = precision_score(np.array(y_train), train_pred)\n",
    "xgbc_Precision_Test = precision_score(np.array(y_test), test_pred)\n",
    "\n",
    "xgbc_Recall_Train = recall_score(np.array(y_train), train_pred)\n",
    "xgbc_Recall_Test = recall_score(np.array(y_test), test_pred)\n",
    "\n",
    "xgbc_f1_score_Train = f1_score(np.array(y_train), train_pred)\n",
    "xgbc_f1_score_Test = f1_score(np.array(y_test), test_pred)\n",
    "\n",
    "xgbc_ROC_AUC_Score_Train = roc_auc_score(np.array(y_train), train_pred)\n",
    "xgbc_ROC_AUC_Score_Test = roc_auc_score(np.array(y_test), test_pred)\n",
    "\n",
    "xgbc_cross_val_score_Train = list(cross_val_score(XGB_Classifier_model, X_train, np.array(y_train), cv=KFold(n_splits=5,shuffle=True)) )\n",
    "\n",
    "\n",
    "# Decision Tree Metrics\n",
    "train_pred = DTC_model.predict(X_train)\n",
    "test_pred = DTC_model.predict(X_test)\n",
    "\n",
    "dtc_Accuracy_Train = accuracy_score(np.array(y_train), train_pred)\n",
    "dtc_Accuracy_Test = accuracy_score(np.array(y_test), test_pred)\n",
    "\n",
    "dtc_Precision_Train = precision_score(np.array(y_train), train_pred)\n",
    "dtc_Precision_Test = precision_score(np.array(y_test), test_pred)\n",
    "\n",
    "dtc_Recall_Train = recall_score(np.array(y_train), train_pred)\n",
    "dtc_Recall_Test = recall_score(np.array(y_test), test_pred)\n",
    "\n",
    "dtc_f1_score_Train = f1_score(np.array(y_train), train_pred)\n",
    "dtc_f1_score_Test = f1_score(np.array(y_test), test_pred)\n",
    "\n",
    "dtc_ROC_AUC_Score_Train = roc_auc_score(np.array(y_train), train_pred)\n",
    "dtc_ROC_AUC_Score_Test = roc_auc_score(np.array(y_test), test_pred)\n",
    "\n",
    "dtc_cross_val_score_Train = list(cross_val_score(DTC_model, X_train, np.array(y_train), cv=KFold(n_splits=5,shuffle=True)) )\n",
    "\n",
    "\n",
    "#Extra Trees Classifier Metrics\n",
    "train_pred = ExtraTreesClassifier_model.predict(X_train)\n",
    "test_pred = ExtraTreesClassifier_model.predict(X_test)\n",
    "\n",
    "etc_Accuracy_Train = accuracy_score(np.array(y_train), train_pred)\n",
    "etc_Accuracy_Test = accuracy_score(np.array(y_test), test_pred)\n",
    "\n",
    "etc_Precision_Train = precision_score(np.array(y_train), train_pred)\n",
    "etc_Precision_Test = precision_score(np.array(y_test), test_pred)\n",
    "\n",
    "etc_Recall_Train = recall_score(np.array(y_train), train_pred)\n",
    "etc_Recall_Test = recall_score(np.array(y_test), test_pred)\n",
    "\n",
    "etc_f1_score_Train = f1_score(np.array(y_train), train_pred)\n",
    "etc_f1_score_Test = f1_score(np.array(y_test), test_pred)\n",
    "\n",
    "etc_ROC_AUC_Score_Train = roc_auc_score(np.array(y_train), train_pred)\n",
    "etc_ROC_AUC_Score_Test = roc_auc_score(np.array(y_test), test_pred)\n",
    "\n",
    "etc_cross_val_score_Train = list(cross_val_score(ExtraTreesClassifier_model, X_train, np.array(y_train), cv=KFold(n_splits=5,shuffle=True)) )\n",
    "\n",
    "\n",
    "#GaussianNB Metrics\n",
    "\n",
    "train_pred = GaussianNB_model.predict(X_train)\n",
    "test_pred = GaussianNB_model.predict(X_test)\n",
    "\n",
    "gnb_Accuracy_Train = accuracy_score(np.array(y_train), train_pred)\n",
    "gnb_Accuracy_Test = accuracy_score(np.array(y_test), test_pred)\n",
    "\n",
    "gnb_Precision_Train = precision_score(np.array(y_train), train_pred)\n",
    "gnb_Precision_Test = precision_score(np.array(y_test), test_pred)\n",
    "\n",
    "gnb_Recall_Train = recall_score(np.array(y_train), train_pred)\n",
    "gnb_Recall_Test = recall_score(np.array(y_test), test_pred)\n",
    "\n",
    "gnb_f1_score_Train = f1_score(np.array(y_train), train_pred)\n",
    "gnb_f1_score_Test = f1_score(np.array(y_test), test_pred)\n",
    "\n",
    "gnb_ROC_AUC_Score_Train = roc_auc_score(np.array(y_train), train_pred)\n",
    "gnb_ROC_AUC_Score_Test = roc_auc_score(np.array(y_test), test_pred)\n",
    "\n",
    "gnb_cross_val_score_Train = list(cross_val_score(GaussianNB_model, X_train, np.array(y_train), cv=KFold(n_splits=5,shuffle=True)) )"
   ],
   "metadata": {
    "collapsed": false
   }
  },
  {
   "cell_type": "code",
   "execution_count": 35,
   "outputs": [
    {
     "data": {
      "text/plain": "                           Model  Train Accuracy  Test Accuracy  \\\n5   Gradient Boosting Classifier        0.936364       0.776014   \n8                 XGB Classifier        0.899242       0.776014   \n2                          NuSVC        0.877273       0.765432   \n7       Random Forest Classifier        0.942424       0.763668   \n1      Support Vector Classifier        0.900000       0.758377   \n10        Extra Trees Classifier        0.915152       0.758377   \n4          KNeighbors Classifier        0.820455       0.747795   \n6            Adaboost Classifier        0.740152       0.696649   \n3                 SGD Classifier        0.704545       0.673721   \n0            Logistic Regression        0.732576       0.664903   \n9       Decision Tree Classifier        0.784091       0.638448   \n11          Gaussian Naive Bayes        0.471970       0.469136   \n\n    Train Precision  Test Precision  Train Recall  Test Recall  \\\n5          0.938272        0.747899      0.915663     0.726531   \n8          0.898577        0.752137      0.869191     0.718367   \n2          0.877477        0.729508      0.838210     0.726531   \n7          0.979127        0.746667      0.888124     0.685714   \n1          0.901610        0.730769      0.867470     0.697959   \n10         0.983505        0.762136      0.820998     0.640816   \n4          0.852459        0.747573      0.716007     0.628571   \n6          0.717949        0.651452      0.674699     0.640816   \n3          0.799373        0.711268      0.438898     0.412245   \n0          0.728916        0.626728      0.624785     0.555102   \n9          0.722892        0.564103      0.826162     0.718367   \n11         0.454617        0.448718      1.000000     1.000000   \n\n    Train F1_score  Test F1_score  Train AUC_ROC  Test AUC_ROC  \\\n5         0.926829       0.737060       0.934151      0.770098   \n8         0.883640       0.734864       0.896030      0.769122   \n2         0.857394       0.728016       0.873097      0.760781   \n7         0.931408       0.714894       0.936619      0.754348   \n1         0.884211       0.713987       0.896522      0.751154   \n10        0.894934       0.696231       0.905086      0.744321   \n4         0.778297       0.682927       0.809289      0.733540   \n6         0.695652       0.646091       0.733155      0.689973   \n3         0.566667       0.521964       0.676147      0.642458   \n0         0.672845       0.588745       0.721053      0.651775   \n9         0.771084       0.631957       0.788588      0.648004   \n11        0.625067       0.619469       0.528417      0.532609   \n\n                 Cross_Validation_Scores_for_trainset  \n5   [0.7803030303030303, 0.7916666666666666, 0.753...  \n8   [0.7803030303030303, 0.7954545454545454, 0.765...  \n2   [0.7651515151515151, 0.7537878787878788, 0.840...  \n7   [0.7803030303030303, 0.7651515151515151, 0.814...  \n1   [0.7689393939393939, 0.7424242424242424, 0.810...  \n10  [0.7803030303030303, 0.7651515151515151, 0.780...  \n4   [0.7651515151515151, 0.7462121212121212, 0.787...  \n6   [0.7803030303030303, 0.6477272727272727, 0.704...  \n3   [0.696969696969697, 0.6060606060606061, 0.6628...  \n0   [0.7007575757575758, 0.6704545454545454, 0.723...  \n9   [0.6553030303030303, 0.7462121212121212, 0.723...  \n11  [0.5189393939393939, 0.4431818181818182, 0.481...  ",
      "text/html": "<div>\n<style scoped>\n    .dataframe tbody tr th:only-of-type {\n        vertical-align: middle;\n    }\n\n    .dataframe tbody tr th {\n        vertical-align: top;\n    }\n\n    .dataframe thead th {\n        text-align: right;\n    }\n</style>\n<table border=\"1\" class=\"dataframe\">\n  <thead>\n    <tr style=\"text-align: right;\">\n      <th></th>\n      <th>Model</th>\n      <th>Train Accuracy</th>\n      <th>Test Accuracy</th>\n      <th>Train Precision</th>\n      <th>Test Precision</th>\n      <th>Train Recall</th>\n      <th>Test Recall</th>\n      <th>Train F1_score</th>\n      <th>Test F1_score</th>\n      <th>Train AUC_ROC</th>\n      <th>Test AUC_ROC</th>\n      <th>Cross_Validation_Scores_for_trainset</th>\n    </tr>\n  </thead>\n  <tbody>\n    <tr>\n      <th>5</th>\n      <td>Gradient Boosting Classifier</td>\n      <td>0.936364</td>\n      <td>0.776014</td>\n      <td>0.938272</td>\n      <td>0.747899</td>\n      <td>0.915663</td>\n      <td>0.726531</td>\n      <td>0.926829</td>\n      <td>0.737060</td>\n      <td>0.934151</td>\n      <td>0.770098</td>\n      <td>[0.7803030303030303, 0.7916666666666666, 0.753...</td>\n    </tr>\n    <tr>\n      <th>8</th>\n      <td>XGB Classifier</td>\n      <td>0.899242</td>\n      <td>0.776014</td>\n      <td>0.898577</td>\n      <td>0.752137</td>\n      <td>0.869191</td>\n      <td>0.718367</td>\n      <td>0.883640</td>\n      <td>0.734864</td>\n      <td>0.896030</td>\n      <td>0.769122</td>\n      <td>[0.7803030303030303, 0.7954545454545454, 0.765...</td>\n    </tr>\n    <tr>\n      <th>2</th>\n      <td>NuSVC</td>\n      <td>0.877273</td>\n      <td>0.765432</td>\n      <td>0.877477</td>\n      <td>0.729508</td>\n      <td>0.838210</td>\n      <td>0.726531</td>\n      <td>0.857394</td>\n      <td>0.728016</td>\n      <td>0.873097</td>\n      <td>0.760781</td>\n      <td>[0.7651515151515151, 0.7537878787878788, 0.840...</td>\n    </tr>\n    <tr>\n      <th>7</th>\n      <td>Random Forest Classifier</td>\n      <td>0.942424</td>\n      <td>0.763668</td>\n      <td>0.979127</td>\n      <td>0.746667</td>\n      <td>0.888124</td>\n      <td>0.685714</td>\n      <td>0.931408</td>\n      <td>0.714894</td>\n      <td>0.936619</td>\n      <td>0.754348</td>\n      <td>[0.7803030303030303, 0.7651515151515151, 0.814...</td>\n    </tr>\n    <tr>\n      <th>1</th>\n      <td>Support Vector Classifier</td>\n      <td>0.900000</td>\n      <td>0.758377</td>\n      <td>0.901610</td>\n      <td>0.730769</td>\n      <td>0.867470</td>\n      <td>0.697959</td>\n      <td>0.884211</td>\n      <td>0.713987</td>\n      <td>0.896522</td>\n      <td>0.751154</td>\n      <td>[0.7689393939393939, 0.7424242424242424, 0.810...</td>\n    </tr>\n    <tr>\n      <th>10</th>\n      <td>Extra Trees Classifier</td>\n      <td>0.915152</td>\n      <td>0.758377</td>\n      <td>0.983505</td>\n      <td>0.762136</td>\n      <td>0.820998</td>\n      <td>0.640816</td>\n      <td>0.894934</td>\n      <td>0.696231</td>\n      <td>0.905086</td>\n      <td>0.744321</td>\n      <td>[0.7803030303030303, 0.7651515151515151, 0.780...</td>\n    </tr>\n    <tr>\n      <th>4</th>\n      <td>KNeighbors Classifier</td>\n      <td>0.820455</td>\n      <td>0.747795</td>\n      <td>0.852459</td>\n      <td>0.747573</td>\n      <td>0.716007</td>\n      <td>0.628571</td>\n      <td>0.778297</td>\n      <td>0.682927</td>\n      <td>0.809289</td>\n      <td>0.733540</td>\n      <td>[0.7651515151515151, 0.7462121212121212, 0.787...</td>\n    </tr>\n    <tr>\n      <th>6</th>\n      <td>Adaboost Classifier</td>\n      <td>0.740152</td>\n      <td>0.696649</td>\n      <td>0.717949</td>\n      <td>0.651452</td>\n      <td>0.674699</td>\n      <td>0.640816</td>\n      <td>0.695652</td>\n      <td>0.646091</td>\n      <td>0.733155</td>\n      <td>0.689973</td>\n      <td>[0.7803030303030303, 0.6477272727272727, 0.704...</td>\n    </tr>\n    <tr>\n      <th>3</th>\n      <td>SGD Classifier</td>\n      <td>0.704545</td>\n      <td>0.673721</td>\n      <td>0.799373</td>\n      <td>0.711268</td>\n      <td>0.438898</td>\n      <td>0.412245</td>\n      <td>0.566667</td>\n      <td>0.521964</td>\n      <td>0.676147</td>\n      <td>0.642458</td>\n      <td>[0.696969696969697, 0.6060606060606061, 0.6628...</td>\n    </tr>\n    <tr>\n      <th>0</th>\n      <td>Logistic Regression</td>\n      <td>0.732576</td>\n      <td>0.664903</td>\n      <td>0.728916</td>\n      <td>0.626728</td>\n      <td>0.624785</td>\n      <td>0.555102</td>\n      <td>0.672845</td>\n      <td>0.588745</td>\n      <td>0.721053</td>\n      <td>0.651775</td>\n      <td>[0.7007575757575758, 0.6704545454545454, 0.723...</td>\n    </tr>\n    <tr>\n      <th>9</th>\n      <td>Decision Tree Classifier</td>\n      <td>0.784091</td>\n      <td>0.638448</td>\n      <td>0.722892</td>\n      <td>0.564103</td>\n      <td>0.826162</td>\n      <td>0.718367</td>\n      <td>0.771084</td>\n      <td>0.631957</td>\n      <td>0.788588</td>\n      <td>0.648004</td>\n      <td>[0.6553030303030303, 0.7462121212121212, 0.723...</td>\n    </tr>\n    <tr>\n      <th>11</th>\n      <td>Gaussian Naive Bayes</td>\n      <td>0.471970</td>\n      <td>0.469136</td>\n      <td>0.454617</td>\n      <td>0.448718</td>\n      <td>1.000000</td>\n      <td>1.000000</td>\n      <td>0.625067</td>\n      <td>0.619469</td>\n      <td>0.528417</td>\n      <td>0.532609</td>\n      <td>[0.5189393939393939, 0.4431818181818182, 0.481...</td>\n    </tr>\n  </tbody>\n</table>\n</div>"
     },
     "execution_count": 35,
     "metadata": {},
     "output_type": "execute_result"
    }
   ],
   "source": [
    "models_classifier_comparison = pd.DataFrame({\n",
    "    'Model'          : ['Logistic Regression', 'Support Vector Classifier', 'NuSVC', 'SGD Classifier', 'KNeighbors Classifier', 'Gradient Boosting Classifier', 'Adaboost Classifier', 'Random Forest Classifier', 'XGB Classifier', 'Decision Tree Classifier', 'Extra Trees Classifier', 'Gaussian Naive Bayes'],\n",
    "    'Train Accuracy' : [lr_Accuracy_Train, svc_Accuracy_Train, nusvc_Accuracy_Train, sgd_Accuracy_Train, knc_Accuracy_Train, gbc_Accuracy_Train,abc_Accuracy_Train, rfc_Accuracy_Train, xgbc_Accuracy_Train, dtc_Accuracy_Train,etc_Accuracy_Train,gnb_Accuracy_Train],\n",
    "    'Test Accuracy'  : [lr_Accuracy_Test, svc_Accuracy_Test, nusvc_Accuracy_Test, sgd_Accuracy_Test, knc_Accuracy_Test, gbc_Accuracy_Test,abc_Accuracy_Test, rfc_Accuracy_Test, xgbc_Accuracy_Test, dtc_Accuracy_Test,etc_Accuracy_Test,gnb_Accuracy_Test],\n",
    "    'Train Precision': [lr_Precision_Train, svc_Precision_Train, nusvc_Precision_Train, sgd_Precision_Train, knc_Precision_Train, gbc_Precision_Train,abc_Precision_Train, rfc_Precision_Train, xgbc_Precision_Train, dtc_Precision_Train,etc_Precision_Train,gnb_Precision_Train],\n",
    "    'Test Precision' : [lr_Precision_Test, svc_Precision_Test, nusvc_Precision_Test, sgd_Precision_Test, knc_Precision_Test, gbc_Precision_Test,abc_Precision_Test, rfc_Precision_Test, xgbc_Precision_Test, dtc_Precision_Test,etc_Precision_Test,gnb_Precision_Test],\n",
    "    'Train Recall'   : [lr_Recall_Train, svc_Recall_Train, nusvc_Recall_Train, sgd_Recall_Train, knc_Recall_Train, gbc_Recall_Train,abc_Recall_Train, rfc_Recall_Train, xgbc_Recall_Train, dtc_Recall_Train,etc_Recall_Train,gnb_Recall_Train],\n",
    "    'Test Recall'    : [lr_Recall_Test, svc_Recall_Test, nusvc_Recall_Test, sgd_Recall_Test, knc_Recall_Test, gbc_Recall_Test,abc_Recall_Test, rfc_Recall_Test, xgbc_Recall_Test, dtc_Recall_Test,etc_Recall_Test,gnb_Recall_Test],\n",
    "    'Train F1_score' : [lr_f1_score_Train, svc_f1_score_Train, nusvc_f1_score_Train, sgd_f1_score_Train, knc_f1_score_Train, gbc_f1_score_Train,abc_f1_score_Train, rfc_f1_score_Train, xgbc_f1_score_Train, dtc_f1_score_Train,etc_f1_score_Train,gnb_f1_score_Train],\n",
    "    'Test F1_score'  : [lr_f1_score_Test, svc_f1_score_Test, nusvc_f1_score_Test, sgd_f1_score_Test, knc_f1_score_Test, gbc_f1_score_Test,abc_f1_score_Test, rfc_f1_score_Test, xgbc_f1_score_Test, dtc_f1_score_Test,etc_f1_score_Test,gnb_f1_score_Test],\n",
    "    'Train AUC_ROC'  : [lr_ROC_AUC_Score_Train, svc_ROC_AUC_Score_Train, nusvc_ROC_AUC_Score_Train, sgd_ROC_AUC_Score_Train, knc_ROC_AUC_Score_Train, gbc_ROC_AUC_Score_Train,abc_ROC_AUC_Score_Train, rfc_ROC_AUC_Score_Train, xgbc_ROC_AUC_Score_Train, dtc_ROC_AUC_Score_Train,etc_ROC_AUC_Score_Train,gnb_ROC_AUC_Score_Train],\n",
    "    'Test AUC_ROC'   : [lr_ROC_AUC_Score_Test, svc_ROC_AUC_Score_Test, nusvc_ROC_AUC_Score_Test, sgd_ROC_AUC_Score_Test, knc_ROC_AUC_Score_Test, gbc_ROC_AUC_Score_Test,abc_ROC_AUC_Score_Test, rfc_ROC_AUC_Score_Test, xgbc_ROC_AUC_Score_Test, dtc_ROC_AUC_Score_Test,etc_ROC_AUC_Score_Test,gnb_ROC_AUC_Score_Test],\n",
    "    'Cross_Validation_Scores_for_trainset':[lr_cross_val_score_Train, svc_cross_val_score_Train, nusvc_cross_val_score_Train, sgd_cross_val_score_Train, knc_cross_val_score_Train, gbc_cross_val_score_Train,abc_cross_val_score_Train, rfc_cross_val_score_Train, xgbc_cross_val_score_Train, dtc_cross_val_score_Train,etc_cross_val_score_Train,gnb_cross_val_score_Train],\n",
    "\n",
    "    }, columns = ['Model', 'Train Accuracy', 'Test Accuracy', 'Train Precision', 'Test Precision', 'Train Recall', 'Test Recall', 'Train F1_score', 'Test F1_score', 'Train AUC_ROC', 'Test AUC_ROC', 'Cross_Validation_Scores_for_trainset'])\n",
    "\n",
    "models_classifier_comparison.sort_values(by='Test Accuracy', ascending=False)"
   ],
   "metadata": {
    "collapsed": false
   }
  },
  {
   "cell_type": "code",
   "execution_count": 36,
   "outputs": [
    {
     "data": {
      "text/plain": "<Figure size 800x550 with 1 Axes>",
      "image/png": "[encoded data removed]"
     },
     "metadata": {},
     "output_type": "display_data"
    }
   ],
   "source": [
    "pred_prob1 = lr_model.fit(X_train, y_train).predict_proba(X_test)\n",
    "pred_prob2 = svc_model.fit(X_train, y_train).predict_proba(X_test)\n",
    "pred_prob3 = nusvc_model.fit(X_train, y_train).predict_proba(X_test)\n",
    "pred_prob4 = sgd_model.fit(X_train, y_train).predict_proba(X_test)\n",
    "pred_prob5 = kneighbors_model.fit(X_train, y_train).predict_proba(X_test)\n",
    "pred_prob6 = gradientBoosting_model.fit(X_train, y_train).predict_proba(X_test)\n",
    "pred_prob7 = AdaBoost_model.fit(X_train, y_train).predict_proba(X_test)\n",
    "pred_prob8 = RFC_model.fit(X_train, y_train).predict_proba(X_test)\n",
    "pred_prob9 = XGB_Classifier_model.fit(X_train, y_train).predict_proba(X_test)\n",
    "pred_prob10 = DTC_model.fit(X_train, y_train).predict_proba(X_test)\n",
    "pred_prob11 = ExtraTreesClassifier_model.fit(X_train, y_train).predict_proba(X_test)\n",
    "pred_prob12 = GaussianNB_model.fit(X_train, y_train).predict_proba(X_test)\n",
    "\n",
    "from sklearn.metrics import roc_curve\n",
    "\n",
    "# roc curve for models\n",
    "fpr1, tpr1, thresh1 = roc_curve(y_test, pred_prob1[:,1], pos_label=1)\n",
    "fpr2, tpr2, thresh2 = roc_curve(y_test, pred_prob2[:,1], pos_label=1)\n",
    "fpr3, tpr3, thresh3 = roc_curve(y_test, pred_prob3[:,1], pos_label=1)\n",
    "fpr4, tpr4, thresh4 = roc_curve(y_test, pred_prob4[:,1], pos_label=1)\n",
    "fpr5, tpr5, thresh5 = roc_curve(y_test, pred_prob5[:,1], pos_label=1)\n",
    "fpr6, tpr6, thresh6 = roc_curve(y_test, pred_prob6[:,1], pos_label=1)\n",
    "fpr7, tpr7, thresh7 = roc_curve(y_test, pred_prob7[:,1], pos_label=1)\n",
    "fpr8, tpr8, thresh8 = roc_curve(y_test, pred_prob8[:,1], pos_label=1)\n",
    "fpr9, tpr9, thresh9 = roc_curve(y_test, pred_prob9[:,1], pos_label=1)\n",
    "fpr10, tpr10, thresh10 = roc_curve(y_test, pred_prob10[:,1], pos_label=1)\n",
    "fpr11, tpr11, thresh11 = roc_curve(y_test, pred_prob11[:,1], pos_label=1)\n",
    "fpr12, tpr12, thresh12 = roc_curve(y_test, pred_prob12[:,1], pos_label=1)\n",
    "\n",
    "# roc curve for tpr = fpr\n",
    "random_probs = [0 for i in range(len(y_test))]\n",
    "p_fpr, p_tpr, _ = roc_curve(y_test, random_probs, pos_label=1)\n",
    "\n",
    "import matplotlib.pyplot as plt\n",
    "plt.style.use('seaborn-v0_8')\n",
    "\n",
    "# plot roc curves\n",
    "plt.plot(fpr1, tpr1, linestyle='--',color='orange', label='LOGISTIC REGRESSION')\n",
    "plt.plot(fpr2, tpr2, linestyle='--',color='green', label='Support Vector Classifier')\n",
    "plt.plot(fpr3, tpr3, linestyle='--',color='red', label='NuSVC')\n",
    "plt.plot(fpr4, tpr4, linestyle='--',color='purple', label='SGD Classifier')\n",
    "plt.plot(fpr5, tpr5, linestyle='--',color='yellow', label='KNeighbors Classifier')\n",
    "plt.plot(fpr5, tpr5, linestyle='--',color='grey', label='Gradient Boosting Classifier')\n",
    "plt.plot(fpr7, tpr7, linestyle='--',color='violet', label='Adaboost Classifier')\n",
    "plt.plot(fpr8, tpr8, linestyle='--',color='#440154', label='Random Forest Classifier')\n",
    "plt.plot(fpr9, tpr9, linestyle='--',color='#404387', label='XGB Classifier')\n",
    "plt.plot(fpr10, tpr10, linestyle='--',color='#29788E', label='Decision Tree Classifier')\n",
    "plt.plot(fpr11, tpr11, linestyle='--',color='#22A784', label='Extra Trees Classifier')\n",
    "plt.plot(fpr12, tpr12, linestyle='--',color='#79D151', label='Gaussian Naive Bayes Classifier')\n",
    "plt.plot(p_fpr, p_tpr, linestyle='--', color='blue')\n",
    "# title\n",
    "plt.title('ROC curve')\n",
    "# x label\n",
    "plt.xlabel('False Positive Rate')\n",
    "# y label\n",
    "plt.ylabel('True Positive rate')\n",
    "\n",
    "plt.legend(loc='best')\n",
    "# plt.savefig('ROC.svg')\n",
    "plt.show();"
   ],
   "metadata": {
    "collapsed": false
   }
  },
  {
   "cell_type": "code",
   "execution_count": 37,
   "outputs": [],
   "source": [
    "models_classifier_comparison.to_csv(\"../Saved Models/Classifier Models/random_state_1/HEA_Classifier_results_dataframe.csv\")"
   ],
   "metadata": {
    "collapsed": false
   }
  },
  {
   "cell_type": "code",
   "execution_count": 38,
   "outputs": [
    {
     "data": {
      "text/plain": "array([[262,  60],\n       [ 67, 178]], dtype=int64)"
     },
     "execution_count": 38,
     "metadata": {},
     "output_type": "execute_result"
    }
   ],
   "source": [
    "from sklearn.metrics import confusion_matrix\n",
    "import matplotlib.pyplot as plt\n",
    "\n",
    "\n",
    "filename1 = '../Saved Models/Classifier Models/random_state_1/classifier_gradientBoosting.sav'\n",
    "gradientBoosting_model = pickle.load(open(filename1, 'rb'))\n",
    "\n",
    "# train_pred = gradientBoosting_model.predict(X_train)\n",
    "test_pred = gradientBoosting_model.predict(X_test)\n",
    "\n",
    "confusion_matrix(y_test, test_pred)\n"
   ],
   "metadata": {
    "collapsed": false
   }
  },
  {
   "cell_type": "markdown",
   "source": [
    "## Regression\n",
    "---\n",
    "This submodule is used to predict the bulk modulus values for the inputs"
   ],
   "metadata": {
    "collapsed": false
   }
  },
  {
   "cell_type": "code",
   "execution_count": 39,
   "outputs": [],
   "source": [
    "import numpy as np\n",
    "import pandas as pd\n",
    "import matplotlib.pyplot as plt\n",
    "import seaborn as sns\n",
    "\n",
    "from sklearn.ensemble import RandomForestRegressor\n",
    "from sklearn.metrics import r2_score\n",
    "from sklearn.linear_model import LinearRegression, Ridge, Lasso, ElasticNet\n",
    "from xgboost import XGBRegressor\n",
    "from sklearn.metrics import mean_squared_error as mse\n",
    "from sklearn.model_selection import cross_val_score\n",
    "from sklearn.model_selection import GridSearchCV,RandomizedSearchCV\n",
    "from sklearn.model_selection import KFold\n",
    "from hypopt import GridSearch\n",
    "from sklearn.metrics import mean_squared_error\n",
    "from sklearn.metrics import mean_absolute_error as mae\n",
    "from sklearn.neighbors import KNeighborsRegressor\n",
    "import pickle"
   ],
   "metadata": {
    "collapsed": false
   }
  },
  {
   "cell_type": "markdown",
   "source": [
    "Data Loading and Scaling"
   ],
   "metadata": {
    "collapsed": false
   }
  },
  {
   "cell_type": "code",
   "execution_count": 40,
   "outputs": [
    {
     "data": {
      "text/plain": "Index(['Alloy', 'S_Phase', 'BulkModulus (GPa)', 'AM', 'IM', 'SS', 'Ag', 'Al',\n       'As', 'Au', 'B', 'Ba', 'Be', 'Bi', 'Br', 'C', 'Ca', 'Cd', 'Ce', 'Cl',\n       'Co', 'Cr', 'Cs', 'Cu', 'Dy', 'Er', 'Eu', 'F', 'Fe', 'Ga', 'Gd', 'Ge',\n       'H', 'Hf', 'Hg', 'Ho', 'I', 'In', 'Ir', 'K', 'La', 'Li', 'Lu', 'Mg',\n       'Mn', 'Mo', 'N', 'Na', 'Nb', 'Nd', 'Ne', 'Ni', 'Ns', 'O', 'Os', 'P',\n       'Pb', 'Pd', 'Pr', 'Pt', 'Rb', 'Re', 'Rh', 'Ru', 'S', 'Sb', 'Sc', 'Se',\n       'Si', 'Sm', 'Sn', 'Sr', 'Ta', 'Tb', 'Te', 'Ti', 'Tl', 'Tm', 'V', 'W',\n       'Y', 'Yb', 'Zn', 'Zr'],\n      dtype='object')"
     },
     "execution_count": 40,
     "metadata": {},
     "output_type": "execute_result"
    }
   ],
   "source": [
    "bulk_hea = pd.read_csv(\"../Datasets/HEA_BulkModulus.csv\")\n",
    "bulk_hea.columns"
   ],
   "metadata": {
    "collapsed": false
   }
  },
  {
   "cell_type": "code",
   "execution_count": 41,
   "outputs": [],
   "source": [
    "features = ['AM', 'IM', 'SS', 'Ag', 'Al', 'As','Au', 'B', 'Ba', 'Be', 'Bi', 'Br', 'C', 'Ca', 'Cd', 'Ce', 'Cl', 'Co','Cr', 'Cs', 'Cu', 'Dy', 'Er', 'Eu', 'F', 'Fe', 'Ga', 'Gd', 'Ge', 'H','Hf', 'Hg', 'Ho', 'I', 'In', 'Ir', 'K', 'La', 'Li', 'Lu', 'Mg', 'Mn','Mo', 'N', 'Na', 'Nb', 'Nd', 'Ne', 'Ni', 'Ns', 'O', 'Os', 'P', 'Pb','Pd', 'Pr', 'Pt', 'Rb', 'Re', 'Rh', 'Ru', 'S', 'Sb', 'Sc', 'Se', 'Si','Sm', 'Sn', 'Sr', 'Ta', 'Tb', 'Te', 'Ti', 'Tl', 'Tm', 'V', 'W', 'Y','Yb', 'Zn', 'Zr']"
   ],
   "metadata": {
    "collapsed": false
   }
  },
  {
   "cell_type": "code",
   "execution_count": 42,
   "outputs": [],
   "source": [
    "X = bulk_hea[features]#, errors = 'ignore'.astype('float').values\n",
    "y = bulk_hea['BulkModulus (GPa)'].values\n",
    "X_train, X_test, y_train, y_test = train_test_split(X, y, random_state=1, train_size = .70)\n",
    "\n",
    "X_train.to_csv(\"../Datasets/Regressor_sets/random_state_1/Regressor_X_train.csv\", index=False)\n",
    "X_test.to_csv(\"../Datasets/Regressor_sets/random_state_1/Regressor_X_test.csv\", index=False)\n",
    "pd.DataFrame(y_train).to_csv(\"../Datasets/Regressor_sets/random_state_1/Regressor_y_train.csv\", index=False)\n",
    "pd.DataFrame(y_test).to_csv(\"../Datasets/Regressor_sets/random_state_1/Regressor_y_test.csv\", index=False)"
   ],
   "metadata": {
    "collapsed": false
   }
  },
  {
   "cell_type": "code",
   "execution_count": 43,
   "outputs": [],
   "source": [
    "def RMSE(y_true,y_pred):\n",
    "  RMSE = np.sqrt(mean_squared_error(y_true,y_pred))\n",
    "  return RMSE\n",
    "\n",
    "def MSE(y_true,y_pred):\n",
    "    mse = mean_squared_error(y_true, y_pred)\n",
    "    #print 'MSE: %2.3f' % mse\n",
    "    return mse\n",
    "\n",
    "def adjusted_r_squared(X, y, r2_sc):\n",
    "  Adj_r2 = 1 - (1-r2_sc) * (len(y)-1)/(len(y)-X.shape[1]-1)\n",
    "  return Adj_r2\n",
    "\n",
    "def percentage_error(actual, predicted):\n",
    "    res = np.empty(actual.shape)\n",
    "    for j in range(actual.shape[0]):\n",
    "        if actual[j] != 0:\n",
    "            res[j] = (actual[j] - predicted[j]) / actual[j]\n",
    "        else:\n",
    "            res[j] = predicted[j] / np.mean(actual)\n",
    "    return res\n",
    "\n",
    "def MAPE(y_true, y_pred):\n",
    "    return np.mean(np.abs(percentage_error(np.asarray(y_true), np.asarray(y_pred)))) * 100"
   ],
   "metadata": {
    "collapsed": false
   }
  },
  {
   "cell_type": "code",
   "execution_count": 44,
   "outputs": [
    {
     "data": {
      "text/plain": "      AM  IM  SS   Ag        Al  As   Au    B  Ba   Be  ...  Te        Ti  Tl  \\\n370    0   1   0  0.0  0.666667   0  0.0  0.0   0  0.0  ...   0  0.242424   0   \n1022   0   1   1  0.0  0.000000   0  0.0  0.0   0  0.0  ...   0  0.000000   0   \n737    0   0   1  0.0  0.000000   0  0.0  0.0   0  0.0  ...   0  0.000000   0   \n299    0   1   0  0.0  0.000000   0  0.0  0.0   0  0.0  ...   0  0.000000   0   \n382    0   1   0  0.0  0.533333   0  0.0  0.0   0  0.0  ...   0  0.200000   0   \n\n       Tm         V    W    Y   Yb   Zn   Zr  \n370   0.0  0.000000  0.0  0.0  0.0  0.0  0.0  \n1022  0.0  0.185185  0.0  0.0  0.0  0.0  0.0  \n737   0.0  0.000000  0.0  0.0  0.0  0.0  0.0  \n299   0.0  0.000000  0.0  0.0  0.0  0.0  0.0  \n382   0.0  0.000000  0.0  0.0  0.0  0.0  0.0  \n\n[5 rows x 81 columns]",
      "text/html": "<div>\n<style scoped>\n    .dataframe tbody tr th:only-of-type {\n        vertical-align: middle;\n    }\n\n    .dataframe tbody tr th {\n        vertical-align: top;\n    }\n\n    .dataframe thead th {\n        text-align: right;\n    }\n</style>\n<table border=\"1\" class=\"dataframe\">\n  <thead>\n    <tr style=\"text-align: right;\">\n      <th></th>\n      <th>AM</th>\n      <th>IM</th>\n      <th>SS</th>\n      <th>Ag</th>\n      <th>Al</th>\n      <th>As</th>\n      <th>Au</th>\n      <th>B</th>\n      <th>Ba</th>\n      <th>Be</th>\n      <th>...</th>\n      <th>Te</th>\n      <th>Ti</th>\n      <th>Tl</th>\n      <th>Tm</th>\n      <th>V</th>\n      <th>W</th>\n      <th>Y</th>\n      <th>Yb</th>\n      <th>Zn</th>\n      <th>Zr</th>\n    </tr>\n  </thead>\n  <tbody>\n    <tr>\n      <th>370</th>\n      <td>0</td>\n      <td>1</td>\n      <td>0</td>\n      <td>0.0</td>\n      <td>0.666667</td>\n      <td>0</td>\n      <td>0.0</td>\n      <td>0.0</td>\n      <td>0</td>\n      <td>0.0</td>\n      <td>...</td>\n      <td>0</td>\n      <td>0.242424</td>\n      <td>0</td>\n      <td>0.0</td>\n      <td>0.000000</td>\n      <td>0.0</td>\n      <td>0.0</td>\n      <td>0.0</td>\n      <td>0.0</td>\n      <td>0.0</td>\n    </tr>\n    <tr>\n      <th>1022</th>\n      <td>0</td>\n      <td>1</td>\n      <td>1</td>\n      <td>0.0</td>\n      <td>0.000000</td>\n      <td>0</td>\n      <td>0.0</td>\n      <td>0.0</td>\n      <td>0</td>\n      <td>0.0</td>\n      <td>...</td>\n      <td>0</td>\n      <td>0.000000</td>\n      <td>0</td>\n      <td>0.0</td>\n      <td>0.185185</td>\n      <td>0.0</td>\n      <td>0.0</td>\n      <td>0.0</td>\n      <td>0.0</td>\n      <td>0.0</td>\n    </tr>\n    <tr>\n      <th>737</th>\n      <td>0</td>\n      <td>0</td>\n      <td>1</td>\n      <td>0.0</td>\n      <td>0.000000</td>\n      <td>0</td>\n      <td>0.0</td>\n      <td>0.0</td>\n      <td>0</td>\n      <td>0.0</td>\n      <td>...</td>\n      <td>0</td>\n      <td>0.000000</td>\n      <td>0</td>\n      <td>0.0</td>\n      <td>0.000000</td>\n      <td>0.0</td>\n      <td>0.0</td>\n      <td>0.0</td>\n      <td>0.0</td>\n      <td>0.0</td>\n    </tr>\n    <tr>\n      <th>299</th>\n      <td>0</td>\n      <td>1</td>\n      <td>0</td>\n      <td>0.0</td>\n      <td>0.000000</td>\n      <td>0</td>\n      <td>0.0</td>\n      <td>0.0</td>\n      <td>0</td>\n      <td>0.0</td>\n      <td>...</td>\n      <td>0</td>\n      <td>0.000000</td>\n      <td>0</td>\n      <td>0.0</td>\n      <td>0.000000</td>\n      <td>0.0</td>\n      <td>0.0</td>\n      <td>0.0</td>\n      <td>0.0</td>\n      <td>0.0</td>\n    </tr>\n    <tr>\n      <th>382</th>\n      <td>0</td>\n      <td>1</td>\n      <td>0</td>\n      <td>0.0</td>\n      <td>0.533333</td>\n      <td>0</td>\n      <td>0.0</td>\n      <td>0.0</td>\n      <td>0</td>\n      <td>0.0</td>\n      <td>...</td>\n      <td>0</td>\n      <td>0.200000</td>\n      <td>0</td>\n      <td>0.0</td>\n      <td>0.000000</td>\n      <td>0.0</td>\n      <td>0.0</td>\n      <td>0.0</td>\n      <td>0.0</td>\n      <td>0.0</td>\n    </tr>\n  </tbody>\n</table>\n<p>5 rows × 81 columns</p>\n</div>"
     },
     "execution_count": 44,
     "metadata": {},
     "output_type": "execute_result"
    }
   ],
   "source": [
    "X_train.head()"
   ],
   "metadata": {
    "collapsed": false
   }
  },
  {
   "cell_type": "markdown",
   "source": [
    "Random Forest Regressor"
   ],
   "metadata": {
    "collapsed": false
   }
  },
  {
   "cell_type": "code",
   "execution_count": 45,
   "outputs": [],
   "source": [
    "n_estimators = [100, 200, 350, 500, 1000, 2000, 5000, 10000]\n",
    "max_depth = [int(x) for x in range(5,90,10)]\n",
    "n_jobs = [-1]\n",
    "random_state = [42]\n",
    "\n",
    "\n",
    "random_grid = {'n_estimators': n_estimators,\n",
    "               'max_depth': max_depth,\n",
    "               'n_jobs':n_jobs,\n",
    "               'random_state':random_state\n",
    "               }\n",
    "\n",
    "rf_gsc = GridSearch(model=RandomForestRegressor(),param_grid=random_grid,cv_folds=5)\n",
    "rf_model = rf_gsc.fit(X_train,y_train) #.values.ravel()"
   ],
   "metadata": {
    "collapsed": false
   }
  },
  {
   "cell_type": "code",
   "execution_count": 46,
   "outputs": [
    {
     "data": {
      "text/plain": "{'bootstrap': True,\n 'ccp_alpha': 0.0,\n 'criterion': 'squared_error',\n 'max_depth': 35,\n 'max_features': 1.0,\n 'max_leaf_nodes': None,\n 'max_samples': None,\n 'min_impurity_decrease': 0.0,\n 'min_samples_leaf': 1,\n 'min_samples_split': 2,\n 'min_weight_fraction_leaf': 0.0,\n 'n_estimators': 5000,\n 'n_jobs': -1,\n 'oob_score': False,\n 'random_state': 42,\n 'verbose': 0,\n 'warm_start': False}"
     },
     "execution_count": 46,
     "metadata": {},
     "output_type": "execute_result"
    }
   ],
   "source": [
    "rf_model.get_params()"
   ],
   "metadata": {
    "collapsed": false
   }
  },
  {
   "cell_type": "markdown",
   "source": [
    "Extreme Gradient Boosting(XGB) Regressor"
   ],
   "metadata": {
    "collapsed": false
   }
  },
  {
   "cell_type": "code",
   "execution_count": 47,
   "outputs": [],
   "source": [
    "n_estimators = [100, 200, 500, 1000, 2000, 5000, 10000] # tradeoff b/w n_estimators and learning_rate\n",
    "learning_rate = [x for x in np.arange(0.3,0.6,0.1)]\n",
    "criterion = ['mae']\n",
    "max_depth = [int(x) for x in range(2,10)]\n",
    "n_jobs = [-1]\n",
    "\n",
    "random_grid = {'n_estimators': n_estimators,\n",
    "               'learning_rate':learning_rate,\n",
    "               'max_depth': max_depth,\n",
    "               'n_jobs':n_jobs\n",
    "               },\n",
    "\n",
    "xgb_gsc = GridSearch(model=XGBRegressor(),param_grid=random_grid,cv_folds=5)\n",
    "xgb_model = xgb_gsc.fit(X_train,y_train)"
   ],
   "metadata": {
    "collapsed": false
   }
  },
  {
   "cell_type": "code",
   "execution_count": 48,
   "outputs": [
    {
     "data": {
      "text/plain": "{'objective': 'reg:squarederror',\n 'base_score': None,\n 'booster': None,\n 'callbacks': None,\n 'colsample_bylevel': None,\n 'colsample_bynode': None,\n 'colsample_bytree': None,\n 'early_stopping_rounds': None,\n 'enable_categorical': False,\n 'eval_metric': None,\n 'feature_types': None,\n 'gamma': None,\n 'gpu_id': None,\n 'grow_policy': None,\n 'importance_type': None,\n 'interaction_constraints': None,\n 'learning_rate': 0.4,\n 'max_bin': None,\n 'max_cat_threshold': None,\n 'max_cat_to_onehot': None,\n 'max_delta_step': None,\n 'max_depth': 2,\n 'max_leaves': None,\n 'min_child_weight': None,\n 'missing': nan,\n 'monotone_constraints': None,\n 'n_estimators': 10000,\n 'n_jobs': -1,\n 'num_parallel_tree': None,\n 'predictor': None,\n 'random_state': None,\n 'reg_alpha': None,\n 'reg_lambda': None,\n 'sampling_method': None,\n 'scale_pos_weight': None,\n 'subsample': None,\n 'tree_method': None,\n 'validate_parameters': None,\n 'verbosity': None}"
     },
     "execution_count": 48,
     "metadata": {},
     "output_type": "execute_result"
    }
   ],
   "source": [
    "xgb_model.get_params()"
   ],
   "metadata": {
    "collapsed": false
   }
  },
  {
   "cell_type": "markdown",
   "source": [
    "Linear Regression"
   ],
   "metadata": {
    "collapsed": false
   }
  },
  {
   "cell_type": "code",
   "execution_count": 49,
   "outputs": [],
   "source": [
    "normalize = [True]\n",
    "n_jobs = [-1]\n",
    "\n",
    "random_grid = {'n_jobs':n_jobs}\n",
    "\n",
    "lr_gsc = GridSearch(model=LinearRegression(),param_grid=random_grid,cv_folds=5)\n",
    "lr_model = lr_gsc.fit(X_train,y_train)\n"
   ],
   "metadata": {
    "collapsed": false
   }
  },
  {
   "cell_type": "code",
   "execution_count": 50,
   "outputs": [
    {
     "data": {
      "text/plain": "{'copy_X': True, 'fit_intercept': True, 'n_jobs': -1, 'positive': False}"
     },
     "execution_count": 50,
     "metadata": {},
     "output_type": "execute_result"
    }
   ],
   "source": [
    "lr_model.get_params()"
   ],
   "metadata": {
    "collapsed": false
   }
  },
  {
   "cell_type": "markdown",
   "source": [
    "Lasso Regression"
   ],
   "metadata": {
    "collapsed": false
   }
  },
  {
   "cell_type": "code",
   "execution_count": 51,
   "outputs": [],
   "source": [
    "alpha=[x for x in np.arange(0.001,0.01,0.0001)]\n",
    "random_state = [42]\n",
    "\n",
    "random_grid = {'alpha':alpha, 'random_state':random_state}\n",
    "\n",
    "lasso_r_gsc = GridSearch(model=Lasso(),param_grid=random_grid,cv_folds=5)\n",
    "lasso_r_model = lasso_r_gsc.fit(X_train,y_train)"
   ],
   "metadata": {
    "collapsed": false
   }
  },
  {
   "cell_type": "code",
   "execution_count": 53,
   "outputs": [
    {
     "data": {
      "text/plain": "{'alpha': 0.0013000000000000002,\n 'copy_X': True,\n 'fit_intercept': True,\n 'max_iter': 1000,\n 'positive': False,\n 'precompute': False,\n 'random_state': 42,\n 'selection': 'cyclic',\n 'tol': 0.0001,\n 'warm_start': False}"
     },
     "execution_count": 53,
     "metadata": {},
     "output_type": "execute_result"
    }
   ],
   "source": [
    "lasso_r_model.get_params()"
   ],
   "metadata": {
    "collapsed": false
   }
  },
  {
   "cell_type": "markdown",
   "source": [
    "Ridge Regression"
   ],
   "metadata": {
    "collapsed": false
   }
  },
  {
   "cell_type": "code",
   "execution_count": 54,
   "outputs": [],
   "source": [
    "alpha=[x for x in np.arange(0.001,1,0.001)]\n",
    "random_state = [42]\n",
    "solver = ['auto', 'svd', 'cholesky', 'lsqr', 'sparse_cg', 'sag', 'saga']\n",
    "\n",
    "random_grid = {'alpha':alpha, 'random_state':random_state, 'solver':solver}\n",
    "\n",
    "ridge_r_gsc = GridSearch(model=Ridge(),param_grid=random_grid,cv_folds=5)\n",
    "ridge_r_model = ridge_r_gsc.fit(X_train,y_train)"
   ],
   "metadata": {
    "collapsed": false
   }
  },
  {
   "cell_type": "code",
   "execution_count": 55,
   "outputs": [
    {
     "data": {
      "text/plain": "{'alpha': 0.001,\n 'copy_X': True,\n 'fit_intercept': True,\n 'max_iter': None,\n 'positive': False,\n 'random_state': 42,\n 'solver': 'svd',\n 'tol': 0.0001}"
     },
     "execution_count": 55,
     "metadata": {},
     "output_type": "execute_result"
    }
   ],
   "source": [
    "ridge_r_model.get_params()"
   ],
   "metadata": {
    "collapsed": false
   }
  },
  {
   "cell_type": "code",
   "execution_count": 56,
   "outputs": [],
   "source": [
    "alpha=[x for x in np.arange(0.001,0.1,0.001)]\n",
    "random_state = [42]\n",
    "ratio = [x for x in np.arange(0.1, 1, 0.1)]\n",
    "\n",
    "random_grid = {'alpha':alpha,\n",
    "               \"l1_ratio\": ratio,\n",
    "               'random_state':random_state}\n",
    "\n",
    "elasticnet_r_gsc = GridSearch(model=ElasticNet(),param_grid=random_grid,cv_folds=5)\n",
    "elasticnet_r_model = elasticnet_r_gsc.fit(X_train,y_train)"
   ],
   "metadata": {
    "collapsed": false
   }
  },
  {
   "cell_type": "code",
   "execution_count": 57,
   "outputs": [
    {
     "data": {
      "text/plain": "{'alpha': 0.001,\n 'copy_X': True,\n 'fit_intercept': True,\n 'l1_ratio': 0.9,\n 'max_iter': 1000,\n 'positive': False,\n 'precompute': False,\n 'random_state': 42,\n 'selection': 'cyclic',\n 'tol': 0.0001,\n 'warm_start': False}"
     },
     "execution_count": 57,
     "metadata": {},
     "output_type": "execute_result"
    }
   ],
   "source": [
    "elasticnet_r_model.get_params()"
   ],
   "metadata": {
    "collapsed": false
   }
  },
  {
   "cell_type": "markdown",
   "source": [
    "KNeighborsRegressor"
   ],
   "metadata": {
    "collapsed": false
   }
  },
  {
   "cell_type": "code",
   "execution_count": 58,
   "outputs": [],
   "source": [
    "leaf_size = list(range(27,33))\n",
    "n_neighbors = list(range(1,15))\n",
    "algorithm = [\"auto\", \"ball_tree\", \"kd_tree\", \"brute\"]\n",
    "p = [1,2] #For p = 1 ->manhattan_distance; for p = 2 ->euclidean_distance\n",
    "random_grid = dict(leaf_size=leaf_size, n_neighbors=n_neighbors,algorithm = algorithm,p = p)\n",
    "\n",
    "knnr_gsc = GridSearch(model=KNeighborsRegressor(),param_grid=random_grid,cv_folds=5)\n",
    "\n",
    "knnr_model = knnr_gsc.fit(X_train, y_train)\n"
   ],
   "metadata": {
    "collapsed": false
   }
  },
  {
   "cell_type": "code",
   "execution_count": 59,
   "outputs": [
    {
     "data": {
      "text/plain": "{'algorithm': 'auto',\n 'leaf_size': 27,\n 'metric': 'minkowski',\n 'metric_params': None,\n 'n_jobs': None,\n 'n_neighbors': 2,\n 'p': 1,\n 'weights': 'uniform'}"
     },
     "execution_count": 59,
     "metadata": {},
     "output_type": "execute_result"
    }
   ],
   "source": [
    "knnr_model.get_params()"
   ],
   "metadata": {
    "collapsed": false
   }
  },
  {
   "cell_type": "code",
   "execution_count": 60,
   "outputs": [],
   "source": [
    "filename1 = '../Saved Models/Regressor Models/random_state_1/random_forest_regressor.sav'\n",
    "pickle.dump(rf_model, open(filename1, 'wb'))\n",
    "\n",
    "filename2 = '../Saved Models/Regressor Models/random_state_1/XGBoost_regressor.sav'\n",
    "pickle.dump(xgb_model, open(filename2, 'wb'))\n",
    "\n",
    "filename3 = '../Saved Models/Regressor Models/random_state_1/Linear_regressor.sav'\n",
    "pickle.dump(lr_model, open(filename3, 'wb'))\n",
    "\n",
    "filename4 = '../Saved Models/Regressor Models/random_state_1/Lasso_regressor.sav'\n",
    "pickle.dump(lasso_r_model, open(filename4, 'wb'))\n",
    "\n",
    "filename5 = '../Saved Models/Regressor Models/random_state_1/Ridge_regressor.sav'\n",
    "pickle.dump(ridge_r_model, open(filename5, 'wb'))\n",
    "\n",
    "filename6 = '../Saved Models/Regressor Models/random_state_1/KNN_regressor.sav'\n",
    "pickle.dump(knnr_model, open(filename6, 'wb'))\n",
    "\n",
    "filename7 = '../Saved Models/Regressor Models/random_state_1/Elasticnet_regressor.sav'\n",
    "pickle.dump(elasticnet_r_model, open(filename7, 'wb'))"
   ],
   "metadata": {
    "collapsed": false
   }
  },
  {
   "cell_type": "code",
   "execution_count": 61,
   "outputs": [],
   "source": [
    "filename1 = '../Saved Models/Regressor Models/random_state_1/random_forest_regressor.sav'\n",
    "random_forest_model = pickle.load(open(filename1, 'rb'))\n",
    "\n",
    "train_pred = random_forest_model.predict(X_train)\n",
    "test_pred = random_forest_model.predict(X_test)\n",
    "\n",
    "rf_r2_Train = random_forest_model.score(X_train,y_train)\n",
    "rf_r2_Test = random_forest_model.score(X_test,y_test)\n",
    "rf_mse_Train = mse(y_train, train_pred)\n",
    "rf_mse_Test = mse(y_test, test_pred)\n",
    "rf_mae_Train = mae(y_train, train_pred)\n",
    "rf_mae_Test = mae(y_test, test_pred)\n",
    "rf_mape_Train = MAPE(y_train, train_pred)\n",
    "rf_mape_Test = MAPE(y_test, test_pred)\n",
    "rf_adj_r2_Train = adjusted_r_squared(X_train, y_train, rf_r2_Train)\n",
    "rf_adj_r2_Test = adjusted_r_squared(X_test, y_test, rf_r2_Test)\n",
    "rf_cross_val_score_Train = list(cross_val_score(random_forest_model, X_train, y_train, scoring = 'r2',  cv=KFold(n_splits=5,shuffle=True)) )\n",
    "\n",
    "\n",
    "filename1 = '../Saved Models/Regressor Models/random_state_1/XGBoost_regressor.sav'\n",
    "XGBoost_regressor_model = pickle.load(open(filename1, 'rb'))\n",
    "\n",
    "\n",
    "train_pred = XGBoost_regressor_model.predict(X_train)\n",
    "test_pred = XGBoost_regressor_model.predict(X_test)\n",
    "\n",
    "xgb_r2_Train = XGBoost_regressor_model.score(X_train,y_train)\n",
    "xgb_r2_Test = XGBoost_regressor_model.score(X_test,y_test)\n",
    "xgb_mse_Train = mse(y_train, train_pred)\n",
    "xgb_mse_Test = mse(y_test, test_pred)\n",
    "xgb_mae_Train = mae(y_train, train_pred)\n",
    "xgb_mae_Test = mae(y_test, test_pred)\n",
    "xgb_mape_Train = MAPE(y_train, train_pred)\n",
    "xgb_mape_Test = MAPE(y_test, test_pred)\n",
    "xgb_adj_r2_Train = adjusted_r_squared(X_train, y_train, xgb_r2_Train)\n",
    "xgb_adj_r2_Test = adjusted_r_squared(X_test, y_test, xgb_r2_Test)\n",
    "xgb_cross_val_score_Train = list(cross_val_score(XGBoost_regressor_model, X_train, y_train, scoring = 'r2', cv=KFold(n_splits=5,shuffle=True)) )\n",
    "\n",
    "\n",
    "\n",
    "filename1 = '../Saved Models/Regressor Models/random_state_1/Linear_regressor.sav'\n",
    "Linear_regressor_model = pickle.load(open(filename1, 'rb'))\n",
    "\n",
    "\n",
    "train_pred = Linear_regressor_model.predict(X_train)\n",
    "test_pred = Linear_regressor_model.predict(X_test)\n",
    "\n",
    "\n",
    "lr_r2_Train = Linear_regressor_model.score(X_train,y_train)\n",
    "lr_r2_Test = Linear_regressor_model.score(X_test,y_test)\n",
    "lr_mse_Train = mse(y_train, train_pred)\n",
    "lr_mse_Test = mse(y_test, test_pred)\n",
    "lr_mae_Train = mae(y_train, train_pred)\n",
    "lr_mae_Test = mae(y_test, test_pred)\n",
    "lr_mape_Train = MAPE(y_train, train_pred)\n",
    "lr_mape_Test = MAPE(y_test, test_pred)\n",
    "lr_adj_r2_Train = adjusted_r_squared(X_train, y_train, lr_r2_Train)\n",
    "lr_adj_r2_Test = adjusted_r_squared(X_test, y_test, lr_r2_Test)\n",
    "lr_cross_val_score_Train = list(cross_val_score(Linear_regressor_model, X_train, y_train, scoring = 'r2',  cv=KFold(n_splits=5,shuffle=True)) )\n",
    "\n",
    "\n",
    "filename1 = '../Saved Models/Regressor Models/random_state_1/Lasso_regressor.sav'\n",
    "Lasso_regressor_model = pickle.load(open(filename1, 'rb'))\n",
    "\n",
    "\n",
    "train_pred = Lasso_regressor_model.predict(X_train)\n",
    "test_pred = Lasso_regressor_model.predict(X_test)\n",
    "\n",
    "\n",
    "lasso_r_r2_Train = Lasso_regressor_model.score(X_train,y_train)\n",
    "lasso_r_r2_Test = Lasso_regressor_model.score(X_test,y_test)\n",
    "lasso_r_mse_Train = mse(y_train, train_pred)\n",
    "lasso_r_mse_Test = mse(y_test, test_pred)\n",
    "lasso_r_mae_Train = mae(y_train, train_pred)\n",
    "lasso_r_mae_Test = mae(y_test, test_pred)\n",
    "lasso_r_mape_Train = MAPE(y_train, train_pred)\n",
    "lasso_r_mape_Test = MAPE(y_test, test_pred)\n",
    "lasso_r_adj_r2_Train = adjusted_r_squared(X_train, y_train, lasso_r_r2_Train)\n",
    "lasso_r_adj_r2_Test = adjusted_r_squared(X_test, y_test, lasso_r_r2_Test)\n",
    "lasso_r_cross_val_score_Train = list(cross_val_score(Lasso_regressor_model, X_train, y_train, scoring = 'r2',  cv=KFold(n_splits=5,shuffle=True)) )\n",
    "\n",
    "\n",
    "filename1 = '../Saved Models/Regressor Models/random_state_1/Ridge_regressor.sav'\n",
    "ridge_model = pickle.load(open(filename1, 'rb'))\n",
    "\n",
    "\n",
    "train_pred = ridge_model.predict(X_train)\n",
    "test_pred = ridge_model.predict(X_test)\n",
    "\n",
    "\n",
    "ridge_r_r2_Train = ridge_model.score(X_train,y_train)\n",
    "ridge_r_r2_Test = ridge_model.score(X_test,y_test)\n",
    "ridge_r_mse_Train = mse(y_train, train_pred)\n",
    "ridge_r_mse_Test = mse(y_test, test_pred)\n",
    "ridge_r_mae_Train = mae(y_train, train_pred)\n",
    "ridge_r_mae_Test = mae(y_test, test_pred)\n",
    "ridge_r_mape_Train = MAPE(y_train, train_pred)\n",
    "ridge_r_mape_Test = MAPE(y_test, test_pred)\n",
    "ridge_r_adj_r2_Train = adjusted_r_squared(X_train, y_train, ridge_r_r2_Train)\n",
    "ridge_r_adj_r2_Test = adjusted_r_squared(X_test, y_test, ridge_r_r2_Test)\n",
    "ridge_r_cross_val_score_Train = list(cross_val_score(ridge_model, X_train, y_train, scoring = 'r2',  cv=KFold(n_splits=5,shuffle=True)) )\n",
    "\n",
    "filename1 = '../Saved Models/Regressor Models/random_state_1/Elasticnet_regressor.sav'\n",
    "elasticnet_model = pickle.load(open(filename1, 'rb'))\n",
    "\n",
    "\n",
    "train_pred = elasticnet_model.predict(X_train)\n",
    "test_pred = elasticnet_model.predict(X_test)\n",
    "\n",
    "\n",
    "elasticnet_r_r2_Train = elasticnet_model.score(X_train,y_train)\n",
    "elasticnet_r_r2_Test = elasticnet_model.score(X_test,y_test)\n",
    "elasticnet_r_mse_Train = mse(y_train, train_pred)\n",
    "elasticnet_r_mse_Test = mse(y_test, test_pred)\n",
    "elasticnet_r_mae_Train = mae(y_train, train_pred)\n",
    "elasticnet_r_mae_Test = mae(y_test, test_pred)\n",
    "elasticnet_r_mape_Train = MAPE(y_train, train_pred)\n",
    "elasticnet_r_mape_Test = MAPE(y_test, test_pred)\n",
    "elasticnet_r_adj_r2_Train = adjusted_r_squared(X_train, y_train, elasticnet_r_r2_Train)\n",
    "elasticnet_r_adj_r2_Test = adjusted_r_squared(X_test, y_test, elasticnet_r_r2_Test)\n",
    "elasticnet_r_cross_val_score_Train = list(cross_val_score(ridge_model, X_train, y_train, scoring = 'r2',  cv=KFold(n_splits=5,shuffle=True)) )\n",
    "\n",
    "filename1 = '../Saved Models/Regressor Models/random_state_1/KNN_regressor.sav'\n",
    "KNN_regressor_model = pickle.load(open(filename1, 'rb'))\n",
    "\n",
    "\n",
    "train_pred = KNN_regressor_model.predict(X_train)\n",
    "test_pred = KNN_regressor_model.predict(X_test)\n",
    "\n",
    "\n",
    "knnr_r2_Train = KNN_regressor_model.score(X_train,y_train)\n",
    "knnr_r2_Test = KNN_regressor_model.score(X_test,y_test)\n",
    "knnr_mse_Train = mse(y_train, train_pred)\n",
    "knnr_mse_Test = mse(y_test, test_pred)\n",
    "knnr_mae_Train = mae(y_train, train_pred)\n",
    "knnr_mae_Test = mae(y_test, test_pred)\n",
    "knnr_mape_Train = MAPE(y_train, train_pred)\n",
    "knnr_mape_Test = MAPE(y_test, test_pred)\n",
    "knnr_adj_r2_Train = adjusted_r_squared(X_train, y_train, knnr_r2_Train)\n",
    "knnr_adj_r2_Test = adjusted_r_squared(X_test, y_test, knnr_r2_Test)\n",
    "knnr_cross_val_score_Train = list(cross_val_score(KNN_regressor_model, X_train, y_train, scoring = 'r2', cv=KFold(n_splits=5,shuffle=True)) )\n"
   ],
   "metadata": {
    "collapsed": false
   }
  },
  {
   "cell_type": "code",
   "execution_count": 62,
   "outputs": [
    {
     "data": {
      "text/plain": "                   Model  Train R-square  Test R-square  Train MSE  \\\n3       Lasso Regression        0.994122   9.951727e-01   9.455470   \n4       Ridge Regression        0.994201   9.940160e-01   9.328497   \n5  ElasticNet Regression        0.990617   9.900546e-01  15.093270   \n1     XG Boost Regressor        0.999979   9.525526e-01   0.033340   \n6          KNN Regressor        0.967149   9.045658e-01  52.846057   \n0          Random Forest        0.984104   8.850324e-01  25.571222   \n2      Linear Regression        0.994231  -2.793711e+19   9.280066   \n\n       Test MSE  Train MAE      Test MAE  Train MAPE     Test MAPE  \\\n3  6.992395e+00   0.603405  8.600176e-01    0.584806  8.339862e-01   \n4  8.667858e+00   0.521631  8.336477e-01    0.452750  8.602277e-01   \n5  1.440601e+01   1.297556  1.686179e+00    1.448040  1.848666e+00   \n1  6.872818e+01   0.030011  4.256212e+00    0.022031  4.681820e+00   \n6  1.382377e+02   3.769974  6.920856e+00    3.733521  6.713521e+00   \n0  1.665321e+02   2.321185  6.070350e+00    2.390784  5.962796e+00   \n2  4.046728e+22   0.557992  1.872000e+10    0.476954  3.044092e+10   \n\n   Train Adj. R-square  Test Adj. R-square  \\\n3             0.993463        9.936860e-01   \n4             0.993551        9.921731e-01   \n5             0.989565        9.869916e-01   \n1             0.999977        9.379395e-01   \n6             0.963464        8.751735e-01   \n0             0.982321        8.496242e-01   \n2             0.993584       -3.654132e+19   \n\n                Cross_Validation_Scores_for_trainset  \n3  [0.9669871563193833, 0.9990823626429628, 0.999...  \n4  [0.9774786625894533, 0.9997186989727981, 0.996...  \n5  [0.9969291660096653, 0.9992510052054169, 0.997...  \n1  [0.8896790625950936, 0.9065053561288304, 0.867...  \n6  [0.8415303461161754, 0.8081040768811929, 0.889...  \n0  [0.9298623463317078, 0.8866975965188556, 0.756...  \n2  [-4.872215683311764e+16, -127503855332.05826, ...  ",
      "text/html": "<div>\n<style scoped>\n    .dataframe tbody tr th:only-of-type {\n        vertical-align: middle;\n    }\n\n    .dataframe tbody tr th {\n        vertical-align: top;\n    }\n\n    .dataframe thead th {\n        text-align: right;\n    }\n</style>\n<table border=\"1\" class=\"dataframe\">\n  <thead>\n    <tr style=\"text-align: right;\">\n      <th></th>\n      <th>Model</th>\n      <th>Train R-square</th>\n      <th>Test R-square</th>\n      <th>Train MSE</th>\n      <th>Test MSE</th>\n      <th>Train MAE</th>\n      <th>Test MAE</th>\n      <th>Train MAPE</th>\n      <th>Test MAPE</th>\n      <th>Train Adj. R-square</th>\n      <th>Test Adj. R-square</th>\n      <th>Cross_Validation_Scores_for_trainset</th>\n    </tr>\n  </thead>\n  <tbody>\n    <tr>\n      <th>3</th>\n      <td>Lasso Regression</td>\n      <td>0.994122</td>\n      <td>9.951727e-01</td>\n      <td>9.455470</td>\n      <td>6.992395e+00</td>\n      <td>0.603405</td>\n      <td>8.600176e-01</td>\n      <td>0.584806</td>\n      <td>8.339862e-01</td>\n      <td>0.993463</td>\n      <td>9.936860e-01</td>\n      <td>[0.9669871563193833, 0.9990823626429628, 0.999...</td>\n    </tr>\n    <tr>\n      <th>4</th>\n      <td>Ridge Regression</td>\n      <td>0.994201</td>\n      <td>9.940160e-01</td>\n      <td>9.328497</td>\n      <td>8.667858e+00</td>\n      <td>0.521631</td>\n      <td>8.336477e-01</td>\n      <td>0.452750</td>\n      <td>8.602277e-01</td>\n      <td>0.993551</td>\n      <td>9.921731e-01</td>\n      <td>[0.9774786625894533, 0.9997186989727981, 0.996...</td>\n    </tr>\n    <tr>\n      <th>5</th>\n      <td>ElasticNet Regression</td>\n      <td>0.990617</td>\n      <td>9.900546e-01</td>\n      <td>15.093270</td>\n      <td>1.440601e+01</td>\n      <td>1.297556</td>\n      <td>1.686179e+00</td>\n      <td>1.448040</td>\n      <td>1.848666e+00</td>\n      <td>0.989565</td>\n      <td>9.869916e-01</td>\n      <td>[0.9969291660096653, 0.9992510052054169, 0.997...</td>\n    </tr>\n    <tr>\n      <th>1</th>\n      <td>XG Boost Regressor</td>\n      <td>0.999979</td>\n      <td>9.525526e-01</td>\n      <td>0.033340</td>\n      <td>6.872818e+01</td>\n      <td>0.030011</td>\n      <td>4.256212e+00</td>\n      <td>0.022031</td>\n      <td>4.681820e+00</td>\n      <td>0.999977</td>\n      <td>9.379395e-01</td>\n      <td>[0.8896790625950936, 0.9065053561288304, 0.867...</td>\n    </tr>\n    <tr>\n      <th>6</th>\n      <td>KNN Regressor</td>\n      <td>0.967149</td>\n      <td>9.045658e-01</td>\n      <td>52.846057</td>\n      <td>1.382377e+02</td>\n      <td>3.769974</td>\n      <td>6.920856e+00</td>\n      <td>3.733521</td>\n      <td>6.713521e+00</td>\n      <td>0.963464</td>\n      <td>8.751735e-01</td>\n      <td>[0.8415303461161754, 0.8081040768811929, 0.889...</td>\n    </tr>\n    <tr>\n      <th>0</th>\n      <td>Random Forest</td>\n      <td>0.984104</td>\n      <td>8.850324e-01</td>\n      <td>25.571222</td>\n      <td>1.665321e+02</td>\n      <td>2.321185</td>\n      <td>6.070350e+00</td>\n      <td>2.390784</td>\n      <td>5.962796e+00</td>\n      <td>0.982321</td>\n      <td>8.496242e-01</td>\n      <td>[0.9298623463317078, 0.8866975965188556, 0.756...</td>\n    </tr>\n    <tr>\n      <th>2</th>\n      <td>Linear Regression</td>\n      <td>0.994231</td>\n      <td>-2.793711e+19</td>\n      <td>9.280066</td>\n      <td>4.046728e+22</td>\n      <td>0.557992</td>\n      <td>1.872000e+10</td>\n      <td>0.476954</td>\n      <td>3.044092e+10</td>\n      <td>0.993584</td>\n      <td>-3.654132e+19</td>\n      <td>[-4.872215683311764e+16, -127503855332.05826, ...</td>\n    </tr>\n  </tbody>\n</table>\n</div>"
     },
     "execution_count": 62,
     "metadata": {},
     "output_type": "execute_result"
    }
   ],
   "source": [
    "models_regressor_comparison = pd.DataFrame({\n",
    "    'Model'       : ['Random Forest', 'XG Boost Regressor', 'Linear Regression', 'Lasso Regression', 'Ridge Regression', \"ElasticNet Regression\", 'KNN Regressor' ],\n",
    "    'Train R-square': [rf_r2_Train, xgb_r2_Train, lr_r2_Train, lasso_r_r2_Train,   ridge_r_r2_Train, elasticnet_r_r2_Train, knnr_r2_Train],\n",
    "    'Test R-square': [rf_r2_Test, xgb_r2_Test, lr_r2_Test, lasso_r_r2_Test,  ridge_r_r2_Test, elasticnet_r_r2_Test, knnr_r2_Test],\n",
    "    'Train MSE'    : [rf_mse_Train, xgb_mse_Train, lr_mse_Train, lasso_r_mse_Train,  ridge_r_mse_Train, elasticnet_r_mse_Train, knnr_mse_Train],\n",
    "    'Test MSE'   : [rf_mse_Test, xgb_mse_Test, lr_mse_Test, lasso_r_mse_Test, ridge_r_mse_Test, elasticnet_r_mse_Test, knnr_mse_Test],\n",
    "    'Train MAE':[rf_mae_Train, xgb_mae_Train, lr_mae_Train, lasso_r_mae_Train, ridge_r_mae_Train, elasticnet_r_mae_Train, knnr_mae_Train],\n",
    "    'Test MAE':[rf_mae_Test, xgb_mae_Test, lr_mae_Test, lasso_r_mae_Test, ridge_r_mae_Test, elasticnet_r_mae_Test, knnr_mae_Test],\n",
    "    'Train MAPE':[rf_mape_Train, xgb_mape_Train, lr_mape_Train, lasso_r_mape_Train, ridge_r_mape_Train, elasticnet_r_mape_Train, knnr_mape_Train],\n",
    "    'Test MAPE':[rf_mape_Test, xgb_mape_Test, lr_mape_Test, lasso_r_mape_Test, ridge_r_mape_Test, elasticnet_r_mape_Test, knnr_mape_Test],\n",
    "    'Train Adj. R-square': [rf_adj_r2_Train, xgb_adj_r2_Train, lr_adj_r2_Train, lasso_r_adj_r2_Train,    ridge_r_adj_r2_Train,elasticnet_r_adj_r2_Train, knnr_adj_r2_Train],\n",
    "    'Test Adj. R-square': [rf_adj_r2_Test, xgb_adj_r2_Test, lr_adj_r2_Test, lasso_r_adj_r2_Test,  ridge_r_adj_r2_Test,elasticnet_r_adj_r2_Test, knnr_adj_r2_Test],\n",
    "    'Cross_Validation_Scores_for_trainset': [rf_cross_val_score_Train, xgb_cross_val_score_Train, lr_cross_val_score_Train, lasso_r_cross_val_score_Train, ridge_r_cross_val_score_Train, elasticnet_r_cross_val_score_Train, knnr_cross_val_score_Train],\n",
    "\n",
    "     }, columns = ['Model', 'Train R-square', 'Test R-square', 'Train MSE', 'Test MSE', 'Train MAE', 'Test MAE', 'Train MAPE', 'Test MAPE', 'Train Adj. R-square', 'Test Adj. R-square', 'Cross_Validation_Scores_for_trainset' ])\n",
    "\n",
    "# models_regressor_comparison.set_index('Model', inplace=True)\n",
    "models_regressor_comparison.sort_values(by='Test R-square', ascending=False)"
   ],
   "metadata": {
    "collapsed": false
   }
  },
  {
   "cell_type": "code",
   "execution_count": 63,
   "outputs": [],
   "source": [
    "models_regressor_comparison.to_csv(\"../Saved Models/Regressor Models/random_state_1/Regression_results_dataframe.csv\")"
   ],
   "metadata": {
    "collapsed": false
   }
  },
  {
   "cell_type": "code",
   "execution_count": 65,
   "outputs": [
    {
     "name": "stdout",
     "output_type": "stream",
     "text": [
      "(345,)\n",
      "(345, 1)\n"
     ]
    },
    {
     "data": {
      "text/plain": "<matplotlib.legend.Legend at 0x2db57dea700>"
     },
     "execution_count": 65,
     "metadata": {},
     "output_type": "execute_result"
    },
    {
     "data": {
      "text/plain": "<Figure size 1000x600 with 1 Axes>",
      "image/png": "[encoded data removed]"
     },
     "metadata": {},
     "output_type": "display_data"
    }
   ],
   "source": [
    "test_pred = lasso_r_model.predict(X_test).reshape(-1,1)[:,0]\n",
    "print(test_pred.shape)\n",
    "print(np.array(y_test).reshape(-1,1).shape)\n",
    "\n",
    "d = {'Actual': list(test_pred), 'Predicted': list(np.array(y_test).reshape(-1,1)[:,0])} #['Mean_BulkModulus']\n",
    "df = pd.DataFrame(d)\n",
    "\n",
    "import matplotlib.pyplot as plt\n",
    "import seaborn as sns\n",
    "from scipy import stats\n",
    "df\n",
    "sns.set_theme(color_codes=True)\n",
    "fig = plt.figure(figsize=(10,6))\n",
    "ax=fig.add_subplot(111)\n",
    "ax.set_xlim(0, 300)\n",
    "slope, intercept, r_value, p_value, std_err = stats.linregress(df['Actual'],df['Predicted'])\n",
    "sns.regplot(x = 'Actual',y = 'Predicted',data = df,line_kws={'label':\"Best Linear Fit : \" + \"y={0:.1f}x+{1:.1f}\".format(slope,intercept)},label='Data points')\n",
    "plt.xlabel('Actual Bulk Modulus of HEAs')\n",
    "plt.ylabel('Predicted Bulk Modulus of HEAs')\n",
    "fig.legend()\n",
    "# plt.savefig(\"Residual_plot.svg\")"
   ],
   "metadata": {
    "collapsed": false
   }
  },
  {
   "cell_type": "code",
   "execution_count": null,
   "outputs": [],
   "source": [],
   "metadata": {
    "collapsed": false
   }
  }
 ],
 "metadata": {
  "kernelspec": {
   "display_name": "pyenv_3.6",
   "language": "python",
   "name": "python3"
  },
  "language_info": {
   "codemirror_mode": {
    "name": "ipython",
    "version": 3
   },
   "file_extension": ".py",
   "mimetype": "text/x-python",
   "name": "python",
   "nbconvert_exporter": "python",
   "pygments_lexer": "ipython3",
   "version": "3.6.10"
  },
  "vscode": {
   "interpreter": {
    "hash": "43cbfdd7f681cea137b4df66511d8c579c662e3c988171d38e4cbd552d131a4f"
   }
  }
 },
 "nbformat": 4,
 "nbformat_minor": 5
}
