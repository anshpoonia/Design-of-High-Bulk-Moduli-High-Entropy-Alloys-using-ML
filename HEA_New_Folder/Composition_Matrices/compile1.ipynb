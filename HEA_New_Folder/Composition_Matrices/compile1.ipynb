{
 "cells": [
  {
   "cell_type": "code",
   "execution_count": 1,
   "metadata": {},
   "outputs": [],
   "source": [
    "import numpy as np\n",
    "import pandas as pd\n",
    "import itertools"
   ]
  },
  {
   "cell_type": "code",
   "execution_count": 2,
   "metadata": {},
   "outputs": [],
   "source": [
    "import os\n",
    "path = \"New\""
   ]
  },
  {
   "cell_type": "markdown",
   "metadata": {},
   "source": [
    "Two element matrix generation"
   ]
  },
  {
   "cell_type": "code",
   "execution_count": 6,
   "metadata": {},
   "outputs": [
    {
     "name": "stdout",
     "output_type": "stream",
     "text": [
      "Computed shape: (99, 2)\n",
      "Unique shape: (99, 2)\n"
     ]
    },
    {
     "data": {
      "text/plain": [
       "array([[0.01, 0.99],\n",
       "       [0.02, 0.98],\n",
       "       [0.03, 0.97],\n",
       "       [0.04, 0.96],\n",
       "       [0.05, 0.95],\n",
       "       [0.06, 0.94],\n",
       "       [0.07, 0.93],\n",
       "       [0.08, 0.92],\n",
       "       [0.09, 0.91],\n",
       "       [0.1 , 0.9 ],\n",
       "       [0.11, 0.89],\n",
       "       [0.12, 0.88],\n",
       "       [0.13, 0.87],\n",
       "       [0.14, 0.86],\n",
       "       [0.15, 0.85],\n",
       "       [0.16, 0.84],\n",
       "       [0.17, 0.83],\n",
       "       [0.18, 0.82],\n",
       "       [0.19, 0.81],\n",
       "       [0.2 , 0.8 ],\n",
       "       [0.21, 0.79],\n",
       "       [0.22, 0.78],\n",
       "       [0.23, 0.77],\n",
       "       [0.24, 0.76],\n",
       "       [0.25, 0.75],\n",
       "       [0.26, 0.74],\n",
       "       [0.27, 0.73],\n",
       "       [0.28, 0.72],\n",
       "       [0.29, 0.71],\n",
       "       [0.3 , 0.7 ],\n",
       "       [0.31, 0.69],\n",
       "       [0.32, 0.68],\n",
       "       [0.33, 0.67],\n",
       "       [0.34, 0.66],\n",
       "       [0.35, 0.65],\n",
       "       [0.36, 0.64],\n",
       "       [0.37, 0.63],\n",
       "       [0.38, 0.62],\n",
       "       [0.39, 0.61],\n",
       "       [0.4 , 0.6 ],\n",
       "       [0.41, 0.59],\n",
       "       [0.42, 0.58],\n",
       "       [0.43, 0.57],\n",
       "       [0.44, 0.56],\n",
       "       [0.45, 0.55],\n",
       "       [0.46, 0.54],\n",
       "       [0.47, 0.53],\n",
       "       [0.48, 0.52],\n",
       "       [0.49, 0.51],\n",
       "       [0.5 , 0.5 ],\n",
       "       [0.51, 0.49],\n",
       "       [0.52, 0.48],\n",
       "       [0.53, 0.47],\n",
       "       [0.54, 0.46],\n",
       "       [0.55, 0.45],\n",
       "       [0.56, 0.44],\n",
       "       [0.57, 0.43],\n",
       "       [0.58, 0.42],\n",
       "       [0.59, 0.41],\n",
       "       [0.6 , 0.4 ],\n",
       "       [0.61, 0.39],\n",
       "       [0.62, 0.38],\n",
       "       [0.63, 0.37],\n",
       "       [0.64, 0.36],\n",
       "       [0.65, 0.35],\n",
       "       [0.66, 0.34],\n",
       "       [0.67, 0.33],\n",
       "       [0.68, 0.32],\n",
       "       [0.69, 0.31],\n",
       "       [0.7 , 0.3 ],\n",
       "       [0.71, 0.29],\n",
       "       [0.72, 0.28],\n",
       "       [0.73, 0.27],\n",
       "       [0.74, 0.26],\n",
       "       [0.75, 0.25],\n",
       "       [0.76, 0.24],\n",
       "       [0.77, 0.23],\n",
       "       [0.78, 0.22],\n",
       "       [0.79, 0.21],\n",
       "       [0.8 , 0.2 ],\n",
       "       [0.81, 0.19],\n",
       "       [0.82, 0.18],\n",
       "       [0.83, 0.17],\n",
       "       [0.84, 0.16],\n",
       "       [0.85, 0.15],\n",
       "       [0.86, 0.14],\n",
       "       [0.87, 0.13],\n",
       "       [0.88, 0.12],\n",
       "       [0.89, 0.11],\n",
       "       [0.9 , 0.1 ],\n",
       "       [0.91, 0.09],\n",
       "       [0.92, 0.08],\n",
       "       [0.93, 0.07],\n",
       "       [0.94, 0.06],\n",
       "       [0.95, 0.05],\n",
       "       [0.96, 0.04],\n",
       "       [0.97, 0.03],\n",
       "       [0.98, 0.02],\n",
       "       [0.99, 0.01]])"
      ]
     },
     "execution_count": 6,
     "metadata": {},
     "output_type": "execute_result"
    }
   ],
   "source": [
    "two = np.array([[i/100.0, 1.0 - i/100.0] for i in range(1, 100)])\n",
    "print(\"Computed shape:\", two.shape)\n",
    "\n",
    "# Remove any duplicates\n",
    "unique_rows = np.unique(two, axis=0)\n",
    "print(\"Unique shape:\", unique_rows.shape)\n",
    "file_path = path +\"/matrix_2\"\n",
    "np.save(file_path, unique_rows)\n",
    "unique_rows"
   ]
  },
  {
   "cell_type": "code",
   "execution_count": null,
   "metadata": {},
   "outputs": [],
   "source": []
  },
  {
   "cell_type": "markdown",
   "metadata": {},
   "source": [
    "Three Element Matrix generation"
   ]
  },
  {
   "cell_type": "code",
   "execution_count": 8,
   "metadata": {},
   "outputs": [
    {
     "name": "stdout",
     "output_type": "stream",
     "text": [
      "[[0.01 0.01 0.98]\n",
      " [0.01 0.02 0.97]\n",
      " [0.01 0.03 0.96]\n",
      " ...\n",
      " [0.97 0.01 0.02]\n",
      " [0.97 0.02 0.01]\n",
      " [0.98 0.01 0.01]]\n",
      "Computed shape: (4796, 3)\n",
      "Unique shape: (4796, 3)\n"
     ]
    },
    {
     "data": {
      "text/plain": [
       "array([[0.01, 0.01, 0.98],\n",
       "       [0.01, 0.02, 0.97],\n",
       "       [0.01, 0.03, 0.96],\n",
       "       ...,\n",
       "       [0.97, 0.01, 0.02],\n",
       "       [0.97, 0.02, 0.01],\n",
       "       [0.98, 0.01, 0.01]])"
      ]
     },
     "execution_count": 8,
     "metadata": {},
     "output_type": "execute_result"
    }
   ],
   "source": [
    "import numpy as np\n",
    "\n",
    "# Define the constraints\n",
    "min_value = 0.01\n",
    "max_value = 0.99\n",
    "step = 0.01\n",
    "\n",
    "# Create the array\n",
    "rows = []\n",
    "for a in np.arange(min_value, max_value + step, step):\n",
    "    for b in np.arange(min_value, max_value + step, step):\n",
    "        c = 1 - a - b\n",
    "        if min_value <= c <= max_value:\n",
    "            rows.append([a, b, c])\n",
    "\n",
    "three = np.array(rows)\n",
    "\n",
    "print(three)\n",
    "# print(\"Number of rows:\", len(rows))\n",
    "print(\"Computed shape:\", three.shape)\n",
    "\n",
    "# Remove any duplicates\n",
    "unique_rows = np.unique(three, axis=0)\n",
    "print(\"Unique shape:\", unique_rows.shape)\n",
    "file_path = path +\"/matrix_3\"\n",
    "np.save(file_path, unique_rows)\n",
    "unique_rows"
   ]
  },
  {
   "cell_type": "code",
   "execution_count": 9,
   "metadata": {},
   "outputs": [
    {
     "data": {
      "text/plain": [
       "array([0.01, 0.02, 0.03, 0.04, 0.05, 0.06, 0.07, 0.08, 0.09, 0.1 , 0.11,\n",
       "       0.12, 0.13, 0.14, 0.15, 0.16, 0.17, 0.18, 0.19, 0.2 , 0.21, 0.22,\n",
       "       0.23, 0.24, 0.25, 0.26, 0.27, 0.28, 0.29, 0.3 , 0.31, 0.32, 0.33,\n",
       "       0.34, 0.35, 0.36, 0.37, 0.38, 0.39, 0.4 , 0.41, 0.42, 0.43, 0.44,\n",
       "       0.45, 0.46, 0.47, 0.48, 0.49, 0.5 , 0.51, 0.52, 0.53, 0.54, 0.55,\n",
       "       0.56, 0.57, 0.58, 0.59, 0.6 , 0.61, 0.62, 0.63, 0.64, 0.65, 0.66,\n",
       "       0.67, 0.68, 0.69, 0.7 , 0.71, 0.72, 0.73, 0.74, 0.75, 0.76, 0.77,\n",
       "       0.78, 0.79, 0.8 , 0.81, 0.82, 0.83, 0.84, 0.85, 0.86, 0.87, 0.88,\n",
       "       0.89, 0.9 , 0.91, 0.92, 0.93, 0.94, 0.95, 0.96, 0.97, 0.98])"
      ]
     },
     "execution_count": 9,
     "metadata": {},
     "output_type": "execute_result"
    }
   ],
   "source": [
    "np.unique(unique_rows[:,0])"
   ]
  },
  {
   "cell_type": "markdown",
   "metadata": {},
   "source": [
    "Four Element Matrix generation"
   ]
  },
  {
   "cell_type": "code",
   "execution_count": 10,
   "metadata": {},
   "outputs": [
    {
     "name": "stdout",
     "output_type": "stream",
     "text": [
      "[[0.01 0.01 0.01 0.97]\n",
      " [0.01 0.01 0.02 0.96]\n",
      " [0.01 0.01 0.03 0.95]\n",
      " ...\n",
      " [0.95 0.02 0.01 0.02]\n",
      " [0.96 0.01 0.01 0.02]\n",
      " [0.97 0.01 0.01 0.01]]\n",
      "Computed shape: (153705, 4)\n",
      "Unique shape: (153705, 4)\n"
     ]
    },
    {
     "data": {
      "text/plain": [
       "array([[0.01, 0.01, 0.01, 0.97],\n",
       "       [0.01, 0.01, 0.02, 0.96],\n",
       "       [0.01, 0.01, 0.03, 0.95],\n",
       "       ...,\n",
       "       [0.95, 0.02, 0.01, 0.02],\n",
       "       [0.96, 0.01, 0.01, 0.02],\n",
       "       [0.97, 0.01, 0.01, 0.01]])"
      ]
     },
     "execution_count": 10,
     "metadata": {},
     "output_type": "execute_result"
    }
   ],
   "source": [
    "import numpy as np\n",
    "\n",
    "# Define the constraints\n",
    "min_value = 0.01\n",
    "max_value = 0.99\n",
    "step = 0.01\n",
    "\n",
    "# Create the array\n",
    "rows = []\n",
    "for a in np.arange(min_value, max_value + step, step):\n",
    "    for b in np.arange(min_value, max_value + step, step):\n",
    "        for c in np.arange(min_value, max_value + step, step):\n",
    "            d = 1 - a - b - c\n",
    "            if min_value <= d <= max_value:\n",
    "                rows.append([a, b, c, d])\n",
    "\n",
    "four = np.array(rows)\n",
    "\n",
    "print(four)\n",
    "# print(\"Number of rows:\", len(rows))\n",
    "print(\"Computed shape:\", four.shape)\n",
    "\n",
    "# Remove any duplicates\n",
    "unique_rows = np.unique(four, axis=0)\n",
    "print(\"Unique shape:\", unique_rows.shape)\n",
    "file_path = path +\"/matrix_4\"\n",
    "np.save(file_path, unique_rows)\n",
    "unique_rows"
   ]
  },
  {
   "cell_type": "code",
   "execution_count": 11,
   "metadata": {},
   "outputs": [
    {
     "data": {
      "text/plain": [
       "array([0.01, 0.02, 0.03, 0.04, 0.05, 0.06, 0.07, 0.08, 0.09, 0.1 , 0.11,\n",
       "       0.12, 0.13, 0.14, 0.15, 0.16, 0.17, 0.18, 0.19, 0.2 , 0.21, 0.22,\n",
       "       0.23, 0.24, 0.25, 0.26, 0.27, 0.28, 0.29, 0.3 , 0.31, 0.32, 0.33,\n",
       "       0.34, 0.35, 0.36, 0.37, 0.38, 0.39, 0.4 , 0.41, 0.42, 0.43, 0.44,\n",
       "       0.45, 0.46, 0.47, 0.48, 0.49, 0.5 , 0.51, 0.52, 0.53, 0.54, 0.55,\n",
       "       0.56, 0.57, 0.58, 0.59, 0.6 , 0.61, 0.62, 0.63, 0.64, 0.65, 0.66,\n",
       "       0.67, 0.68, 0.69, 0.7 , 0.71, 0.72, 0.73, 0.74, 0.75, 0.76, 0.77,\n",
       "       0.78, 0.79, 0.8 , 0.81, 0.82, 0.83, 0.84, 0.85, 0.86, 0.87, 0.88,\n",
       "       0.89, 0.9 , 0.91, 0.92, 0.93, 0.94, 0.95, 0.96, 0.97])"
      ]
     },
     "execution_count": 11,
     "metadata": {},
     "output_type": "execute_result"
    }
   ],
   "source": [
    "np.unique(unique_rows[:,0])"
   ]
  },
  {
   "cell_type": "markdown",
   "metadata": {},
   "source": [
    "Five Element Matrix Generation"
   ]
  },
  {
   "cell_type": "code",
   "execution_count": 12,
   "metadata": {},
   "outputs": [
    {
     "name": "stdout",
     "output_type": "stream",
     "text": [
      "[[0.01 0.01 0.01 0.01 0.96]\n",
      " [0.01 0.01 0.01 0.02 0.95]\n",
      " [0.01 0.01 0.01 0.03 0.94]\n",
      " ...\n",
      " [0.94 0.01 0.02 0.01 0.02]\n",
      " [0.94 0.02 0.01 0.01 0.02]\n",
      " [0.95 0.01 0.01 0.01 0.02]]\n",
      "Computed shape: (3658030, 5)\n",
      "Unique shape: (3658030, 5)\n"
     ]
    },
    {
     "data": {
      "text/plain": [
       "array([[0.01, 0.01, 0.01, 0.01, 0.96],\n",
       "       [0.01, 0.01, 0.01, 0.02, 0.95],\n",
       "       [0.01, 0.01, 0.01, 0.03, 0.94],\n",
       "       ...,\n",
       "       [0.94, 0.01, 0.02, 0.01, 0.02],\n",
       "       [0.94, 0.02, 0.01, 0.01, 0.02],\n",
       "       [0.95, 0.01, 0.01, 0.01, 0.02]])"
      ]
     },
     "execution_count": 12,
     "metadata": {},
     "output_type": "execute_result"
    }
   ],
   "source": [
    "import numpy as np\n",
    "\n",
    "# Define the constraints\n",
    "min_value = 0.01\n",
    "max_value = 0.99\n",
    "step = 0.01\n",
    "\n",
    "# Create the array\n",
    "rows = []\n",
    "for a in np.arange(min_value, max_value + step, step):\n",
    "    for b in np.arange(min_value, max_value + step, step):\n",
    "        for c in np.arange(min_value, max_value + step, step):\n",
    "            for d in np.arange(min_value, max_value + step, step):\n",
    "                e = 1 - a - b - c - d\n",
    "                if min_value <= e <= max_value:\n",
    "                    rows.append([a, b, c, d, e])\n",
    "\n",
    "five = np.array(rows)\n",
    "\n",
    "print(five)\n",
    "# print(\"Number of rows:\", len(rows))\n",
    "print(\"Computed shape:\", five.shape)\n",
    "\n",
    "# Remove any duplicates\n",
    "unique_rows = np.unique(five, axis=0)\n",
    "print(\"Unique shape:\", unique_rows.shape)\n",
    "file_path = path +\"/matrix_5\"\n",
    "np.save(file_path, unique_rows)\n",
    "unique_rows"
   ]
  },
  {
   "cell_type": "code",
   "execution_count": 13,
   "metadata": {},
   "outputs": [
    {
     "data": {
      "text/plain": [
       "array([0.01, 0.02, 0.03, 0.04, 0.05, 0.06, 0.07, 0.08, 0.09, 0.1 , 0.11,\n",
       "       0.12, 0.13, 0.14, 0.15, 0.16, 0.17, 0.18, 0.19, 0.2 , 0.21, 0.22,\n",
       "       0.23, 0.24, 0.25, 0.26, 0.27, 0.28, 0.29, 0.3 , 0.31, 0.32, 0.33,\n",
       "       0.34, 0.35, 0.36, 0.37, 0.38, 0.39, 0.4 , 0.41, 0.42, 0.43, 0.44,\n",
       "       0.45, 0.46, 0.47, 0.48, 0.49, 0.5 , 0.51, 0.52, 0.53, 0.54, 0.55,\n",
       "       0.56, 0.57, 0.58, 0.59, 0.6 , 0.61, 0.62, 0.63, 0.64, 0.65, 0.66,\n",
       "       0.67, 0.68, 0.69, 0.7 , 0.71, 0.72, 0.73, 0.74, 0.75, 0.76, 0.77,\n",
       "       0.78, 0.79, 0.8 , 0.81, 0.82, 0.83, 0.84, 0.85, 0.86, 0.87, 0.88,\n",
       "       0.89, 0.9 , 0.91, 0.92, 0.93, 0.94, 0.95])"
      ]
     },
     "execution_count": 13,
     "metadata": {},
     "output_type": "execute_result"
    }
   ],
   "source": [
    "np.unique(unique_rows[:,0])"
   ]
  },
  {
   "cell_type": "markdown",
   "metadata": {},
   "source": [
    "Six Element Matrix Generation"
   ]
  },
  {
   "cell_type": "code",
   "execution_count": 3,
   "metadata": {},
   "outputs": [
    {
     "name": "stdout",
     "output_type": "stream",
     "text": [
      "Total combinations: 141164\n"
     ]
    }
   ],
   "source": [
    "# Finding and Saving Combinations\n",
    "import numpy as np\n",
    "\n",
    "def find_combinations(start, partial_combination, remaining_numbers, all_combinations):\n",
    "    if remaining_numbers == 0 and sum(partial_combination) == 1.0:\n",
    "        all_combinations.append(partial_combination)\n",
    "        return\n",
    "    \n",
    "    if remaining_numbers == 0:\n",
    "        return\n",
    "\n",
    "    for i in range(start, 100):\n",
    "        value = i * 0.01\n",
    "        find_combinations(i, partial_combination + [value], remaining_numbers - 1, all_combinations)\n",
    "\n",
    "all_combinations = []\n",
    "find_combinations(1, [], 6, all_combinations)\n",
    "\n",
    "# Convert to numpy array and save to a file\n",
    "all_combinations_np = np.array(all_combinations)\n",
    "np.save('New/combinations.npy', all_combinations_np)\n",
    "\n",
    "print(\"Total combinations:\", len(all_combinations))\n"
   ]
  },
  {
   "cell_type": "code",
   "execution_count": 5,
   "metadata": {},
   "outputs": [
    {
     "name": "stdout",
     "output_type": "stream",
     "text": [
      "Unique shape: (141164, 6)\n"
     ]
    },
    {
     "data": {
      "text/plain": [
       "array([[0.01, 0.01, 0.01, 0.01, 0.01, 0.95],\n",
       "       [0.01, 0.01, 0.01, 0.01, 0.02, 0.94],\n",
       "       [0.01, 0.01, 0.01, 0.01, 0.03, 0.93],\n",
       "       [0.01, 0.01, 0.01, 0.01, 0.04, 0.92],\n",
       "       [0.01, 0.01, 0.01, 0.01, 0.05, 0.91],\n",
       "       [0.01, 0.01, 0.01, 0.01, 0.06, 0.9 ],\n",
       "       [0.01, 0.01, 0.01, 0.01, 0.07, 0.89],\n",
       "       [0.01, 0.01, 0.01, 0.01, 0.08, 0.88],\n",
       "       [0.01, 0.01, 0.01, 0.01, 0.09, 0.87],\n",
       "       [0.01, 0.01, 0.01, 0.01, 0.1 , 0.86],\n",
       "       [0.01, 0.01, 0.01, 0.01, 0.11, 0.85],\n",
       "       [0.01, 0.01, 0.01, 0.01, 0.12, 0.84],\n",
       "       [0.01, 0.01, 0.01, 0.01, 0.13, 0.83],\n",
       "       [0.01, 0.01, 0.01, 0.01, 0.14, 0.82],\n",
       "       [0.01, 0.01, 0.01, 0.01, 0.15, 0.81],\n",
       "       [0.01, 0.01, 0.01, 0.01, 0.16, 0.8 ],\n",
       "       [0.01, 0.01, 0.01, 0.01, 0.17, 0.79],\n",
       "       [0.01, 0.01, 0.01, 0.01, 0.18, 0.78],\n",
       "       [0.01, 0.01, 0.01, 0.01, 0.19, 0.77],\n",
       "       [0.01, 0.01, 0.01, 0.01, 0.2 , 0.76]])"
      ]
     },
     "execution_count": 5,
     "metadata": {},
     "output_type": "execute_result"
    }
   ],
   "source": [
    "loaded_combinations = np.load('New/combinations.npy')\n",
    "\n",
    "# Remove any duplicates\n",
    "unique_rows = np.unique(loaded_combinations, axis=0)\n",
    "print(\"Unique shape:\", unique_rows.shape) # SHape[0] is same after applying unique, so no duplicates found\n",
    "\n",
    "loaded_combinations[:20]"
   ]
  },
  {
   "cell_type": "code",
   "execution_count": 6,
   "metadata": {},
   "outputs": [
    {
     "name": "stdout",
     "output_type": "stream",
     "text": [
      "[[0.01 0.01 0.01 0.01 0.01 0.95]\n",
      " [0.01 0.01 0.01 0.01 0.95 0.01]\n",
      " [0.01 0.01 0.01 0.01 0.01 0.95]\n",
      " ...\n",
      " [0.17 0.17 0.17 0.16 0.17 0.16]\n",
      " [0.17 0.17 0.17 0.17 0.16 0.16]\n",
      " [0.17 0.17 0.17 0.17 0.16 0.16]]\n",
      "Computed shape: (101638080, 6)\n",
      "Unique shape: (70560204, 6)\n"
     ]
    },
    {
     "data": {
      "text/plain": [
       "array([[0.01, 0.01, 0.01, 0.01, 0.01, 0.95],\n",
       "       [0.01, 0.01, 0.01, 0.01, 0.02, 0.94],\n",
       "       [0.01, 0.01, 0.01, 0.01, 0.03, 0.93],\n",
       "       ...,\n",
       "       [0.94, 0.01, 0.02, 0.01, 0.01, 0.01],\n",
       "       [0.94, 0.02, 0.01, 0.01, 0.01, 0.01],\n",
       "       [0.95, 0.01, 0.01, 0.01, 0.01, 0.01]])"
      ]
     },
     "execution_count": 6,
     "metadata": {},
     "output_type": "execute_result"
    }
   ],
   "source": [
    "# Loading Combinations and Finding Permutations\n",
    "from itertools import permutations\n",
    "import numpy as np\n",
    "\n",
    "def generate_permutations(all_combinations):\n",
    "    all_permutations = []\n",
    "    for combination in all_combinations:\n",
    "        all_permutations.extend(list(permutations(combination, 6)))\n",
    "    return np.array(all_permutations)\n",
    "\n",
    "# Load combinations from the saved file\n",
    "loaded_combinations = np.load('New/combinations.npy')\n",
    "\n",
    "all_permutations = generate_permutations(loaded_combinations)\n",
    "\n",
    "# Print the shape of the array to verify it's correct\n",
    "# print(\"Shape of the array:\", all_permutations.shape)\n",
    "# Print the first 10 rows to check if everything is fine\n",
    "# print(all_permutations[:10])\n",
    "\n",
    "# Convert the unique_rows set to a NumPy array\n",
    "six = np.array(list(all_permutations))\n",
    "\n",
    "print(six)\n",
    "print(\"Computed shape:\", six.shape)\n",
    "\n",
    "# Remove any duplicates\n",
    "unique_rows = np.unique(six, axis=0)\n",
    "print(\"Unique shape:\", unique_rows.shape)\n",
    "file_path = path +\"/matrix_6\"\n",
    "np.save(file_path, unique_rows)\n",
    "unique_rows\n"
   ]
  },
  {
   "cell_type": "code",
   "execution_count": 7,
   "metadata": {},
   "outputs": [
    {
     "data": {
      "text/plain": [
       "array([0.01, 0.02, 0.03, 0.04, 0.05, 0.06, 0.07, 0.08, 0.09, 0.1 , 0.11,\n",
       "       0.12, 0.13, 0.14, 0.15, 0.16, 0.17, 0.18, 0.19, 0.2 , 0.21, 0.22,\n",
       "       0.23, 0.24, 0.25, 0.26, 0.27, 0.28, 0.29, 0.3 , 0.31, 0.32, 0.33,\n",
       "       0.34, 0.35, 0.36, 0.37, 0.38, 0.39, 0.4 , 0.41, 0.42, 0.43, 0.44,\n",
       "       0.45, 0.46, 0.47, 0.48, 0.49, 0.5 , 0.51, 0.52, 0.53, 0.54, 0.55,\n",
       "       0.56, 0.57, 0.58, 0.59, 0.6 , 0.61, 0.62, 0.63, 0.64, 0.65, 0.66,\n",
       "       0.67, 0.68, 0.69, 0.7 , 0.71, 0.72, 0.73, 0.74, 0.75, 0.76, 0.77,\n",
       "       0.78, 0.79, 0.8 , 0.81, 0.82, 0.83, 0.84, 0.85, 0.86, 0.87, 0.88,\n",
       "       0.89, 0.9 , 0.91, 0.92, 0.93, 0.94, 0.95])"
      ]
     },
     "execution_count": 7,
     "metadata": {},
     "output_type": "execute_result"
    }
   ],
   "source": [
    "six = np.load('New/matrix_6.npy')\n",
    "np.unique(six[:,0])"
   ]
  },
  {
   "cell_type": "code",
   "execution_count": null,
   "metadata": {},
   "outputs": [],
   "source": []
  },
  {
   "cell_type": "code",
   "execution_count": null,
   "metadata": {},
   "outputs": [],
   "source": []
  },
  {
   "cell_type": "code",
   "execution_count": null,
   "metadata": {},
   "outputs": [],
   "source": []
  },
  {
   "cell_type": "code",
   "execution_count": null,
   "metadata": {},
   "outputs": [],
   "source": []
  },
  {
   "cell_type": "code",
   "execution_count": null,
   "metadata": {},
   "outputs": [],
   "source": []
  },
  {
   "cell_type": "code",
   "execution_count": null,
   "metadata": {},
   "outputs": [],
   "source": []
  },
  {
   "cell_type": "code",
   "execution_count": null,
   "metadata": {},
   "outputs": [],
   "source": []
  },
  {
   "cell_type": "code",
   "execution_count": null,
   "metadata": {},
   "outputs": [],
   "source": []
  },
  {
   "cell_type": "code",
   "execution_count": null,
   "metadata": {},
   "outputs": [],
   "source": []
  },
  {
   "cell_type": "code",
   "execution_count": null,
   "metadata": {},
   "outputs": [],
   "source": []
  },
  {
   "cell_type": "code",
   "execution_count": null,
   "metadata": {},
   "outputs": [],
   "source": []
  },
  {
   "cell_type": "code",
   "execution_count": null,
   "metadata": {},
   "outputs": [],
   "source": []
  },
  {
   "cell_type": "code",
   "execution_count": null,
   "metadata": {},
   "outputs": [],
   "source": []
  },
  {
   "cell_type": "code",
   "execution_count": null,
   "metadata": {},
   "outputs": [],
   "source": []
  },
  {
   "cell_type": "code",
   "execution_count": null,
   "metadata": {},
   "outputs": [],
   "source": []
  },
  {
   "cell_type": "code",
   "execution_count": null,
   "metadata": {},
   "outputs": [],
   "source": []
  },
  {
   "cell_type": "code",
   "execution_count": null,
   "metadata": {},
   "outputs": [],
   "source": []
  },
  {
   "cell_type": "code",
   "execution_count": null,
   "metadata": {},
   "outputs": [],
   "source": []
  }
 ],
 "metadata": {
  "kernelspec": {
   "display_name": "langchain_env39",
   "language": "python",
   "name": "python3"
  },
  "language_info": {
   "codemirror_mode": {
    "name": "ipython",
    "version": 3
   },
   "file_extension": ".py",
   "mimetype": "text/x-python",
   "name": "python",
   "nbconvert_exporter": "python",
   "pygments_lexer": "ipython3",
   "version": "3.9.17"
  },
  "orig_nbformat": 4
 },
 "nbformat": 4,
 "nbformat_minor": 2
}
